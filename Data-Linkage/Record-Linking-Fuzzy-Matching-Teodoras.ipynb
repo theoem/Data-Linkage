{
  "nbformat": 4,
  "nbformat_minor": 0,
  "metadata": {
    "kernelspec": {
      "display_name": "Python 3.7.2 64-bit",
      "language": "python",
      "name": "python37264bit24e6adcd4e9b4d8bb6ff9239d4d45105"
    },
    "language_info": {
      "codemirror_mode": {
        "name": "ipython",
        "version": 3
      },
      "file_extension": ".py",
      "mimetype": "text/x-python",
      "name": "python",
      "nbconvert_exporter": "python",
      "pygments_lexer": "ipython3",
      "version": "3.7.2"
    },
    "colab": {
      "name": "Record-Linking-Fuzzy-Matching-modified.ipynb",
      "provenance": [],
      "collapsed_sections": [
        "j6j9vlLRggKL"
      ],
      "include_colab_link": true
    }
  },
  "cells": [
    {
      "cell_type": "markdown",
      "metadata": {
        "id": "view-in-github",
        "colab_type": "text"
      },
      "source": [
        "<a href=\"https://colab.research.google.com/github/theoem/Data-Linkage/blob/master/Data-Linkage/Record-Linking-Fuzzy-Matching-Teodoras.ipynb\" target=\"_parent\"><img src=\"https://colab.research.google.com/assets/colab-badge.svg\" alt=\"Open In Colab\"/></a>"
      ]
    },
    {
      "cell_type": "markdown",
      "metadata": {
        "id": "XO5trSQBggJw"
      },
      "source": [
        "## Python Tools for Record Linking and Fuzzy Matching\n",
        "\n",
        "This notebook accompanies the [article](https://pbpython.com/record-linking.html) on Practical Business Python\n",
        "\n",
        "This notebook relies on [fuzzymatcher](https://github.com/RobinL/fuzzymatcher) and the [Python Record Linkage Toolkit](https://recordlinkage.readthedocs.io/en/latest/about.html)\n"
      ]
    },
    {
      "cell_type": "code",
      "metadata": {
        "colab": {
          "base_uri": "https://localhost:8080/"
        },
        "id": "IM0SEJhkgifV",
        "outputId": "6b095f86-d93f-4b2b-ba65-459782e9ed3b"
      },
      "source": [
        "!pip install fuzzymatcher"
      ],
      "execution_count": 118,
      "outputs": [
        {
          "output_type": "stream",
          "name": "stdout",
          "text": [
            "Requirement already satisfied: fuzzymatcher in /usr/local/lib/python3.7/dist-packages (0.0.5)\n",
            "Requirement already satisfied: pandas in /usr/local/lib/python3.7/dist-packages (from fuzzymatcher) (1.1.5)\n",
            "Requirement already satisfied: python-Levenshtein in /usr/local/lib/python3.7/dist-packages (from fuzzymatcher) (0.12.2)\n",
            "Requirement already satisfied: python-dateutil in /usr/local/lib/python3.7/dist-packages (from fuzzymatcher) (2.8.2)\n",
            "Requirement already satisfied: metaphone in /usr/local/lib/python3.7/dist-packages (from fuzzymatcher) (0.6)\n",
            "Requirement already satisfied: fuzzywuzzy in /usr/local/lib/python3.7/dist-packages (from fuzzymatcher) (0.18.0)\n",
            "Requirement already satisfied: numpy>=1.15.4 in /usr/local/lib/python3.7/dist-packages (from pandas->fuzzymatcher) (1.19.5)\n",
            "Requirement already satisfied: pytz>=2017.2 in /usr/local/lib/python3.7/dist-packages (from pandas->fuzzymatcher) (2018.9)\n",
            "Requirement already satisfied: six>=1.5 in /usr/local/lib/python3.7/dist-packages (from python-dateutil->fuzzymatcher) (1.15.0)\n",
            "Requirement already satisfied: setuptools in /usr/local/lib/python3.7/dist-packages (from python-Levenshtein->fuzzymatcher) (57.4.0)\n"
          ]
        }
      ]
    },
    {
      "cell_type": "code",
      "metadata": {
        "colab": {
          "base_uri": "https://localhost:8080/"
        },
        "id": "DgHTz3fpgt69",
        "outputId": "1ee2be80-8711-4cbf-be46-803ac20af92d"
      },
      "source": [
        "!pip install recordlinkage"
      ],
      "execution_count": 119,
      "outputs": [
        {
          "output_type": "stream",
          "name": "stdout",
          "text": [
            "Requirement already satisfied: recordlinkage in /usr/local/lib/python3.7/dist-packages (0.14)\n",
            "Requirement already satisfied: numpy>=1.13.0 in /usr/local/lib/python3.7/dist-packages (from recordlinkage) (1.19.5)\n",
            "Requirement already satisfied: scipy>=1 in /usr/local/lib/python3.7/dist-packages (from recordlinkage) (1.4.1)\n",
            "Requirement already satisfied: pandas>=0.23 in /usr/local/lib/python3.7/dist-packages (from recordlinkage) (1.1.5)\n",
            "Requirement already satisfied: joblib in /usr/local/lib/python3.7/dist-packages (from recordlinkage) (1.1.0)\n",
            "Requirement already satisfied: jellyfish>=0.5.4 in /usr/local/lib/python3.7/dist-packages (from recordlinkage) (0.8.9)\n",
            "Requirement already satisfied: scikit-learn>=0.19.0 in /usr/local/lib/python3.7/dist-packages (from recordlinkage) (1.0.1)\n",
            "Requirement already satisfied: pytz>=2017.2 in /usr/local/lib/python3.7/dist-packages (from pandas>=0.23->recordlinkage) (2018.9)\n",
            "Requirement already satisfied: python-dateutil>=2.7.3 in /usr/local/lib/python3.7/dist-packages (from pandas>=0.23->recordlinkage) (2.8.2)\n",
            "Requirement already satisfied: six>=1.5 in /usr/local/lib/python3.7/dist-packages (from python-dateutil>=2.7.3->pandas>=0.23->recordlinkage) (1.15.0)\n",
            "Requirement already satisfied: threadpoolctl>=2.0.0 in /usr/local/lib/python3.7/dist-packages (from scikit-learn>=0.19.0->recordlinkage) (3.0.0)\n"
          ]
        }
      ]
    },
    {
      "cell_type": "code",
      "metadata": {
        "id": "lHpXnLdtggJ2"
      },
      "source": [
        "import pandas as pd\n",
        "from pathlib import Path\n",
        "import fuzzymatcher\n",
        "import recordlinkage"
      ],
      "execution_count": 120,
      "outputs": []
    },
    {
      "cell_type": "markdown",
      "metadata": {
        "id": "GdM7SiysggJ4"
      },
      "source": [
        "### Example using fuzzymatcher"
      ]
    },
    {
      "cell_type": "code",
      "metadata": {
        "id": "6qSUVatxggJ5"
      },
      "source": [
        "acm_data = pd.read_csv(\n",
        "    'https://raw.githubusercontent.com/PaoloMissier/CSC3831-2021-22/main/LINKAGE/DATASETS/ACM.csv'\n",
        ")\n",
        "dblp_data = pd.read_csv(\n",
        "    'https://raw.githubusercontent.com/PaoloMissier/CSC3831-2021-22/main/LINKAGE/DATASETS/dblp.csv',\n",
        "    encoding = 'latin_1' \n",
        ")"
      ],
      "execution_count": 121,
      "outputs": []
    },
    {
      "cell_type": "code",
      "metadata": {
        "colab": {
          "base_uri": "https://localhost:8080/",
          "height": 206
        },
        "id": "nAHXG_6KggJ6",
        "outputId": "fe17ccd0-2061-4aa7-ef06-b7e02475b8c6"
      },
      "source": [
        "acm_data.head()"
      ],
      "execution_count": 122,
      "outputs": [
        {
          "output_type": "execute_result",
          "data": {
            "text/html": [
              "<div>\n",
              "<style scoped>\n",
              "    .dataframe tbody tr th:only-of-type {\n",
              "        vertical-align: middle;\n",
              "    }\n",
              "\n",
              "    .dataframe tbody tr th {\n",
              "        vertical-align: top;\n",
              "    }\n",
              "\n",
              "    .dataframe thead th {\n",
              "        text-align: right;\n",
              "    }\n",
              "</style>\n",
              "<table border=\"1\" class=\"dataframe\">\n",
              "  <thead>\n",
              "    <tr style=\"text-align: right;\">\n",
              "      <th></th>\n",
              "      <th>Unnamed: 0</th>\n",
              "      <th>id</th>\n",
              "      <th>title</th>\n",
              "      <th>authors</th>\n",
              "      <th>venue</th>\n",
              "      <th>year</th>\n",
              "    </tr>\n",
              "  </thead>\n",
              "  <tbody>\n",
              "    <tr>\n",
              "      <th>0</th>\n",
              "      <td>0</td>\n",
              "      <td>304586</td>\n",
              "      <td>The WASA2 object-oriented workflow management ...</td>\n",
              "      <td>Gottfried Vossen, Mathias Weske</td>\n",
              "      <td>International Conference on Management of Data</td>\n",
              "      <td>1999</td>\n",
              "    </tr>\n",
              "    <tr>\n",
              "      <th>1</th>\n",
              "      <td>1</td>\n",
              "      <td>304587</td>\n",
              "      <td>A user-centered interface for querying distrib...</td>\n",
              "      <td>Isabel F. Cruz, Kimberly M. James</td>\n",
              "      <td>International Conference on Management of Data</td>\n",
              "      <td>1999</td>\n",
              "    </tr>\n",
              "    <tr>\n",
              "      <th>2</th>\n",
              "      <td>2</td>\n",
              "      <td>304589</td>\n",
              "      <td>World Wide Database-integrating the Web, CORBA...</td>\n",
              "      <td>Athman Bouguettaya, Boualem Benatallah, Lily H...</td>\n",
              "      <td>International Conference on Management of Data</td>\n",
              "      <td>1999</td>\n",
              "    </tr>\n",
              "    <tr>\n",
              "      <th>3</th>\n",
              "      <td>3</td>\n",
              "      <td>304590</td>\n",
              "      <td>XML-based information mediation with MIX</td>\n",
              "      <td>Chaitan Baru, Amarnath Gupta, Bertram Lud&amp;#228...</td>\n",
              "      <td>International Conference on Management of Data</td>\n",
              "      <td>1999</td>\n",
              "    </tr>\n",
              "    <tr>\n",
              "      <th>4</th>\n",
              "      <td>4</td>\n",
              "      <td>304582</td>\n",
              "      <td>The CCUBE constraint object-oriented database ...</td>\n",
              "      <td>Alexander Brodsky, Victor E. Segal, Jia Chen, ...</td>\n",
              "      <td>International Conference on Management of Data</td>\n",
              "      <td>1999</td>\n",
              "    </tr>\n",
              "  </tbody>\n",
              "</table>\n",
              "</div>"
            ],
            "text/plain": [
              "   Unnamed: 0      id  ...                                           venue  year\n",
              "0           0  304586  ...  International Conference on Management of Data  1999\n",
              "1           1  304587  ...  International Conference on Management of Data  1999\n",
              "2           2  304589  ...  International Conference on Management of Data  1999\n",
              "3           3  304590  ...  International Conference on Management of Data  1999\n",
              "4           4  304582  ...  International Conference on Management of Data  1999\n",
              "\n",
              "[5 rows x 6 columns]"
            ]
          },
          "metadata": {},
          "execution_count": 122
        }
      ]
    },
    {
      "cell_type": "code",
      "metadata": {
        "colab": {
          "base_uri": "https://localhost:8080/",
          "height": 206
        },
        "id": "VIP_Don0ggJ7",
        "outputId": "1946297e-01dc-4c15-91a7-d847be83c687"
      },
      "source": [
        "dblp_data.head()"
      ],
      "execution_count": 123,
      "outputs": [
        {
          "output_type": "execute_result",
          "data": {
            "text/html": [
              "<div>\n",
              "<style scoped>\n",
              "    .dataframe tbody tr th:only-of-type {\n",
              "        vertical-align: middle;\n",
              "    }\n",
              "\n",
              "    .dataframe tbody tr th {\n",
              "        vertical-align: top;\n",
              "    }\n",
              "\n",
              "    .dataframe thead th {\n",
              "        text-align: right;\n",
              "    }\n",
              "</style>\n",
              "<table border=\"1\" class=\"dataframe\">\n",
              "  <thead>\n",
              "    <tr style=\"text-align: right;\">\n",
              "      <th></th>\n",
              "      <th>Unnamed: 0</th>\n",
              "      <th>id</th>\n",
              "      <th>title</th>\n",
              "      <th>authors</th>\n",
              "      <th>venue</th>\n",
              "      <th>year</th>\n",
              "    </tr>\n",
              "  </thead>\n",
              "  <tbody>\n",
              "    <tr>\n",
              "      <th>0</th>\n",
              "      <td>0</td>\n",
              "      <td>journals/sigmod/Mackay99</td>\n",
              "      <td>Semantic Integration of Environmental Models f...</td>\n",
              "      <td>D. Scott Mackay</td>\n",
              "      <td>SIGMOD Record</td>\n",
              "      <td>1999</td>\n",
              "    </tr>\n",
              "    <tr>\n",
              "      <th>1</th>\n",
              "      <td>1</td>\n",
              "      <td>conf/vldb/PoosalaI96</td>\n",
              "      <td>Estimation of Query-Result Distribution and it...</td>\n",
              "      <td>Viswanath Poosala, Yannis E. Ioannidis</td>\n",
              "      <td>VLDB</td>\n",
              "      <td>1996</td>\n",
              "    </tr>\n",
              "    <tr>\n",
              "      <th>2</th>\n",
              "      <td>2</td>\n",
              "      <td>conf/vldb/PalpanasSCP02</td>\n",
              "      <td>Incremental Maintenance for Non-Distributive A...</td>\n",
              "      <td>Themistoklis Palpanas, Richard Sidle, Hamid Pi...</td>\n",
              "      <td>VLDB</td>\n",
              "      <td>2002</td>\n",
              "    </tr>\n",
              "    <tr>\n",
              "      <th>3</th>\n",
              "      <td>3</td>\n",
              "      <td>conf/vldb/GardarinGT96</td>\n",
              "      <td>Cost-based Selection of Path Expression Proces...</td>\n",
              "      <td>Zhao-Hui Tang, Georges Gardarin, Jean-Robert G...</td>\n",
              "      <td>VLDB</td>\n",
              "      <td>1996</td>\n",
              "    </tr>\n",
              "    <tr>\n",
              "      <th>4</th>\n",
              "      <td>4</td>\n",
              "      <td>conf/vldb/HoelS95</td>\n",
              "      <td>Benchmarking Spatial Join Operations with Spat...</td>\n",
              "      <td>Erik G. Hoel, Hanan Samet</td>\n",
              "      <td>VLDB</td>\n",
              "      <td>1995</td>\n",
              "    </tr>\n",
              "  </tbody>\n",
              "</table>\n",
              "</div>"
            ],
            "text/plain": [
              "   Unnamed: 0                        id  ...          venue  year\n",
              "0           0  journals/sigmod/Mackay99  ...  SIGMOD Record  1999\n",
              "1           1      conf/vldb/PoosalaI96  ...           VLDB  1996\n",
              "2           2   conf/vldb/PalpanasSCP02  ...           VLDB  2002\n",
              "3           3    conf/vldb/GardarinGT96  ...           VLDB  1996\n",
              "4           4         conf/vldb/HoelS95  ...           VLDB  1995\n",
              "\n",
              "[5 rows x 6 columns]"
            ]
          },
          "metadata": {},
          "execution_count": 123
        }
      ]
    },
    {
      "cell_type": "code",
      "source": [
        "acm_data[acm_data.isnull().any(axis=1)]"
      ],
      "metadata": {
        "colab": {
          "base_uri": "https://localhost:8080/",
          "height": 488
        },
        "id": "gaVX7RrpQuST",
        "outputId": "b153f98d-96c0-4fa8-c9de-06651c717ffb"
      },
      "execution_count": 124,
      "outputs": [
        {
          "output_type": "execute_result",
          "data": {
            "text/html": [
              "<div>\n",
              "<style scoped>\n",
              "    .dataframe tbody tr th:only-of-type {\n",
              "        vertical-align: middle;\n",
              "    }\n",
              "\n",
              "    .dataframe tbody tr th {\n",
              "        vertical-align: top;\n",
              "    }\n",
              "\n",
              "    .dataframe thead th {\n",
              "        text-align: right;\n",
              "    }\n",
              "</style>\n",
              "<table border=\"1\" class=\"dataframe\">\n",
              "  <thead>\n",
              "    <tr style=\"text-align: right;\">\n",
              "      <th></th>\n",
              "      <th>Unnamed: 0</th>\n",
              "      <th>id</th>\n",
              "      <th>title</th>\n",
              "      <th>authors</th>\n",
              "      <th>venue</th>\n",
              "      <th>year</th>\n",
              "    </tr>\n",
              "  </thead>\n",
              "  <tbody>\n",
              "    <tr>\n",
              "      <th>884</th>\n",
              "      <td>884</td>\n",
              "      <td>671838</td>\n",
              "      <td>High-Performance and Scalability through Appli...</td>\n",
              "      <td>NaN</td>\n",
              "      <td>Very Large Data Bases</td>\n",
              "      <td>2000</td>\n",
              "    </tr>\n",
              "    <tr>\n",
              "      <th>1146</th>\n",
              "      <td>1146</td>\n",
              "      <td>673478</td>\n",
              "      <td>MineSet(tm): A System for High-End Data Mining...</td>\n",
              "      <td>NaN</td>\n",
              "      <td>Very Large Data Bases</td>\n",
              "      <td>1996</td>\n",
              "    </tr>\n",
              "    <tr>\n",
              "      <th>2128</th>\n",
              "      <td>2128</td>\n",
              "      <td>959075</td>\n",
              "      <td>Database principles</td>\n",
              "      <td>NaN</td>\n",
              "      <td>ACM SIGMOD Record</td>\n",
              "      <td>2003</td>\n",
              "    </tr>\n",
              "    <tr>\n",
              "      <th>2129</th>\n",
              "      <td>2129</td>\n",
              "      <td>959077</td>\n",
              "      <td>Book reviews</td>\n",
              "      <td>NaN</td>\n",
              "      <td>ACM SIGMOD Record</td>\n",
              "      <td>2003</td>\n",
              "    </tr>\n",
              "    <tr>\n",
              "      <th>2130</th>\n",
              "      <td>2130</td>\n",
              "      <td>959082</td>\n",
              "      <td>Reports</td>\n",
              "      <td>NaN</td>\n",
              "      <td>ACM SIGMOD Record</td>\n",
              "      <td>2003</td>\n",
              "    </tr>\n",
              "    <tr>\n",
              "      <th>2131</th>\n",
              "      <td>2131</td>\n",
              "      <td>945726</td>\n",
              "      <td>Special topic section on peer to peer data man...</td>\n",
              "      <td>NaN</td>\n",
              "      <td>ACM SIGMOD Record</td>\n",
              "      <td>2003</td>\n",
              "    </tr>\n",
              "    <tr>\n",
              "      <th>2132</th>\n",
              "      <td>2132</td>\n",
              "      <td>945738</td>\n",
              "      <td>Standards</td>\n",
              "      <td>NaN</td>\n",
              "      <td>ACM SIGMOD Record</td>\n",
              "      <td>2003</td>\n",
              "    </tr>\n",
              "    <tr>\n",
              "      <th>2133</th>\n",
              "      <td>2133</td>\n",
              "      <td>945740</td>\n",
              "      <td>Book reviews</td>\n",
              "      <td>NaN</td>\n",
              "      <td>ACM SIGMOD Record</td>\n",
              "      <td>2003</td>\n",
              "    </tr>\n",
              "    <tr>\n",
              "      <th>2134</th>\n",
              "      <td>2134</td>\n",
              "      <td>959063</td>\n",
              "      <td>Special section on sensor network technology a...</td>\n",
              "      <td>NaN</td>\n",
              "      <td>ACM SIGMOD Record</td>\n",
              "      <td>2003</td>\n",
              "    </tr>\n",
              "    <tr>\n",
              "      <th>2136</th>\n",
              "      <td>2136</td>\n",
              "      <td>758376</td>\n",
              "      <td>Author Index</td>\n",
              "      <td>NaN</td>\n",
              "      <td>Very Large Data Bases</td>\n",
              "      <td>2000</td>\n",
              "    </tr>\n",
              "    <tr>\n",
              "      <th>2139</th>\n",
              "      <td>2139</td>\n",
              "      <td>671674</td>\n",
              "      <td>Ordering Information, Conference Organizers, P...</td>\n",
              "      <td>NaN</td>\n",
              "      <td>Very Large Data Bases</td>\n",
              "      <td>2000</td>\n",
              "    </tr>\n",
              "    <tr>\n",
              "      <th>2145</th>\n",
              "      <td>2145</td>\n",
              "      <td>615225</td>\n",
              "      <td>Special issue on persistent object systems</td>\n",
              "      <td>NaN</td>\n",
              "      <td>The VLDB Journal &amp;mdash; The International Jou...</td>\n",
              "      <td>1995</td>\n",
              "    </tr>\n",
              "    <tr>\n",
              "      <th>2148</th>\n",
              "      <td>2148</td>\n",
              "      <td>604281</td>\n",
              "      <td>Systems and prototypes</td>\n",
              "      <td>NaN</td>\n",
              "      <td>ACM SIGMOD Record</td>\n",
              "      <td>2001</td>\n",
              "    </tr>\n",
              "    <tr>\n",
              "      <th>2150</th>\n",
              "      <td>2150</td>\n",
              "      <td>603868</td>\n",
              "      <td>Special section on advanced XML data processing</td>\n",
              "      <td>NaN</td>\n",
              "      <td>ACM SIGMOD Record</td>\n",
              "      <td>2001</td>\n",
              "    </tr>\n",
              "  </tbody>\n",
              "</table>\n",
              "</div>"
            ],
            "text/plain": [
              "      Unnamed: 0  ...  year\n",
              "884          884  ...  2000\n",
              "1146        1146  ...  1996\n",
              "2128        2128  ...  2003\n",
              "2129        2129  ...  2003\n",
              "2130        2130  ...  2003\n",
              "2131        2131  ...  2003\n",
              "2132        2132  ...  2003\n",
              "2133        2133  ...  2003\n",
              "2134        2134  ...  2003\n",
              "2136        2136  ...  2000\n",
              "2139        2139  ...  2000\n",
              "2145        2145  ...  1995\n",
              "2148        2148  ...  2001\n",
              "2150        2150  ...  2001\n",
              "\n",
              "[14 rows x 6 columns]"
            ]
          },
          "metadata": {},
          "execution_count": 124
        }
      ]
    },
    {
      "cell_type": "code",
      "source": [
        "acm_data.dropna(subset=['authors'], inplace=True)\n",
        "dblp_data.dropna(subset=['authors'], inplace=True)"
      ],
      "metadata": {
        "id": "pYvwL8qwQXLD"
      },
      "execution_count": 125,
      "outputs": []
    },
    {
      "cell_type": "code",
      "metadata": {
        "colab": {
          "base_uri": "https://localhost:8080/"
        },
        "id": "OY688KA8nqcG",
        "outputId": "4fec6305-5806-4f66-d690-861e38ea46c9"
      },
      "source": [
        "## dataframe sizes\n",
        "\n",
        "print(\"raw dataframe number of records :\")\n",
        "print(\"acm_data:  {x}\".format(x=acm_data['id'].count()))\n",
        "print(\"dblp_data:  {x}\".format(x=dblp_data['id'].count()))"
      ],
      "execution_count": 126,
      "outputs": [
        {
          "output_type": "stream",
          "name": "stdout",
          "text": [
            "raw dataframe number of records :\n",
            "acm_data:  2280\n",
            "dblp_data:  2616\n"
          ]
        }
      ]
    },
    {
      "cell_type": "markdown",
      "metadata": {
        "id": "t27h0dZR0Aar"
      },
      "source": [
        "## focus on \"authors\"\n",
        "## just pick authors starting with 'A' from both, sort and pick top 20 to visually compare\n"
      ]
    },
    {
      "cell_type": "code",
      "metadata": {
        "colab": {
          "base_uri": "https://localhost:8080/",
          "height": 1000
        },
        "id": "fpdOB8yIo4F4",
        "outputId": "4fbd3f27-2cd5-4b3d-f2a1-7376812f1d9c"
      },
      "source": [
        "\n",
        "cond = acm_data['authors'].str.startswith('A')\n",
        "print (acm_data)\n",
        "acm_data.loc[cond].sort_values(by=['authors'], ascending=True)[['authors', 'title']].head(25)"
      ],
      "execution_count": 127,
      "outputs": [
        {
          "output_type": "stream",
          "name": "stdout",
          "text": [
            "      Unnamed: 0  ...  year\n",
            "0              0  ...  1999\n",
            "1              1  ...  1999\n",
            "2              2  ...  1999\n",
            "3              3  ...  1999\n",
            "4              4  ...  1999\n",
            "...          ...  ...   ...\n",
            "2289        2289  ...  1994\n",
            "2290        2290  ...  2003\n",
            "2291        2291  ...  1994\n",
            "2292        2292  ...  2003\n",
            "2293        2293  ...  1994\n",
            "\n",
            "[2280 rows x 6 columns]\n"
          ]
        },
        {
          "output_type": "execute_result",
          "data": {
            "text/html": [
              "<div>\n",
              "<style scoped>\n",
              "    .dataframe tbody tr th:only-of-type {\n",
              "        vertical-align: middle;\n",
              "    }\n",
              "\n",
              "    .dataframe tbody tr th {\n",
              "        vertical-align: top;\n",
              "    }\n",
              "\n",
              "    .dataframe thead th {\n",
              "        text-align: right;\n",
              "    }\n",
              "</style>\n",
              "<table border=\"1\" class=\"dataframe\">\n",
              "  <thead>\n",
              "    <tr style=\"text-align: right;\">\n",
              "      <th></th>\n",
              "      <th>authors</th>\n",
              "      <th>title</th>\n",
              "    </tr>\n",
              "  </thead>\n",
              "  <tbody>\n",
              "    <tr>\n",
              "      <th>1054</th>\n",
              "      <td>A. A. Diwan, Sanjeeva Rane, S. Seshadri, S. Su...</td>\n",
              "      <td>Clustering Techniques for Minimizing External ...</td>\n",
              "    </tr>\n",
              "    <tr>\n",
              "      <th>1741</th>\n",
              "      <td>A. Biliris, S. Dar, N. Gehani, H. V. Jagadish,...</td>\n",
              "      <td>ASSET: a system for supporting extended transa...</td>\n",
              "    </tr>\n",
              "    <tr>\n",
              "      <th>235</th>\n",
              "      <td>A. Biliris, T. A. Funkhouser, W. O'Connell, E....</td>\n",
              "      <td>BeSS: storage support for interactive visualiz...</td>\n",
              "    </tr>\n",
              "    <tr>\n",
              "      <th>1565</th>\n",
              "      <td>A. Dogac, C. Dengi, E. Kilic, G. Ozhan, F. Ozc...</td>\n",
              "      <td>METU interoperable database system</td>\n",
              "    </tr>\n",
              "    <tr>\n",
              "      <th>218</th>\n",
              "      <td>A. Formica, H. D. Groger, M. Missikoff</td>\n",
              "      <td>An efficient method for checking object-orient...</td>\n",
              "    </tr>\n",
              "    <tr>\n",
              "      <th>1632</th>\n",
              "      <td>A. Kemper, G. Moerkotte, K. Peithner, M. Stein...</td>\n",
              "      <td>Optimizing disjunctive queries with expensive ...</td>\n",
              "    </tr>\n",
              "    <tr>\n",
              "      <th>118</th>\n",
              "      <td>A. M. Ouksel, A. Sheth</td>\n",
              "      <td>Semantic interoperability in global informatio...</td>\n",
              "    </tr>\n",
              "    <tr>\n",
              "      <th>2186</th>\n",
              "      <td>A. Maedche, B. Motik, L. Stojanovic</td>\n",
              "      <td>Managing multiple and distributed ontologies o...</td>\n",
              "    </tr>\n",
              "    <tr>\n",
              "      <th>1529</th>\n",
              "      <td>A. P. Buchmann, A. Deutsch, J. Zimmermann, M. ...</td>\n",
              "      <td>The REACH active OODBMS</td>\n",
              "    </tr>\n",
              "    <tr>\n",
              "      <th>1439</th>\n",
              "      <td>A. Prasad Sistla, Clement T. Yu, Chengwen Liu,...</td>\n",
              "      <td>Similarity based Retrieval of Pictures Using I...</td>\n",
              "    </tr>\n",
              "    <tr>\n",
              "      <th>2221</th>\n",
              "      <td>A. Prasad Sistla, Clement T. Yu, R. Haddad</td>\n",
              "      <td>Reasoning About Spatial Relationships in Pictu...</td>\n",
              "    </tr>\n",
              "    <tr>\n",
              "      <th>1511</th>\n",
              "      <td>A. Prasad Sistla, Ouri Wolfson</td>\n",
              "      <td>Temporal conditions and integrity constraints ...</td>\n",
              "    </tr>\n",
              "    <tr>\n",
              "      <th>134</th>\n",
              "      <td>A. Prasad Sistla, Ouri Wolfson, Yelena Yesha, ...</td>\n",
              "      <td>Towards a theory of cost management for digita...</td>\n",
              "    </tr>\n",
              "    <tr>\n",
              "      <th>2155</th>\n",
              "      <td>A. R. Dasgupta</td>\n",
              "      <td>Large Databases for Remote Sensing and GIS</td>\n",
              "    </tr>\n",
              "    <tr>\n",
              "      <th>2113</th>\n",
              "      <td>A. Sheth, S. Thacker, S. Patel</td>\n",
              "      <td>Complex relationships and knowledge discovery ...</td>\n",
              "    </tr>\n",
              "    <tr>\n",
              "      <th>1377</th>\n",
              "      <td>Abdelsalam Helal, Hua Li</td>\n",
              "      <td>Rainbow: Distributed Database System for Class...</td>\n",
              "    </tr>\n",
              "    <tr>\n",
              "      <th>2078</th>\n",
              "      <td>Abhinandan Das, Johannes Gehrke, Mirek Riedewald</td>\n",
              "      <td>Approximate join processing over data streams</td>\n",
              "    </tr>\n",
              "    <tr>\n",
              "      <th>1081</th>\n",
              "      <td>Achim Kraiss, Gerhard Weikum</td>\n",
              "      <td>Vertical Data Migration in Large Near-Line Doc...</td>\n",
              "    </tr>\n",
              "    <tr>\n",
              "      <th>1180</th>\n",
              "      <td>Achim Kraiss, Gerhard Weikum</td>\n",
              "      <td>Integrated document caching and prefetching in...</td>\n",
              "    </tr>\n",
              "    <tr>\n",
              "      <th>1484</th>\n",
              "      <td>Ada Wai-Chee Fu, David Wai-Lok Cheung</td>\n",
              "      <td>A Transaction Replication Scheme for a Replica...</td>\n",
              "    </tr>\n",
              "    <tr>\n",
              "      <th>1275</th>\n",
              "      <td>Ada Wai-chee Fu, Polly Mei-shuen Chan, Yin-Lin...</td>\n",
              "      <td>Dynamic vp-tree indexing for n-nearest neighbo...</td>\n",
              "    </tr>\n",
              "    <tr>\n",
              "      <th>2141</th>\n",
              "      <td>Adam Blum</td>\n",
              "      <td>Microsoft English Query 7.5: Automatic Extract...</td>\n",
              "    </tr>\n",
              "    <tr>\n",
              "      <th>1610</th>\n",
              "      <td>Ahmed Elmagarmid, Jin Jing, Tetsuya Furukawa</td>\n",
              "      <td>Wireless client/server computing for personal ...</td>\n",
              "    </tr>\n",
              "    <tr>\n",
              "      <th>1743</th>\n",
              "      <td>Aidong Zhang, Marian Nodine, Bharat Bhargava, ...</td>\n",
              "      <td>Ensuring relaxed atomicity for flexible transa...</td>\n",
              "    </tr>\n",
              "    <tr>\n",
              "      <th>1773</th>\n",
              "      <td>Akmal B. Chaudhri</td>\n",
              "      <td>Workshop report on experiences using object da...</td>\n",
              "    </tr>\n",
              "  </tbody>\n",
              "</table>\n",
              "</div>"
            ],
            "text/plain": [
              "                                                authors                                              title\n",
              "1054  A. A. Diwan, Sanjeeva Rane, S. Seshadri, S. Su...  Clustering Techniques for Minimizing External ...\n",
              "1741  A. Biliris, S. Dar, N. Gehani, H. V. Jagadish,...  ASSET: a system for supporting extended transa...\n",
              "235   A. Biliris, T. A. Funkhouser, W. O'Connell, E....  BeSS: storage support for interactive visualiz...\n",
              "1565  A. Dogac, C. Dengi, E. Kilic, G. Ozhan, F. Ozc...                 METU interoperable database system\n",
              "218              A. Formica, H. D. Groger, M. Missikoff  An efficient method for checking object-orient...\n",
              "1632  A. Kemper, G. Moerkotte, K. Peithner, M. Stein...  Optimizing disjunctive queries with expensive ...\n",
              "118                              A. M. Ouksel, A. Sheth  Semantic interoperability in global informatio...\n",
              "2186                A. Maedche, B. Motik, L. Stojanovic  Managing multiple and distributed ontologies o...\n",
              "1529  A. P. Buchmann, A. Deutsch, J. Zimmermann, M. ...                            The REACH active OODBMS\n",
              "1439  A. Prasad Sistla, Clement T. Yu, Chengwen Liu,...  Similarity based Retrieval of Pictures Using I...\n",
              "2221         A. Prasad Sistla, Clement T. Yu, R. Haddad  Reasoning About Spatial Relationships in Pictu...\n",
              "1511                     A. Prasad Sistla, Ouri Wolfson  Temporal conditions and integrity constraints ...\n",
              "134   A. Prasad Sistla, Ouri Wolfson, Yelena Yesha, ...  Towards a theory of cost management for digita...\n",
              "2155                                     A. R. Dasgupta         Large Databases for Remote Sensing and GIS\n",
              "2113                     A. Sheth, S. Thacker, S. Patel  Complex relationships and knowledge discovery ...\n",
              "1377                           Abdelsalam Helal, Hua Li  Rainbow: Distributed Database System for Class...\n",
              "2078   Abhinandan Das, Johannes Gehrke, Mirek Riedewald      Approximate join processing over data streams\n",
              "1081                       Achim Kraiss, Gerhard Weikum  Vertical Data Migration in Large Near-Line Doc...\n",
              "1180                       Achim Kraiss, Gerhard Weikum  Integrated document caching and prefetching in...\n",
              "1484              Ada Wai-Chee Fu, David Wai-Lok Cheung  A Transaction Replication Scheme for a Replica...\n",
              "1275  Ada Wai-chee Fu, Polly Mei-shuen Chan, Yin-Lin...  Dynamic vp-tree indexing for n-nearest neighbo...\n",
              "2141                                          Adam Blum  Microsoft English Query 7.5: Automatic Extract...\n",
              "1610       Ahmed Elmagarmid, Jin Jing, Tetsuya Furukawa  Wireless client/server computing for personal ...\n",
              "1743  Aidong Zhang, Marian Nodine, Bharat Bhargava, ...  Ensuring relaxed atomicity for flexible transa...\n",
              "1773                                  Akmal B. Chaudhri  Workshop report on experiences using object da..."
            ]
          },
          "metadata": {},
          "execution_count": 127
        }
      ]
    },
    {
      "cell_type": "code",
      "metadata": {
        "colab": {
          "base_uri": "https://localhost:8080/",
          "height": 833
        },
        "id": "nOXfL4RxqlQi",
        "outputId": "915c07f7-634c-4250-e756-86f735427aaa"
      },
      "source": [
        "cond = dblp_data['authors'].str.startswith('A')\n",
        "dblp_data.loc[cond].sort_values(by=['authors'], ascending=True)[['authors', 'title']].head(25)"
      ],
      "execution_count": 128,
      "outputs": [
        {
          "output_type": "execute_result",
          "data": {
            "text/html": [
              "<div>\n",
              "<style scoped>\n",
              "    .dataframe tbody tr th:only-of-type {\n",
              "        vertical-align: middle;\n",
              "    }\n",
              "\n",
              "    .dataframe tbody tr th {\n",
              "        vertical-align: top;\n",
              "    }\n",
              "\n",
              "    .dataframe thead th {\n",
              "        text-align: right;\n",
              "    }\n",
              "</style>\n",
              "<table border=\"1\" class=\"dataframe\">\n",
              "  <thead>\n",
              "    <tr style=\"text-align: right;\">\n",
              "      <th></th>\n",
              "      <th>authors</th>\n",
              "      <th>title</th>\n",
              "    </tr>\n",
              "  </thead>\n",
              "  <tbody>\n",
              "    <tr>\n",
              "      <th>207</th>\n",
              "      <td>A. A. Diwan, S. Sudarshan, Sanjeeva Rane, S. S...</td>\n",
              "      <td>Clustering Techniques for Minimizing External ...</td>\n",
              "    </tr>\n",
              "    <tr>\n",
              "      <th>1279</th>\n",
              "      <td>A. Kumaran, Jayant R. Haritsa</td>\n",
              "      <td>On the Costs of Multilingualism in Database Sy...</td>\n",
              "    </tr>\n",
              "    <tr>\n",
              "      <th>433</th>\n",
              "      <td>A. Prasad Sistla, Isabel F. Cruz, Ashfaq A. Kh...</td>\n",
              "      <td>Research Activities in Database Management and...</td>\n",
              "    </tr>\n",
              "    <tr>\n",
              "      <th>1587</th>\n",
              "      <td>A. Prasad Sistla, Ouri Wolfson, Yixiu Huang</td>\n",
              "      <td>Data Replication for Mobile Computers</td>\n",
              "    </tr>\n",
              "    <tr>\n",
              "      <th>1128</th>\n",
              "      <td>A. Prasad Sistla, Robert H. Sloan, Yelena Yesh...</td>\n",
              "      <td>Towards a Theory of Cost Management for Digita...</td>\n",
              "    </tr>\n",
              "    <tr>\n",
              "      <th>1642</th>\n",
              "      <td>A. R. Dasgupta</td>\n",
              "      <td>Large Databases for Remote Sensing and GIS</td>\n",
              "    </tr>\n",
              "    <tr>\n",
              "      <th>703</th>\n",
              "      <td>A. R. Hurson, Simin H. Pakzad, M. W. Bright</td>\n",
              "      <td>Automated Resolution of Semantic Heterogeneity...</td>\n",
              "    </tr>\n",
              "    <tr>\n",
              "      <th>2057</th>\n",
              "      <td>Aashu Virmani, Tomasz Imielinski</td>\n",
              "      <td>DataMine - Interactive Rule Discovery System</td>\n",
              "    </tr>\n",
              "    <tr>\n",
              "      <th>396</th>\n",
              "      <td>Abdelsalam Helal, Hua Li</td>\n",
              "      <td>Rainbow: Distributed Database System for Class...</td>\n",
              "    </tr>\n",
              "    <tr>\n",
              "      <th>2033</th>\n",
              "      <td>Abraham Silberschatz, Christos Faloutsos, Yoss...</td>\n",
              "      <td>Modeling Skewed Distribution Using Multifracta...</td>\n",
              "    </tr>\n",
              "    <tr>\n",
              "      <th>1730</th>\n",
              "      <td>Abraham Silberschatz, Rajeev Rastogi, Banu Ãz...</td>\n",
              "      <td>Fault-tolerant Architectures for Continuous Me...</td>\n",
              "    </tr>\n",
              "    <tr>\n",
              "      <th>909</th>\n",
              "      <td>Abraham Silberschatz, Stanley B. Zdonik</td>\n",
              "      <td>Database Systems - Breaking Out of the Box</td>\n",
              "    </tr>\n",
              "    <tr>\n",
              "      <th>2164</th>\n",
              "      <td>Abraham Silberschatz, Sumit Ganguly, Yossi Mat...</td>\n",
              "      <td>Bifocal Sampling for Skew-Resistant Join Size ...</td>\n",
              "    </tr>\n",
              "    <tr>\n",
              "      <th>1197</th>\n",
              "      <td>Achim Kraiss, Gerhard Weikum</td>\n",
              "      <td>Vertical Data Migration in Large Near-Line Doc...</td>\n",
              "    </tr>\n",
              "    <tr>\n",
              "      <th>518</th>\n",
              "      <td>Achim Kraiss, Gerhard Weikum</td>\n",
              "      <td>Integrated Document Caching and Prefetching in...</td>\n",
              "    </tr>\n",
              "    <tr>\n",
              "      <th>764</th>\n",
              "      <td>Ada Wai-Chee Fu, King Lum Cheung</td>\n",
              "      <td>Enhanced Nearest Neighbour Search on the R-tree</td>\n",
              "    </tr>\n",
              "    <tr>\n",
              "      <th>2313</th>\n",
              "      <td>Ada Wai-Chee Fu, Man Hon Wong, Chan Man Kuok</td>\n",
              "      <td>Mining Fuzzy Association Rules in Databases</td>\n",
              "    </tr>\n",
              "    <tr>\n",
              "      <th>1623</th>\n",
              "      <td>Ada Wai-Chee Fu, Yin-Ling Cheung, Yiu Sang Moo...</td>\n",
              "      <td>Dynamic vp-Tree Indexing for n-Nearest Neighbo...</td>\n",
              "    </tr>\n",
              "    <tr>\n",
              "      <th>725</th>\n",
              "      <td>Adam Blum</td>\n",
              "      <td>Microsoft English Query 7.5: Automatic Extract...</td>\n",
              "    </tr>\n",
              "    <tr>\n",
              "      <th>1966</th>\n",
              "      <td>Adam Bosworth</td>\n",
              "      <td>The Future of Web Services - I</td>\n",
              "    </tr>\n",
              "    <tr>\n",
              "      <th>547</th>\n",
              "      <td>Agathoniki Trigoni, Rajmohan Rajaraman, Alan J...</td>\n",
              "      <td>The Cougar Project: a work-in-progress report</td>\n",
              "    </tr>\n",
              "    <tr>\n",
              "      <th>999</th>\n",
              "      <td>Ahmed K. Elmagarmid, Athman Bouguettaya, Moura...</td>\n",
              "      <td>Ontology-based Support for Digital Government</td>\n",
              "    </tr>\n",
              "    <tr>\n",
              "      <th>790</th>\n",
              "      <td>Ahmed K. Elmagarmid, Haitao Jiang</td>\n",
              "      <td>Spatial and Temporal Content-Based Access to H...</td>\n",
              "    </tr>\n",
              "    <tr>\n",
              "      <th>1791</th>\n",
              "      <td>Aiqun Du, James P. Callan, Margaret E. Connell</td>\n",
              "      <td>Automatic Discovery of Language Models for Tex...</td>\n",
              "    </tr>\n",
              "    <tr>\n",
              "      <th>2160</th>\n",
              "      <td>Akmal B. Chaudhri</td>\n",
              "      <td>An Annotated Bibliography of Benchmarks for Ob...</td>\n",
              "    </tr>\n",
              "  </tbody>\n",
              "</table>\n",
              "</div>"
            ],
            "text/plain": [
              "                                                authors                                              title\n",
              "207   A. A. Diwan, S. Sudarshan, Sanjeeva Rane, S. S...  Clustering Techniques for Minimizing External ...\n",
              "1279                      A. Kumaran, Jayant R. Haritsa  On the Costs of Multilingualism in Database Sy...\n",
              "433   A. Prasad Sistla, Isabel F. Cruz, Ashfaq A. Kh...  Research Activities in Database Management and...\n",
              "1587        A. Prasad Sistla, Ouri Wolfson, Yixiu Huang              Data Replication for Mobile Computers\n",
              "1128  A. Prasad Sistla, Robert H. Sloan, Yelena Yesh...  Towards a Theory of Cost Management for Digita...\n",
              "1642                                     A. R. Dasgupta         Large Databases for Remote Sensing and GIS\n",
              "703         A. R. Hurson, Simin H. Pakzad, M. W. Bright  Automated Resolution of Semantic Heterogeneity...\n",
              "2057                   Aashu Virmani, Tomasz Imielinski       DataMine - Interactive Rule Discovery System\n",
              "396                            Abdelsalam Helal, Hua Li  Rainbow: Distributed Database System for Class...\n",
              "2033  Abraham Silberschatz, Christos Faloutsos, Yoss...  Modeling Skewed Distribution Using Multifracta...\n",
              "1730  Abraham Silberschatz, Rajeev Rastogi, Banu Ãz...  Fault-tolerant Architectures for Continuous Me...\n",
              "909             Abraham Silberschatz, Stanley B. Zdonik         Database Systems - Breaking Out of the Box\n",
              "2164  Abraham Silberschatz, Sumit Ganguly, Yossi Mat...  Bifocal Sampling for Skew-Resistant Join Size ...\n",
              "1197                       Achim Kraiss, Gerhard Weikum  Vertical Data Migration in Large Near-Line Doc...\n",
              "518                        Achim Kraiss, Gerhard Weikum  Integrated Document Caching and Prefetching in...\n",
              "764                    Ada Wai-Chee Fu, King Lum Cheung    Enhanced Nearest Neighbour Search on the R-tree\n",
              "2313       Ada Wai-Chee Fu, Man Hon Wong, Chan Man Kuok        Mining Fuzzy Association Rules in Databases\n",
              "1623  Ada Wai-Chee Fu, Yin-Ling Cheung, Yiu Sang Moo...  Dynamic vp-Tree Indexing for n-Nearest Neighbo...\n",
              "725                                           Adam Blum  Microsoft English Query 7.5: Automatic Extract...\n",
              "1966                                      Adam Bosworth                     The Future of Web Services - I\n",
              "547   Agathoniki Trigoni, Rajmohan Rajaraman, Alan J...      The Cougar Project: a work-in-progress report\n",
              "999   Ahmed K. Elmagarmid, Athman Bouguettaya, Moura...      Ontology-based Support for Digital Government\n",
              "790                   Ahmed K. Elmagarmid, Haitao Jiang  Spatial and Temporal Content-Based Access to H...\n",
              "1791     Aiqun Du, James P. Callan, Margaret E. Connell  Automatic Discovery of Language Models for Tex...\n",
              "2160                                  Akmal B. Chaudhri  An Annotated Bibliography of Benchmarks for Ob..."
            ]
          },
          "metadata": {},
          "execution_count": 128
        }
      ]
    },
    {
      "cell_type": "markdown",
      "metadata": {
        "id": "AAwLBTcBz3Sv"
      },
      "source": [
        "## Try using the fuzzymatcher"
      ]
    },
    {
      "cell_type": "code",
      "source": [
        "dblp_data.columns"
      ],
      "metadata": {
        "colab": {
          "base_uri": "https://localhost:8080/"
        },
        "id": "rLliPjnsSDzd",
        "outputId": "1f323ea6-71af-48aa-bf85-8b2c60b465f7"
      },
      "execution_count": 129,
      "outputs": [
        {
          "output_type": "execute_result",
          "data": {
            "text/plain": [
              "Index(['Unnamed: 0', 'id', 'title', 'authors', 'venue', 'year'], dtype='object')"
            ]
          },
          "metadata": {},
          "execution_count": 129
        }
      ]
    },
    {
      "cell_type": "code",
      "metadata": {
        "id": "4FZ7F-TpggJ7"
      },
      "source": [
        "# Columns to match on from df_left\n",
        "left_on = ['title', 'authors', 'venue', 'year']\n",
        "\n",
        "# Columns to match on from df_right\n",
        "right_on = ['title', 'authors', 'venue', 'year']"
      ],
      "execution_count": 130,
      "outputs": []
    },
    {
      "cell_type": "code",
      "metadata": {
        "id": "zTQINSY63Aan"
      },
      "source": [
        "## try link_table first\n",
        "linked = fuzzymatcher.link_table(acm_data,\n",
        "                                 dblp_data,\n",
        "                                 left_on,\n",
        "                                 right_on,\n",
        "                                 left_id_col='id',\n",
        "                                 right_id_col='id')"
      ],
      "execution_count": 131,
      "outputs": []
    },
    {
      "cell_type": "code",
      "metadata": {
        "colab": {
          "base_uri": "https://localhost:8080/",
          "height": 591
        },
        "id": "MxB9Sf2V3Uvb",
        "outputId": "d869c42d-33dd-472f-e0dd-54a28cb6c9bf"
      },
      "source": [
        "linked.head()"
      ],
      "execution_count": 132,
      "outputs": [
        {
          "output_type": "execute_result",
          "data": {
            "text/html": [
              "<div>\n",
              "<style scoped>\n",
              "    .dataframe tbody tr th:only-of-type {\n",
              "        vertical-align: middle;\n",
              "    }\n",
              "\n",
              "    .dataframe tbody tr th {\n",
              "        vertical-align: top;\n",
              "    }\n",
              "\n",
              "    .dataframe thead th {\n",
              "        text-align: right;\n",
              "    }\n",
              "</style>\n",
              "<table border=\"1\" class=\"dataframe\">\n",
              "  <thead>\n",
              "    <tr style=\"text-align: right;\">\n",
              "      <th></th>\n",
              "      <th>__id_left</th>\n",
              "      <th>__id_right</th>\n",
              "      <th>match_score</th>\n",
              "      <th>match_rank</th>\n",
              "      <th>title_left</th>\n",
              "      <th>title_right</th>\n",
              "      <th>authors_left</th>\n",
              "      <th>authors_right</th>\n",
              "      <th>venue_left</th>\n",
              "      <th>venue_right</th>\n",
              "      <th>year_left</th>\n",
              "      <th>year_right</th>\n",
              "    </tr>\n",
              "  </thead>\n",
              "  <tbody>\n",
              "    <tr>\n",
              "      <th>0</th>\n",
              "      <td>304586</td>\n",
              "      <td>conf/sigmod/VossenW99</td>\n",
              "      <td>2.562161</td>\n",
              "      <td>1</td>\n",
              "      <td>The WASA2 object-oriented workflow management ...</td>\n",
              "      <td>The WASA2 Object-Oriented Workflow Management ...</td>\n",
              "      <td>Gottfried Vossen, Mathias Weske</td>\n",
              "      <td>Mathias Weske, Gottfried Vossen</td>\n",
              "      <td>International Conference on Management of Data</td>\n",
              "      <td>SIGMOD Conference</td>\n",
              "      <td>1999</td>\n",
              "      <td>1999</td>\n",
              "    </tr>\n",
              "    <tr>\n",
              "      <th>1</th>\n",
              "      <td>304587</td>\n",
              "      <td>conf/sigmod/CruzJ99</td>\n",
              "      <td>2.722836</td>\n",
              "      <td>1</td>\n",
              "      <td>A user-centered interface for querying distrib...</td>\n",
              "      <td>A User-Centered Interface for Querying Distrib...</td>\n",
              "      <td>Isabel F. Cruz, Kimberly M. James</td>\n",
              "      <td>Kimberly M. James, Isabel F. Cruz</td>\n",
              "      <td>International Conference on Management of Data</td>\n",
              "      <td>SIGMOD Conference</td>\n",
              "      <td>1999</td>\n",
              "      <td>1999</td>\n",
              "    </tr>\n",
              "    <tr>\n",
              "      <th>2</th>\n",
              "      <td>304589</td>\n",
              "      <td>conf/sigmod/BouguettayaBH99</td>\n",
              "      <td>4.573711</td>\n",
              "      <td>1</td>\n",
              "      <td>World Wide Database-integrating the Web, CORBA...</td>\n",
              "      <td>World Wide Database - Integrating the Web, COR...</td>\n",
              "      <td>Athman Bouguettaya, Boualem Benatallah, Lily H...</td>\n",
              "      <td>Kevin Smith, Athman Bouguettaya, Mourad Ouzzan...</td>\n",
              "      <td>International Conference on Management of Data</td>\n",
              "      <td>SIGMOD Conference</td>\n",
              "      <td>1999</td>\n",
              "      <td>1999</td>\n",
              "    </tr>\n",
              "    <tr>\n",
              "      <th>3</th>\n",
              "      <td>304590</td>\n",
              "      <td>conf/sigmod/BaruGLMPVC99</td>\n",
              "      <td>4.393281</td>\n",
              "      <td>1</td>\n",
              "      <td>XML-based information mediation with MIX</td>\n",
              "      <td>XML-Based Information Mediation with MIX</td>\n",
              "      <td>Chaitan Baru, Amarnath Gupta, Bertram Lud&amp;#228...</td>\n",
              "      <td>Yannis Papakonstantinou, Richard Marciano, Cha...</td>\n",
              "      <td>International Conference on Management of Data</td>\n",
              "      <td>SIGMOD Conference</td>\n",
              "      <td>1999</td>\n",
              "      <td>1999</td>\n",
              "    </tr>\n",
              "    <tr>\n",
              "      <th>4</th>\n",
              "      <td>304582</td>\n",
              "      <td>conf/sigmod/BrodskySCE99</td>\n",
              "      <td>2.968080</td>\n",
              "      <td>1</td>\n",
              "      <td>The CCUBE constraint object-oriented database ...</td>\n",
              "      <td>The CCUBE Constraint Object-Oriented Database ...</td>\n",
              "      <td>Alexander Brodsky, Victor E. Segal, Jia Chen, ...</td>\n",
              "      <td>Alexander Brodsky, Pavel A. Exarkhopoulo, Vict...</td>\n",
              "      <td>International Conference on Management of Data</td>\n",
              "      <td>SIGMOD Conference</td>\n",
              "      <td>1999</td>\n",
              "      <td>1999</td>\n",
              "    </tr>\n",
              "  </tbody>\n",
              "</table>\n",
              "</div>"
            ],
            "text/plain": [
              "   __id_left                   __id_right  ...  year_left  year_right\n",
              "0     304586        conf/sigmod/VossenW99  ...       1999        1999\n",
              "1     304587          conf/sigmod/CruzJ99  ...       1999        1999\n",
              "2     304589  conf/sigmod/BouguettayaBH99  ...       1999        1999\n",
              "3     304590     conf/sigmod/BaruGLMPVC99  ...       1999        1999\n",
              "4     304582     conf/sigmod/BrodskySCE99  ...       1999        1999\n",
              "\n",
              "[5 rows x 12 columns]"
            ]
          },
          "metadata": {},
          "execution_count": 132
        }
      ]
    },
    {
      "cell_type": "code",
      "metadata": {
        "id": "wOmwtQHGggJ8"
      },
      "source": [
        "# Now perform the match\n",
        "# It will take several minutes to run on this data set\n",
        "matched_results = fuzzymatcher.fuzzy_left_join(acm_data,\n",
        "                                               dblp_data,\n",
        "                                               left_on,\n",
        "                                               right_on,\n",
        "                                               left_id_col='id',\n",
        "                                               right_id_col='id')"
      ],
      "execution_count": 133,
      "outputs": []
    },
    {
      "cell_type": "code",
      "metadata": {
        "colab": {
          "base_uri": "https://localhost:8080/",
          "height": 206
        },
        "id": "2QhdxmB7ggJ9",
        "outputId": "e5be09d4-889d-450f-dce8-38e9d3cfeb56"
      },
      "source": [
        "matched_results[[\"authors_left\", \"authors_right\"]].head()"
      ],
      "execution_count": 134,
      "outputs": [
        {
          "output_type": "execute_result",
          "data": {
            "text/html": [
              "<div>\n",
              "<style scoped>\n",
              "    .dataframe tbody tr th:only-of-type {\n",
              "        vertical-align: middle;\n",
              "    }\n",
              "\n",
              "    .dataframe tbody tr th {\n",
              "        vertical-align: top;\n",
              "    }\n",
              "\n",
              "    .dataframe thead th {\n",
              "        text-align: right;\n",
              "    }\n",
              "</style>\n",
              "<table border=\"1\" class=\"dataframe\">\n",
              "  <thead>\n",
              "    <tr style=\"text-align: right;\">\n",
              "      <th></th>\n",
              "      <th>authors_left</th>\n",
              "      <th>authors_right</th>\n",
              "    </tr>\n",
              "  </thead>\n",
              "  <tbody>\n",
              "    <tr>\n",
              "      <th>0</th>\n",
              "      <td>Gottfried Vossen, Mathias Weske</td>\n",
              "      <td>Mathias Weske, Gottfried Vossen</td>\n",
              "    </tr>\n",
              "    <tr>\n",
              "      <th>1</th>\n",
              "      <td>Isabel F. Cruz, Kimberly M. James</td>\n",
              "      <td>Kimberly M. James, Isabel F. Cruz</td>\n",
              "    </tr>\n",
              "    <tr>\n",
              "      <th>2</th>\n",
              "      <td>Athman Bouguettaya, Boualem Benatallah, Lily H...</td>\n",
              "      <td>Kevin Smith, Athman Bouguettaya, Mourad Ouzzan...</td>\n",
              "    </tr>\n",
              "    <tr>\n",
              "      <th>3</th>\n",
              "      <td>Chaitan Baru, Amarnath Gupta, Bertram Lud&amp;#228...</td>\n",
              "      <td>Yannis Papakonstantinou, Richard Marciano, Cha...</td>\n",
              "    </tr>\n",
              "    <tr>\n",
              "      <th>4</th>\n",
              "      <td>Alexander Brodsky, Victor E. Segal, Jia Chen, ...</td>\n",
              "      <td>Alexander Brodsky, Pavel A. Exarkhopoulo, Vict...</td>\n",
              "    </tr>\n",
              "  </tbody>\n",
              "</table>\n",
              "</div>"
            ],
            "text/plain": [
              "                                        authors_left                                      authors_right\n",
              "0                    Gottfried Vossen, Mathias Weske                    Mathias Weske, Gottfried Vossen\n",
              "1                  Isabel F. Cruz, Kimberly M. James                  Kimberly M. James, Isabel F. Cruz\n",
              "2  Athman Bouguettaya, Boualem Benatallah, Lily H...  Kevin Smith, Athman Bouguettaya, Mourad Ouzzan...\n",
              "3  Chaitan Baru, Amarnath Gupta, Bertram Lud&#228...  Yannis Papakonstantinou, Richard Marciano, Cha...\n",
              "4  Alexander Brodsky, Victor E. Segal, Jia Chen, ...  Alexander Brodsky, Pavel A. Exarkhopoulo, Vict..."
            ]
          },
          "metadata": {},
          "execution_count": 134
        }
      ]
    },
    {
      "cell_type": "code",
      "metadata": {
        "id": "tWAIPdeEggJ-"
      },
      "source": [
        "# Reorder the columns to make viewing easier\n",
        "cols = [\n",
        "    \"best_match_score\", \"title_left\",\t\"title_right\", \"authors_left\", \n",
        "    \"authors_right\", \"venue_left\",\t\"venue_right\", \"year_left\", \"year_right\"\n",
        "]"
      ],
      "execution_count": 135,
      "outputs": []
    },
    {
      "cell_type": "code",
      "metadata": {
        "colab": {
          "base_uri": "https://localhost:8080/",
          "height": 362
        },
        "id": "Sbhasl1lggJ-",
        "outputId": "f5791472-5257-4049-9ebd-7f45a1315616"
      },
      "source": [
        "# Let's see the best matches\n",
        "matched_results[cols].sort_values(by=['best_match_score'], ascending=False).head(5)"
      ],
      "execution_count": 136,
      "outputs": [
        {
          "output_type": "execute_result",
          "data": {
            "text/html": [
              "<div>\n",
              "<style scoped>\n",
              "    .dataframe tbody tr th:only-of-type {\n",
              "        vertical-align: middle;\n",
              "    }\n",
              "\n",
              "    .dataframe tbody tr th {\n",
              "        vertical-align: top;\n",
              "    }\n",
              "\n",
              "    .dataframe thead th {\n",
              "        text-align: right;\n",
              "    }\n",
              "</style>\n",
              "<table border=\"1\" class=\"dataframe\">\n",
              "  <thead>\n",
              "    <tr style=\"text-align: right;\">\n",
              "      <th></th>\n",
              "      <th>best_match_score</th>\n",
              "      <th>title_left</th>\n",
              "      <th>title_right</th>\n",
              "      <th>authors_left</th>\n",
              "      <th>authors_right</th>\n",
              "      <th>venue_left</th>\n",
              "      <th>venue_right</th>\n",
              "      <th>year_left</th>\n",
              "      <th>year_right</th>\n",
              "    </tr>\n",
              "  </thead>\n",
              "  <tbody>\n",
              "    <tr>\n",
              "      <th>28967</th>\n",
              "      <td>9.659069</td>\n",
              "      <td>TSQL2 language specification</td>\n",
              "      <td>TSQL2 Language Specification</td>\n",
              "      <td>Richard Thomas Snodgrass, Ilsoo Ahn, Gadi Aria...</td>\n",
              "      <td>Wolfgang KÃ¤fer, Curtis E. Dyreson, Arie Segev...</td>\n",
              "      <td>ACM SIGMOD Record</td>\n",
              "      <td>SIGMOD Record</td>\n",
              "      <td>1994</td>\n",
              "      <td>1994</td>\n",
              "    </tr>\n",
              "    <tr>\n",
              "      <th>28303</th>\n",
              "      <td>9.585563</td>\n",
              "      <td>A TSQL2 tutorial</td>\n",
              "      <td>A TSQL2 Tutorial</td>\n",
              "      <td>Richard Thomas Snodgrass, Ilsoo Ahn, Gad Ariav...</td>\n",
              "      <td>James Clifford, Ramez Elmasri, Michael D. Soo,...</td>\n",
              "      <td>ACM SIGMOD Record</td>\n",
              "      <td>SIGMOD Record</td>\n",
              "      <td>1994</td>\n",
              "      <td>1994</td>\n",
              "    </tr>\n",
              "    <tr>\n",
              "      <th>24966</th>\n",
              "      <td>9.299051</td>\n",
              "      <td>The Propel Distributed Services Platform</td>\n",
              "      <td>The Propel Distributed Services Platform</td>\n",
              "      <td>Michael J. Carey, Steve Kirsch, Mary Roth, Ber...</td>\n",
              "      <td>Runping Qi, Kuan Yee, Brian Sterling, Nicolas ...</td>\n",
              "      <td>Very Large Data Bases</td>\n",
              "      <td>VLDB</td>\n",
              "      <td>2001</td>\n",
              "      <td>2001</td>\n",
              "    </tr>\n",
              "    <tr>\n",
              "      <th>34421</th>\n",
              "      <td>9.249386</td>\n",
              "      <td>A mapping mechanism to support bitmap index an...</td>\n",
              "      <td>A mapping mechanism to support bitmap index an...</td>\n",
              "      <td>Eugene Inseok Chong, Jagannathan Srinivasan, S...</td>\n",
              "      <td>Mahesh Jagannath, Eugene Inseok Chong, Aravind...</td>\n",
              "      <td>ACM SIGMOD Record</td>\n",
              "      <td>SIGMOD Record</td>\n",
              "      <td>2003</td>\n",
              "      <td>2003</td>\n",
              "    </tr>\n",
              "    <tr>\n",
              "      <th>28253</th>\n",
              "      <td>8.833561</td>\n",
              "      <td>Announcement-the temporal query language TSQL2...</td>\n",
              "      <td>TSQL2 Language Specification</td>\n",
              "      <td>Richard Thomas Snodgrass, Ilsoo Ahn, Gad Ariav...</td>\n",
              "      <td>Wolfgang KÃ¤fer, Curtis E. Dyreson, Arie Segev...</td>\n",
              "      <td>ACM SIGMOD Record</td>\n",
              "      <td>SIGMOD Record</td>\n",
              "      <td>1994</td>\n",
              "      <td>1994</td>\n",
              "    </tr>\n",
              "  </tbody>\n",
              "</table>\n",
              "</div>"
            ],
            "text/plain": [
              "       best_match_score  ... year_right\n",
              "28967          9.659069  ...       1994\n",
              "28303          9.585563  ...       1994\n",
              "24966          9.299051  ...       2001\n",
              "34421          9.249386  ...       2003\n",
              "28253          8.833561  ...       1994\n",
              "\n",
              "[5 rows x 9 columns]"
            ]
          },
          "metadata": {},
          "execution_count": 136
        }
      ]
    },
    {
      "cell_type": "code",
      "metadata": {
        "colab": {
          "base_uri": "https://localhost:8080/",
          "height": 345
        },
        "id": "W0OVX0PDggJ_",
        "outputId": "22b50272-9541-4ce6-9a8b-597cfee227af"
      },
      "source": [
        "# Now the worst matches\n",
        "matched_results[cols].sort_values(by=['best_match_score'],\n",
        "                                  ascending=True).head(5)"
      ],
      "execution_count": 137,
      "outputs": [
        {
          "output_type": "execute_result",
          "data": {
            "text/html": [
              "<div>\n",
              "<style scoped>\n",
              "    .dataframe tbody tr th:only-of-type {\n",
              "        vertical-align: middle;\n",
              "    }\n",
              "\n",
              "    .dataframe tbody tr th {\n",
              "        vertical-align: top;\n",
              "    }\n",
              "\n",
              "    .dataframe thead th {\n",
              "        text-align: right;\n",
              "    }\n",
              "</style>\n",
              "<table border=\"1\" class=\"dataframe\">\n",
              "  <thead>\n",
              "    <tr style=\"text-align: right;\">\n",
              "      <th></th>\n",
              "      <th>best_match_score</th>\n",
              "      <th>title_left</th>\n",
              "      <th>title_right</th>\n",
              "      <th>authors_left</th>\n",
              "      <th>authors_right</th>\n",
              "      <th>venue_left</th>\n",
              "      <th>venue_right</th>\n",
              "      <th>year_left</th>\n",
              "      <th>year_right</th>\n",
              "    </tr>\n",
              "  </thead>\n",
              "  <tbody>\n",
              "    <tr>\n",
              "      <th>19445</th>\n",
              "      <td>-1.970883</td>\n",
              "      <td>David DeWitt speaks out: on rethinking the CS ...</td>\n",
              "      <td>Gio Wiederhold Speaks Out on Moving into Acade...</td>\n",
              "      <td>Marianne Winslett</td>\n",
              "      <td>Marianne Winslett</td>\n",
              "      <td>ACM SIGMOD Record</td>\n",
              "      <td>SIGMOD Record</td>\n",
              "      <td>2002</td>\n",
              "      <td>2001</td>\n",
              "    </tr>\n",
              "    <tr>\n",
              "      <th>5636</th>\n",
              "      <td>-1.279158</td>\n",
              "      <td>Challenges in automating declarative business ...</td>\n",
              "      <td>Expressing Business Rules</td>\n",
              "      <td>Val Huber</td>\n",
              "      <td>Ronald G. Ross</td>\n",
              "      <td>International Conference on Management of Data</td>\n",
              "      <td>SIGMOD Conference</td>\n",
              "      <td>2000</td>\n",
              "      <td>2000</td>\n",
              "    </tr>\n",
              "    <tr>\n",
              "      <th>33892</th>\n",
              "      <td>-1.272599</td>\n",
              "      <td>Abstracts of invited industrial track presenta...</td>\n",
              "      <td>Objectivity Industrial Exhibit</td>\n",
              "      <td>Zachary Ives</td>\n",
              "      <td>Objectivity</td>\n",
              "      <td>International Conference on Management of Data</td>\n",
              "      <td>VLDB</td>\n",
              "      <td>2003</td>\n",
              "      <td>1998</td>\n",
              "    </tr>\n",
              "    <tr>\n",
              "      <th>5427</th>\n",
              "      <td>-1.258685</td>\n",
              "      <td>Going beyond personalization: rule engines at ...</td>\n",
              "      <td>Delivering High Availability for Inktomi Searc...</td>\n",
              "      <td>Eric Kintzer</td>\n",
              "      <td>Eric A. Brewer</td>\n",
              "      <td>International Conference on Management of Data</td>\n",
              "      <td>SIGMOD Conference</td>\n",
              "      <td>2000</td>\n",
              "      <td>1998</td>\n",
              "    </tr>\n",
              "    <tr>\n",
              "      <th>15397</th>\n",
              "      <td>-1.204926</td>\n",
              "      <td>Special system-oriented section: the best of S...</td>\n",
              "      <td>A Pattern-Based Object Calculus</td>\n",
              "      <td>Stanley Y. W. Su</td>\n",
              "      <td>Stanley Y. W. Su, Nabil Kamel, Ping Wu</td>\n",
              "      <td>The VLDB Journal &amp;mdash; The International Jou...</td>\n",
              "      <td>VLDB J.</td>\n",
              "      <td>1995</td>\n",
              "      <td>1994</td>\n",
              "    </tr>\n",
              "  </tbody>\n",
              "</table>\n",
              "</div>"
            ],
            "text/plain": [
              "       best_match_score  ... year_right\n",
              "19445         -1.970883  ...       2001\n",
              "5636          -1.279158  ...       2000\n",
              "33892         -1.272599  ...       1998\n",
              "5427          -1.258685  ...       1998\n",
              "15397         -1.204926  ...       1994\n",
              "\n",
              "[5 rows x 9 columns]"
            ]
          },
          "metadata": {},
          "execution_count": 137
        }
      ]
    },
    {
      "cell_type": "code",
      "metadata": {
        "colab": {
          "base_uri": "https://localhost:8080/",
          "height": 675
        },
        "id": "VbYB3MrnggKB",
        "outputId": "458ad916-1a47-446d-dd63-1d8cecda86e6"
      },
      "source": [
        "# Look at the matches around 1\n",
        "matched_results[cols].query(\"best_match_score <= 1\").sort_values(\n",
        "    by=['best_match_score'], ascending=False).head(10)"
      ],
      "execution_count": 138,
      "outputs": [
        {
          "output_type": "execute_result",
          "data": {
            "text/html": [
              "<div>\n",
              "<style scoped>\n",
              "    .dataframe tbody tr th:only-of-type {\n",
              "        vertical-align: middle;\n",
              "    }\n",
              "\n",
              "    .dataframe tbody tr th {\n",
              "        vertical-align: top;\n",
              "    }\n",
              "\n",
              "    .dataframe thead th {\n",
              "        text-align: right;\n",
              "    }\n",
              "</style>\n",
              "<table border=\"1\" class=\"dataframe\">\n",
              "  <thead>\n",
              "    <tr style=\"text-align: right;\">\n",
              "      <th></th>\n",
              "      <th>best_match_score</th>\n",
              "      <th>title_left</th>\n",
              "      <th>title_right</th>\n",
              "      <th>authors_left</th>\n",
              "      <th>authors_right</th>\n",
              "      <th>venue_left</th>\n",
              "      <th>venue_right</th>\n",
              "      <th>year_left</th>\n",
              "      <th>year_right</th>\n",
              "    </tr>\n",
              "  </thead>\n",
              "  <tbody>\n",
              "    <tr>\n",
              "      <th>2287</th>\n",
              "      <td>0.996159</td>\n",
              "      <td>Keynote Address</td>\n",
              "      <td>Keynote Address</td>\n",
              "      <td>Robert S. Epstein</td>\n",
              "      <td>Robert S. Epstein</td>\n",
              "      <td>International Conference on Management of Data</td>\n",
              "      <td>SIGMOD Conference</td>\n",
              "      <td>1995</td>\n",
              "      <td>1995</td>\n",
              "    </tr>\n",
              "    <tr>\n",
              "      <th>3443</th>\n",
              "      <td>0.995429</td>\n",
              "      <td>MQseries and CICS link for Lotus Notes</td>\n",
              "      <td>MQSeries and CICS Link for Lotus Notes</td>\n",
              "      <td>Lotus Development Corp.</td>\n",
              "      <td>?</td>\n",
              "      <td>ACM SIGMOD Record</td>\n",
              "      <td>SIGMOD Record</td>\n",
              "      <td>1996</td>\n",
              "      <td>1996</td>\n",
              "    </tr>\n",
              "    <tr>\n",
              "      <th>25138</th>\n",
              "      <td>0.987667</td>\n",
              "      <td>The Oracle Warehouse</td>\n",
              "      <td>The Oracle Warehouse</td>\n",
              "      <td>Gary Hallmark</td>\n",
              "      <td>Gary Hallmark</td>\n",
              "      <td>Very Large Data Bases</td>\n",
              "      <td>VLDB</td>\n",
              "      <td>1995</td>\n",
              "      <td>1995</td>\n",
              "    </tr>\n",
              "    <tr>\n",
              "      <th>24974</th>\n",
              "      <td>0.986689</td>\n",
              "      <td>Altruistic locking</td>\n",
              "      <td>Altruistic Locking</td>\n",
              "      <td>Kenneth Salem, H&amp;#233;ctor Garc&amp;#237;a-Molina,...</td>\n",
              "      <td>Jeannie Shands, Kenneth Salem, Hector Garcia-M...</td>\n",
              "      <td>ACM Transactions on Database Systems (TODS)</td>\n",
              "      <td>ACM Trans. Database Syst.</td>\n",
              "      <td>1994</td>\n",
              "      <td>1994</td>\n",
              "    </tr>\n",
              "    <tr>\n",
              "      <th>37745</th>\n",
              "      <td>0.978702</td>\n",
              "      <td>Power efficient data gathering and aggregation...</td>\n",
              "      <td>Power efficient data gathering and aggregation...</td>\n",
              "      <td>H&amp;#252;seyin &amp;#214;zg&amp;#252;r Tan, Ibrahim K&amp;#2...</td>\n",
              "      <td>Ibrahim Korpeoglu, HÃ¼seyin ÃzgÃ¼r Tan</td>\n",
              "      <td>ACM SIGMOD Record</td>\n",
              "      <td>SIGMOD Record</td>\n",
              "      <td>2003</td>\n",
              "      <td>2003</td>\n",
              "    </tr>\n",
              "    <tr>\n",
              "      <th>36663</th>\n",
              "      <td>0.973786</td>\n",
              "      <td>On Processing XML in LDAP</td>\n",
              "      <td>On Processing XML in LDAP</td>\n",
              "      <td>Pedro Jos&amp;#233; Marr&amp;#243;n, Georg Lausen</td>\n",
              "      <td>Pedro JosÃ© MarrÃ³n, Georg Lausen</td>\n",
              "      <td>Very Large Data Bases</td>\n",
              "      <td>VLDB</td>\n",
              "      <td>2001</td>\n",
              "      <td>2001</td>\n",
              "    </tr>\n",
              "    <tr>\n",
              "      <th>18267</th>\n",
              "      <td>0.973031</td>\n",
              "      <td>Mid-tier caching: the TimesTen approach</td>\n",
              "      <td>Mid-tier caching: the TimesTen approach</td>\n",
              "      <td>The TimesTen Team</td>\n",
              "      <td>Times-Ten Team</td>\n",
              "      <td>International Conference on Management of Data</td>\n",
              "      <td>SIGMOD Conference</td>\n",
              "      <td>2002</td>\n",
              "      <td>2002</td>\n",
              "    </tr>\n",
              "    <tr>\n",
              "      <th>4479</th>\n",
              "      <td>0.970899</td>\n",
              "      <td>Standard for multimedia databases</td>\n",
              "      <td>MPEG-7 Standard for Multimedia Databases</td>\n",
              "      <td>John R. Smith</td>\n",
              "      <td>John R. Smith</td>\n",
              "      <td>International Conference on Management of Data</td>\n",
              "      <td>SIGMOD Conference</td>\n",
              "      <td>2001</td>\n",
              "      <td>2001</td>\n",
              "    </tr>\n",
              "    <tr>\n",
              "      <th>30140</th>\n",
              "      <td>0.957410</td>\n",
              "      <td>Management of semistructured data</td>\n",
              "      <td>Foreword: Management of Semistructured Data</td>\n",
              "      <td>Dan Suciu</td>\n",
              "      <td>Dan Suciu</td>\n",
              "      <td>ACM SIGMOD Record</td>\n",
              "      <td>SIGMOD Record</td>\n",
              "      <td>1997</td>\n",
              "      <td>1997</td>\n",
              "    </tr>\n",
              "    <tr>\n",
              "      <th>27014</th>\n",
              "      <td>0.955514</td>\n",
              "      <td>The database group at National Technical Unive...</td>\n",
              "      <td>The Database Group at National Technical Unive...</td>\n",
              "      <td>CORPORATE National Technical Univ. of Athens</td>\n",
              "      <td>Timos K. Sellis, Yannis Vassiliou</td>\n",
              "      <td>ACM SIGMOD Record</td>\n",
              "      <td>SIGMOD Record</td>\n",
              "      <td>1995</td>\n",
              "      <td>1995</td>\n",
              "    </tr>\n",
              "  </tbody>\n",
              "</table>\n",
              "</div>"
            ],
            "text/plain": [
              "       best_match_score  ... year_right\n",
              "2287           0.996159  ...       1995\n",
              "3443           0.995429  ...       1996\n",
              "25138          0.987667  ...       1995\n",
              "24974          0.986689  ...       1994\n",
              "37745          0.978702  ...       2003\n",
              "36663          0.973786  ...       2001\n",
              "18267          0.973031  ...       2002\n",
              "4479           0.970899  ...       2001\n",
              "30140          0.957410  ...       1997\n",
              "27014          0.955514  ...       1995\n",
              "\n",
              "[10 rows x 9 columns]"
            ]
          },
          "metadata": {},
          "execution_count": 138
        }
      ]
    },
    {
      "cell_type": "code",
      "metadata": {
        "colab": {
          "base_uri": "https://localhost:8080/",
          "height": 362
        },
        "id": "PFSXtLFoggKC",
        "outputId": "5b5d0021-e8de-43ab-93cd-483389a0df5e"
      },
      "source": [
        "matched_results[cols].query(\"best_match_score <= .80\").sort_values(\n",
        "    by=['best_match_score'], ascending=False).head(5)"
      ],
      "execution_count": 139,
      "outputs": [
        {
          "output_type": "execute_result",
          "data": {
            "text/html": [
              "<div>\n",
              "<style scoped>\n",
              "    .dataframe tbody tr th:only-of-type {\n",
              "        vertical-align: middle;\n",
              "    }\n",
              "\n",
              "    .dataframe tbody tr th {\n",
              "        vertical-align: top;\n",
              "    }\n",
              "\n",
              "    .dataframe thead th {\n",
              "        text-align: right;\n",
              "    }\n",
              "</style>\n",
              "<table border=\"1\" class=\"dataframe\">\n",
              "  <thead>\n",
              "    <tr style=\"text-align: right;\">\n",
              "      <th></th>\n",
              "      <th>best_match_score</th>\n",
              "      <th>title_left</th>\n",
              "      <th>title_right</th>\n",
              "      <th>authors_left</th>\n",
              "      <th>authors_right</th>\n",
              "      <th>venue_left</th>\n",
              "      <th>venue_right</th>\n",
              "      <th>year_left</th>\n",
              "      <th>year_right</th>\n",
              "    </tr>\n",
              "  </thead>\n",
              "  <tbody>\n",
              "    <tr>\n",
              "      <th>39340</th>\n",
              "      <td>0.789043</td>\n",
              "      <td>Cumulative Updates</td>\n",
              "      <td>Cumulative Updates</td>\n",
              "      <td>Suryanarayana M. Sripada, Beat W&amp;#252;thrich</td>\n",
              "      <td>Beat WÃ¼thrich, Suryanarayana M. Sripada</td>\n",
              "      <td>Very Large Data Bases</td>\n",
              "      <td>VLDB</td>\n",
              "      <td>1994</td>\n",
              "      <td>1994</td>\n",
              "    </tr>\n",
              "    <tr>\n",
              "      <th>3764</th>\n",
              "      <td>0.777607</td>\n",
              "      <td>Data management issues in electronic commerce:...</td>\n",
              "      <td>Guest Editor's Introduction</td>\n",
              "      <td>Asuman Dogac</td>\n",
              "      <td>Asuman Dogac</td>\n",
              "      <td>ACM SIGMOD Record</td>\n",
              "      <td>SIGMOD Record</td>\n",
              "      <td>2002</td>\n",
              "      <td>2002</td>\n",
              "    </tr>\n",
              "    <tr>\n",
              "      <th>35427</th>\n",
              "      <td>0.776419</td>\n",
              "      <td>Book reviews</td>\n",
              "      <td>Call for Book Reviews</td>\n",
              "      <td>Karl Aberer</td>\n",
              "      <td>Karl Aberer</td>\n",
              "      <td>ACM SIGMOD Record</td>\n",
              "      <td>SIGMOD Record</td>\n",
              "      <td>2003</td>\n",
              "      <td>2003</td>\n",
              "    </tr>\n",
              "    <tr>\n",
              "      <th>671</th>\n",
              "      <td>0.776227</td>\n",
              "      <td>E-commerce database issues and experience: (ta...</td>\n",
              "      <td>E-Commerce Database Issues and Experience</td>\n",
              "      <td>Anand Rajaraman</td>\n",
              "      <td>Anand Rajaraman</td>\n",
              "      <td>International Conference on Management of Data</td>\n",
              "      <td>SIGMOD Conference</td>\n",
              "      <td>1999</td>\n",
              "      <td>1999</td>\n",
              "    </tr>\n",
              "    <tr>\n",
              "      <th>684</th>\n",
              "      <td>0.775944</td>\n",
              "      <td>In-memory data management for consumer transac...</td>\n",
              "      <td>In-Memory Data Management for Consumer Transac...</td>\n",
              "      <td>CORPORATE TimesTen Team</td>\n",
              "      <td>Times-Ten Team</td>\n",
              "      <td>International Conference on Management of Data</td>\n",
              "      <td>SIGMOD Conference</td>\n",
              "      <td>1999</td>\n",
              "      <td>1999</td>\n",
              "    </tr>\n",
              "  </tbody>\n",
              "</table>\n",
              "</div>"
            ],
            "text/plain": [
              "       best_match_score  ... year_right\n",
              "39340          0.789043  ...       1994\n",
              "3764           0.777607  ...       2002\n",
              "35427          0.776419  ...       2003\n",
              "671            0.776227  ...       1999\n",
              "684            0.775944  ...       1999\n",
              "\n",
              "[5 rows x 9 columns]"
            ]
          },
          "metadata": {},
          "execution_count": 139
        }
      ]
    },
    {
      "cell_type": "markdown",
      "metadata": {
        "id": "o0xsR0RzggKC"
      },
      "source": [
        "### Example using Python Record Linkage Toolkit"
      ]
    },
    {
      "cell_type": "code",
      "metadata": {
        "id": "kz5xQ0NvggKD"
      },
      "source": [
        "acm_data = pd.read_csv(\n",
        "    'https://raw.githubusercontent.com/PaoloMissier/CSC3831-2021-22/main/LINKAGE/DATASETS/ACM.csv'\n",
        ")\n",
        "dblp_data = pd.read_csv(\n",
        "    'https://raw.githubusercontent.com/PaoloMissier/CSC3831-2021-22/main/LINKAGE/DATASETS/dblp.csv',\n",
        "    encoding = 'latin_1' \n",
        ")"
      ],
      "execution_count": 140,
      "outputs": []
    },
    {
      "cell_type": "code",
      "metadata": {
        "colab": {
          "base_uri": "https://localhost:8080/",
          "height": 206
        },
        "id": "xuMfjAwOggKE",
        "outputId": "25d5eda8-e035-4911-db3a-773c6cf3e3ae"
      },
      "source": [
        "acm_data.head()"
      ],
      "execution_count": 141,
      "outputs": [
        {
          "output_type": "execute_result",
          "data": {
            "text/html": [
              "<div>\n",
              "<style scoped>\n",
              "    .dataframe tbody tr th:only-of-type {\n",
              "        vertical-align: middle;\n",
              "    }\n",
              "\n",
              "    .dataframe tbody tr th {\n",
              "        vertical-align: top;\n",
              "    }\n",
              "\n",
              "    .dataframe thead th {\n",
              "        text-align: right;\n",
              "    }\n",
              "</style>\n",
              "<table border=\"1\" class=\"dataframe\">\n",
              "  <thead>\n",
              "    <tr style=\"text-align: right;\">\n",
              "      <th></th>\n",
              "      <th>Unnamed: 0</th>\n",
              "      <th>id</th>\n",
              "      <th>title</th>\n",
              "      <th>authors</th>\n",
              "      <th>venue</th>\n",
              "      <th>year</th>\n",
              "    </tr>\n",
              "  </thead>\n",
              "  <tbody>\n",
              "    <tr>\n",
              "      <th>0</th>\n",
              "      <td>0</td>\n",
              "      <td>304586</td>\n",
              "      <td>The WASA2 object-oriented workflow management ...</td>\n",
              "      <td>Gottfried Vossen, Mathias Weske</td>\n",
              "      <td>International Conference on Management of Data</td>\n",
              "      <td>1999</td>\n",
              "    </tr>\n",
              "    <tr>\n",
              "      <th>1</th>\n",
              "      <td>1</td>\n",
              "      <td>304587</td>\n",
              "      <td>A user-centered interface for querying distrib...</td>\n",
              "      <td>Isabel F. Cruz, Kimberly M. James</td>\n",
              "      <td>International Conference on Management of Data</td>\n",
              "      <td>1999</td>\n",
              "    </tr>\n",
              "    <tr>\n",
              "      <th>2</th>\n",
              "      <td>2</td>\n",
              "      <td>304589</td>\n",
              "      <td>World Wide Database-integrating the Web, CORBA...</td>\n",
              "      <td>Athman Bouguettaya, Boualem Benatallah, Lily H...</td>\n",
              "      <td>International Conference on Management of Data</td>\n",
              "      <td>1999</td>\n",
              "    </tr>\n",
              "    <tr>\n",
              "      <th>3</th>\n",
              "      <td>3</td>\n",
              "      <td>304590</td>\n",
              "      <td>XML-based information mediation with MIX</td>\n",
              "      <td>Chaitan Baru, Amarnath Gupta, Bertram Lud&amp;#228...</td>\n",
              "      <td>International Conference on Management of Data</td>\n",
              "      <td>1999</td>\n",
              "    </tr>\n",
              "    <tr>\n",
              "      <th>4</th>\n",
              "      <td>4</td>\n",
              "      <td>304582</td>\n",
              "      <td>The CCUBE constraint object-oriented database ...</td>\n",
              "      <td>Alexander Brodsky, Victor E. Segal, Jia Chen, ...</td>\n",
              "      <td>International Conference on Management of Data</td>\n",
              "      <td>1999</td>\n",
              "    </tr>\n",
              "  </tbody>\n",
              "</table>\n",
              "</div>"
            ],
            "text/plain": [
              "   Unnamed: 0      id  ...                                           venue  year\n",
              "0           0  304586  ...  International Conference on Management of Data  1999\n",
              "1           1  304587  ...  International Conference on Management of Data  1999\n",
              "2           2  304589  ...  International Conference on Management of Data  1999\n",
              "3           3  304590  ...  International Conference on Management of Data  1999\n",
              "4           4  304582  ...  International Conference on Management of Data  1999\n",
              "\n",
              "[5 rows x 6 columns]"
            ]
          },
          "metadata": {},
          "execution_count": 141
        }
      ]
    },
    {
      "cell_type": "code",
      "metadata": {
        "colab": {
          "base_uri": "https://localhost:8080/",
          "height": 206
        },
        "id": "UYE17PewggKF",
        "outputId": "7c39a31d-8ef4-465b-93b7-5f0c4c553297"
      },
      "source": [
        "dblp_data.head()"
      ],
      "execution_count": 142,
      "outputs": [
        {
          "output_type": "execute_result",
          "data": {
            "text/html": [
              "<div>\n",
              "<style scoped>\n",
              "    .dataframe tbody tr th:only-of-type {\n",
              "        vertical-align: middle;\n",
              "    }\n",
              "\n",
              "    .dataframe tbody tr th {\n",
              "        vertical-align: top;\n",
              "    }\n",
              "\n",
              "    .dataframe thead th {\n",
              "        text-align: right;\n",
              "    }\n",
              "</style>\n",
              "<table border=\"1\" class=\"dataframe\">\n",
              "  <thead>\n",
              "    <tr style=\"text-align: right;\">\n",
              "      <th></th>\n",
              "      <th>Unnamed: 0</th>\n",
              "      <th>id</th>\n",
              "      <th>title</th>\n",
              "      <th>authors</th>\n",
              "      <th>venue</th>\n",
              "      <th>year</th>\n",
              "    </tr>\n",
              "  </thead>\n",
              "  <tbody>\n",
              "    <tr>\n",
              "      <th>0</th>\n",
              "      <td>0</td>\n",
              "      <td>journals/sigmod/Mackay99</td>\n",
              "      <td>Semantic Integration of Environmental Models f...</td>\n",
              "      <td>D. Scott Mackay</td>\n",
              "      <td>SIGMOD Record</td>\n",
              "      <td>1999</td>\n",
              "    </tr>\n",
              "    <tr>\n",
              "      <th>1</th>\n",
              "      <td>1</td>\n",
              "      <td>conf/vldb/PoosalaI96</td>\n",
              "      <td>Estimation of Query-Result Distribution and it...</td>\n",
              "      <td>Viswanath Poosala, Yannis E. Ioannidis</td>\n",
              "      <td>VLDB</td>\n",
              "      <td>1996</td>\n",
              "    </tr>\n",
              "    <tr>\n",
              "      <th>2</th>\n",
              "      <td>2</td>\n",
              "      <td>conf/vldb/PalpanasSCP02</td>\n",
              "      <td>Incremental Maintenance for Non-Distributive A...</td>\n",
              "      <td>Themistoklis Palpanas, Richard Sidle, Hamid Pi...</td>\n",
              "      <td>VLDB</td>\n",
              "      <td>2002</td>\n",
              "    </tr>\n",
              "    <tr>\n",
              "      <th>3</th>\n",
              "      <td>3</td>\n",
              "      <td>conf/vldb/GardarinGT96</td>\n",
              "      <td>Cost-based Selection of Path Expression Proces...</td>\n",
              "      <td>Zhao-Hui Tang, Georges Gardarin, Jean-Robert G...</td>\n",
              "      <td>VLDB</td>\n",
              "      <td>1996</td>\n",
              "    </tr>\n",
              "    <tr>\n",
              "      <th>4</th>\n",
              "      <td>4</td>\n",
              "      <td>conf/vldb/HoelS95</td>\n",
              "      <td>Benchmarking Spatial Join Operations with Spat...</td>\n",
              "      <td>Erik G. Hoel, Hanan Samet</td>\n",
              "      <td>VLDB</td>\n",
              "      <td>1995</td>\n",
              "    </tr>\n",
              "  </tbody>\n",
              "</table>\n",
              "</div>"
            ],
            "text/plain": [
              "   Unnamed: 0                        id  ...          venue  year\n",
              "0           0  journals/sigmod/Mackay99  ...  SIGMOD Record  1999\n",
              "1           1      conf/vldb/PoosalaI96  ...           VLDB  1996\n",
              "2           2   conf/vldb/PalpanasSCP02  ...           VLDB  2002\n",
              "3           3    conf/vldb/GardarinGT96  ...           VLDB  1996\n",
              "4           4         conf/vldb/HoelS95  ...           VLDB  1995\n",
              "\n",
              "[5 rows x 6 columns]"
            ]
          },
          "metadata": {},
          "execution_count": 142
        }
      ]
    },
    {
      "cell_type": "code",
      "metadata": {
        "colab": {
          "base_uri": "https://localhost:8080/"
        },
        "id": "y4-HaKS_ggKF",
        "outputId": "f81b54f1-d42e-4e39-9002-1a0de74dd610"
      },
      "source": [
        "# Build the indexer\n",
        "indexer = recordlinkage.Index()\n",
        "# Can use full or block\n",
        "#indexer.full()\n",
        "#indexer.block(left_on='State', right_on='Provider State')\n",
        "\n",
        "# Use sortedneighbor as a good option if data is not clean\n",
        "indexer.sortedneighbourhood(left_on='year', right_on='year')"
      ],
      "execution_count": 143,
      "outputs": [
        {
          "output_type": "execute_result",
          "data": {
            "text/plain": [
              "<Index>"
            ]
          },
          "metadata": {},
          "execution_count": 143
        }
      ]
    },
    {
      "cell_type": "code",
      "metadata": {
        "id": "ohbohqo7ggKG"
      },
      "source": [
        "candidates = indexer.index(acm_data, dblp_data)"
      ],
      "execution_count": 144,
      "outputs": []
    },
    {
      "cell_type": "code",
      "metadata": {
        "colab": {
          "base_uri": "https://localhost:8080/"
        },
        "id": "rVvzTpbVggKG",
        "outputId": "53cb9768-7b10-4c1b-9e75-2c35d0fb4e10"
      },
      "source": [
        "# Let's see how many matches we want to do\n",
        "print(len(candidates))"
      ],
      "execution_count": 145,
      "outputs": [
        {
          "output_type": "stream",
          "name": "stdout",
          "text": [
            "1680430\n"
          ]
        }
      ]
    },
    {
      "cell_type": "code",
      "source": [
        "print(acm_data.columns)\n",
        "print(dblp_data.columns)"
      ],
      "metadata": {
        "colab": {
          "base_uri": "https://localhost:8080/"
        },
        "id": "_UwmYMv-gILA",
        "outputId": "8e268d43-5e64-4f37-96aa-398cd8e55fe6"
      },
      "execution_count": 146,
      "outputs": [
        {
          "output_type": "stream",
          "name": "stdout",
          "text": [
            "Index(['Unnamed: 0', 'id', 'title', 'authors', 'venue', 'year'], dtype='object')\n",
            "Index(['Unnamed: 0', 'id', 'title', 'authors', 'venue', 'year'], dtype='object')\n"
          ]
        }
      ]
    },
    {
      "cell_type": "code",
      "metadata": {
        "id": "dwgki7XgggKG"
      },
      "source": [
        "# Takes 3 minutes using the full index.\n",
        "# 14s using sorted neighbor\n",
        "# 7s using blocking\n",
        "compare = recordlinkage.Compare()\n",
        "compare.exact('year', 'year', label='year')\n",
        "compare.string('authors',\n",
        "               'authors',\n",
        "               threshold=0.85,\n",
        "               label='authors')\n",
        "compare.string('title',\n",
        "               'title',\n",
        "               method='jarowinkler',\n",
        "               threshold=0.85,\n",
        "               label='title')\n",
        "compare.string('venue',\n",
        "               'venue',\n",
        "               method='jarowinkler',\n",
        "               threshold=0.85,\n",
        "               label='venue')\n",
        "features = compare.compute(candidates, acm_data,\n",
        "                           dblp_data)"
      ],
      "execution_count": 147,
      "outputs": []
    },
    {
      "cell_type": "code",
      "metadata": {
        "colab": {
          "base_uri": "https://localhost:8080/",
          "height": 300
        },
        "id": "vUnUHC_WggKH",
        "outputId": "bc24250f-233b-4fc4-ac61-f5b882de5e88"
      },
      "source": [
        "features.describe()"
      ],
      "execution_count": 148,
      "outputs": [
        {
          "output_type": "execute_result",
          "data": {
            "text/html": [
              "<div>\n",
              "<style scoped>\n",
              "    .dataframe tbody tr th:only-of-type {\n",
              "        vertical-align: middle;\n",
              "    }\n",
              "\n",
              "    .dataframe tbody tr th {\n",
              "        vertical-align: top;\n",
              "    }\n",
              "\n",
              "    .dataframe thead th {\n",
              "        text-align: right;\n",
              "    }\n",
              "</style>\n",
              "<table border=\"1\" class=\"dataframe\">\n",
              "  <thead>\n",
              "    <tr style=\"text-align: right;\">\n",
              "      <th></th>\n",
              "      <th>year</th>\n",
              "      <th>authors</th>\n",
              "      <th>title</th>\n",
              "      <th>venue</th>\n",
              "    </tr>\n",
              "  </thead>\n",
              "  <tbody>\n",
              "    <tr>\n",
              "      <th>count</th>\n",
              "      <td>1.680430e+06</td>\n",
              "      <td>1.680430e+06</td>\n",
              "      <td>1.680430e+06</td>\n",
              "      <td>1680430.0</td>\n",
              "    </tr>\n",
              "    <tr>\n",
              "      <th>mean</th>\n",
              "      <td>3.578156e-01</td>\n",
              "      <td>7.224341e-04</td>\n",
              "      <td>1.475218e-03</td>\n",
              "      <td>0.0</td>\n",
              "    </tr>\n",
              "    <tr>\n",
              "      <th>std</th>\n",
              "      <td>4.793576e-01</td>\n",
              "      <td>2.686843e-02</td>\n",
              "      <td>3.838023e-02</td>\n",
              "      <td>0.0</td>\n",
              "    </tr>\n",
              "    <tr>\n",
              "      <th>min</th>\n",
              "      <td>0.000000e+00</td>\n",
              "      <td>0.000000e+00</td>\n",
              "      <td>0.000000e+00</td>\n",
              "      <td>0.0</td>\n",
              "    </tr>\n",
              "    <tr>\n",
              "      <th>25%</th>\n",
              "      <td>0.000000e+00</td>\n",
              "      <td>0.000000e+00</td>\n",
              "      <td>0.000000e+00</td>\n",
              "      <td>0.0</td>\n",
              "    </tr>\n",
              "    <tr>\n",
              "      <th>50%</th>\n",
              "      <td>0.000000e+00</td>\n",
              "      <td>0.000000e+00</td>\n",
              "      <td>0.000000e+00</td>\n",
              "      <td>0.0</td>\n",
              "    </tr>\n",
              "    <tr>\n",
              "      <th>75%</th>\n",
              "      <td>1.000000e+00</td>\n",
              "      <td>0.000000e+00</td>\n",
              "      <td>0.000000e+00</td>\n",
              "      <td>0.0</td>\n",
              "    </tr>\n",
              "    <tr>\n",
              "      <th>max</th>\n",
              "      <td>1.000000e+00</td>\n",
              "      <td>1.000000e+00</td>\n",
              "      <td>1.000000e+00</td>\n",
              "      <td>0.0</td>\n",
              "    </tr>\n",
              "  </tbody>\n",
              "</table>\n",
              "</div>"
            ],
            "text/plain": [
              "               year       authors         title      venue\n",
              "count  1.680430e+06  1.680430e+06  1.680430e+06  1680430.0\n",
              "mean   3.578156e-01  7.224341e-04  1.475218e-03        0.0\n",
              "std    4.793576e-01  2.686843e-02  3.838023e-02        0.0\n",
              "min    0.000000e+00  0.000000e+00  0.000000e+00        0.0\n",
              "25%    0.000000e+00  0.000000e+00  0.000000e+00        0.0\n",
              "50%    0.000000e+00  0.000000e+00  0.000000e+00        0.0\n",
              "75%    1.000000e+00  0.000000e+00  0.000000e+00        0.0\n",
              "max    1.000000e+00  1.000000e+00  1.000000e+00        0.0"
            ]
          },
          "metadata": {},
          "execution_count": 148
        }
      ]
    },
    {
      "cell_type": "code",
      "metadata": {
        "colab": {
          "base_uri": "https://localhost:8080/"
        },
        "id": "RHJ5QabQggKH",
        "outputId": "2104d0c4-4c07-4fb7-89e5-724260dd8cfe"
      },
      "source": [
        "# What are the score totals?\n",
        "features.sum(axis=1).value_counts().sort_index(ascending=False)"
      ],
      "execution_count": 149,
      "outputs": [
        {
          "output_type": "execute_result",
          "data": {
            "text/plain": [
              "3.0        706\n",
              "2.0       1781\n",
              "1.0     599297\n",
              "0.0    1078646\n",
              "dtype: int64"
            ]
          },
          "metadata": {},
          "execution_count": 149
        }
      ]
    },
    {
      "cell_type": "code",
      "metadata": {
        "id": "bxNeZSMSggKH"
      },
      "source": [
        "# Get the potential matches\n",
        "potential_matches = features[features.sum(axis=1) > 1].reset_index()"
      ],
      "execution_count": 150,
      "outputs": []
    },
    {
      "cell_type": "code",
      "metadata": {
        "id": "sIGCDlrkggKH",
        "outputId": "f852a8a6-dffb-4645-81f1-81413dc92da9",
        "colab": {
          "base_uri": "https://localhost:8080/",
          "height": 206
        }
      },
      "source": [
        "potential_matches['Score'] = potential_matches.loc[:, 'authors':'authors'].sum(axis=1)\n",
        "potential_matches.head()"
      ],
      "execution_count": 152,
      "outputs": [
        {
          "output_type": "execute_result",
          "data": {
            "text/html": [
              "<div>\n",
              "<style scoped>\n",
              "    .dataframe tbody tr th:only-of-type {\n",
              "        vertical-align: middle;\n",
              "    }\n",
              "\n",
              "    .dataframe tbody tr th {\n",
              "        vertical-align: top;\n",
              "    }\n",
              "\n",
              "    .dataframe thead th {\n",
              "        text-align: right;\n",
              "    }\n",
              "</style>\n",
              "<table border=\"1\" class=\"dataframe\">\n",
              "  <thead>\n",
              "    <tr style=\"text-align: right;\">\n",
              "      <th></th>\n",
              "      <th>level_0</th>\n",
              "      <th>level_1</th>\n",
              "      <th>year</th>\n",
              "      <th>authors</th>\n",
              "      <th>title</th>\n",
              "      <th>venue</th>\n",
              "      <th>Score</th>\n",
              "    </tr>\n",
              "  </thead>\n",
              "  <tbody>\n",
              "    <tr>\n",
              "      <th>0</th>\n",
              "      <td>226</td>\n",
              "      <td>907</td>\n",
              "      <td>0</td>\n",
              "      <td>1.0</td>\n",
              "      <td>1.0</td>\n",
              "      <td>0.0</td>\n",
              "      <td>1.0</td>\n",
              "    </tr>\n",
              "    <tr>\n",
              "      <th>1</th>\n",
              "      <td>334</td>\n",
              "      <td>907</td>\n",
              "      <td>0</td>\n",
              "      <td>1.0</td>\n",
              "      <td>1.0</td>\n",
              "      <td>0.0</td>\n",
              "      <td>1.0</td>\n",
              "    </tr>\n",
              "    <tr>\n",
              "      <th>2</th>\n",
              "      <td>598</td>\n",
              "      <td>386</td>\n",
              "      <td>0</td>\n",
              "      <td>1.0</td>\n",
              "      <td>1.0</td>\n",
              "      <td>0.0</td>\n",
              "      <td>1.0</td>\n",
              "    </tr>\n",
              "    <tr>\n",
              "      <th>3</th>\n",
              "      <td>598</td>\n",
              "      <td>705</td>\n",
              "      <td>0</td>\n",
              "      <td>1.0</td>\n",
              "      <td>1.0</td>\n",
              "      <td>0.0</td>\n",
              "      <td>1.0</td>\n",
              "    </tr>\n",
              "    <tr>\n",
              "      <th>4</th>\n",
              "      <td>598</td>\n",
              "      <td>942</td>\n",
              "      <td>0</td>\n",
              "      <td>1.0</td>\n",
              "      <td>1.0</td>\n",
              "      <td>0.0</td>\n",
              "      <td>1.0</td>\n",
              "    </tr>\n",
              "  </tbody>\n",
              "</table>\n",
              "</div>"
            ],
            "text/plain": [
              "   level_0  level_1  year  authors  title  venue  Score\n",
              "0      226      907     0      1.0    1.0    0.0    1.0\n",
              "1      334      907     0      1.0    1.0    0.0    1.0\n",
              "2      598      386     0      1.0    1.0    0.0    1.0\n",
              "3      598      705     0      1.0    1.0    0.0    1.0\n",
              "4      598      942     0      1.0    1.0    0.0    1.0"
            ]
          },
          "metadata": {},
          "execution_count": 152
        }
      ]
    },
    {
      "cell_type": "code",
      "metadata": {
        "id": "tjsIFztBggKI",
        "outputId": "319ae39b-5678-4acf-c2d2-e4e41cfd66c2",
        "colab": {
          "base_uri": "https://localhost:8080/"
        }
      },
      "source": [
        "acm_data.loc[226,:]"
      ],
      "execution_count": 154,
      "outputs": [
        {
          "output_type": "execute_result",
          "data": {
            "text/plain": [
              "Unnamed: 0                                    226\n",
              "id                                         290599\n",
              "title         Reminiscences on influential papers\n",
              "authors                         Richard Snodgrass\n",
              "venue                          ACM SIGMOD Record \n",
              "year                                         1998\n",
              "Name: 226, dtype: object"
            ]
          },
          "metadata": {},
          "execution_count": 154
        }
      ]
    },
    {
      "cell_type": "code",
      "metadata": {
        "id": "-XxVYI6gggKI",
        "outputId": "cf4b7a82-f7eb-4c67-eefe-d3c7b31b8676",
        "colab": {
          "base_uri": "https://localhost:8080/"
        }
      },
      "source": [
        "dblp_data.loc[907,:]"
      ],
      "execution_count": 155,
      "outputs": [
        {
          "output_type": "execute_result",
          "data": {
            "text/plain": [
              "Unnamed: 0                                    907\n",
              "id                   journals/sigmod/Snodgrass99b\n",
              "title         Reminiscences on Influential Papers\n",
              "authors                      Richard T. Snodgrass\n",
              "venue                               SIGMOD Record\n",
              "year                                         1999\n",
              "Name: 907, dtype: object"
            ]
          },
          "metadata": {},
          "execution_count": 155
        }
      ]
    },
    {
      "cell_type": "code",
      "metadata": {
        "id": "giS0ItxVggKI"
      },
      "source": [
        "# Add some convenience columns for comparing data\n",
        "hospital_accounts['Acct_Name_Lookup'] = hospital_accounts[[\n",
        "    'Facility Name', 'Address', 'City', 'State'\n",
        "]].apply(lambda x: '_'.join(x), axis=1)"
      ],
      "execution_count": null,
      "outputs": []
    },
    {
      "cell_type": "code",
      "metadata": {
        "id": "Ne-fN_G6ggKI"
      },
      "source": [
        "hospital_reimbursement['Reimbursement_Name_Lookup'] = hospital_reimbursement[[\n",
        "    'Provider Name', 'Provider Street Address', 'Provider City',\n",
        "    'Provider State'\n",
        "]].apply(lambda x: '_'.join(x), axis=1)"
      ],
      "execution_count": null,
      "outputs": []
    },
    {
      "cell_type": "code",
      "metadata": {
        "id": "GwL3NpCsggKJ"
      },
      "source": [
        "reimbursement_lookup = hospital_reimbursement[['Reimbursement_Name_Lookup']].reset_index()\n",
        "account_lookup = hospital_accounts[['Acct_Name_Lookup']].reset_index()"
      ],
      "execution_count": null,
      "outputs": []
    },
    {
      "cell_type": "code",
      "metadata": {
        "id": "Ptr0MtvzggKJ"
      },
      "source": [
        "account_lookup.head()"
      ],
      "execution_count": null,
      "outputs": []
    },
    {
      "cell_type": "code",
      "metadata": {
        "id": "VYE3PiGRggKJ"
      },
      "source": [
        "reimbursement_lookup.head()"
      ],
      "execution_count": null,
      "outputs": []
    },
    {
      "cell_type": "code",
      "metadata": {
        "id": "906QfJPZggKJ"
      },
      "source": [
        "account_merge = potential_matches.merge(account_lookup, how='left')"
      ],
      "execution_count": null,
      "outputs": []
    },
    {
      "cell_type": "code",
      "metadata": {
        "id": "oU8E7B2wggKJ"
      },
      "source": [
        "account_merge.head()"
      ],
      "execution_count": null,
      "outputs": []
    },
    {
      "cell_type": "code",
      "metadata": {
        "id": "q8Pt1mKEggKK"
      },
      "source": [
        "reimbursement_lookup.head()"
      ],
      "execution_count": null,
      "outputs": []
    },
    {
      "cell_type": "code",
      "metadata": {
        "id": "6pND93s1ggKK"
      },
      "source": [
        "# Let's build a dataframe to  compare\n",
        "final_merge = account_merge.merge(reimbursement_lookup, how='left')"
      ],
      "execution_count": null,
      "outputs": []
    },
    {
      "cell_type": "code",
      "metadata": {
        "id": "0z99XcjWggKK"
      },
      "source": [
        "cols = [\n",
        "    'Account_Num', 'Provider_Num', 'Score', 'Acct_Name_Lookup',\n",
        "    'Reimbursement_Name_Lookup'\n",
        "]"
      ],
      "execution_count": null,
      "outputs": []
    },
    {
      "cell_type": "code",
      "metadata": {
        "id": "C9DOVpDOggKK"
      },
      "source": [
        "final_merge[cols].sort_values(by=['Account_Num', 'Score'], ascending=False)"
      ],
      "execution_count": null,
      "outputs": []
    },
    {
      "cell_type": "code",
      "metadata": {
        "id": "b9CAXVuvggKL"
      },
      "source": [
        "# If you need to save it to Excel -\n",
        "#final_merge.sort_values(by=['Account_Num', 'Score'],\n",
        "#                        ascending=False).to_excel('merge_list.xlsx',\n",
        "#                                                  index=False)"
      ],
      "execution_count": null,
      "outputs": []
    },
    {
      "cell_type": "code",
      "metadata": {
        "id": "voL6bbTSggKL"
      },
      "source": [
        "final_merge[final_merge['Account_Num']==11035][cols]"
      ],
      "execution_count": null,
      "outputs": []
    },
    {
      "cell_type": "code",
      "metadata": {
        "id": "LLHwWaf6ggKL"
      },
      "source": [
        "final_merge[final_merge['Account_Num']==56375][cols]"
      ],
      "execution_count": null,
      "outputs": []
    },
    {
      "cell_type": "markdown",
      "metadata": {
        "id": "j6j9vlLRggKL"
      },
      "source": [
        "### Dedupe the data"
      ]
    },
    {
      "cell_type": "code",
      "metadata": {
        "id": "cxLrpEiiggKL"
      },
      "source": [
        "hospital_dupes = pd.read_csv(\n",
        "    'https://github.com/chris1610/pbpython/raw/master/data/hospital_account_dupes.csv',\n",
        "    index_col='Account_Num')"
      ],
      "execution_count": null,
      "outputs": []
    },
    {
      "cell_type": "code",
      "metadata": {
        "id": "01lWZisHggKQ"
      },
      "source": [
        "hospital_dupes.head()"
      ],
      "execution_count": null,
      "outputs": []
    },
    {
      "cell_type": "code",
      "metadata": {
        "id": "HH9n6zb_ggKQ"
      },
      "source": [
        "# Deduping follows the same process, you just use 1 single dataframe\n",
        "dupe_indexer = recordlinkage.Index()\n",
        "dupe_indexer.sortedneighbourhood(left_on='State')\n",
        "dupe_candidate_links = dupe_indexer.index(hospital_dupes)\n"
      ],
      "execution_count": null,
      "outputs": []
    },
    {
      "cell_type": "code",
      "metadata": {
        "id": "QhakRZsQggKQ"
      },
      "source": [
        "# Comparison step\n",
        "compare_dupes = recordlinkage.Compare()\n",
        "compare_dupes.string('City', 'City', threshold=0.85, label='City')\n",
        "compare_dupes.string('Phone Number',\n",
        "                     'Phone Number',\n",
        "                     threshold=0.85,\n",
        "                     label='Phone_Num')\n",
        "compare_dupes.string('Facility Name',\n",
        "                     'Facility Name',\n",
        "                     threshold=0.80,\n",
        "                     label='Hosp_Name')\n",
        "compare_dupes.string('Address',\n",
        "                     'Address',\n",
        "                     threshold=0.85,\n",
        "                     label='Hosp_Address')\n",
        "dupe_features = compare_dupes.compute(dupe_candidate_links, hospital_dupes)"
      ],
      "execution_count": null,
      "outputs": []
    },
    {
      "cell_type": "code",
      "metadata": {
        "id": "QeCnlkDuggKR"
      },
      "source": [
        "dupe_features"
      ],
      "execution_count": null,
      "outputs": []
    },
    {
      "cell_type": "code",
      "metadata": {
        "id": "jBz1Ds3SggKR"
      },
      "source": [
        "dupe_features.sum(axis=1).value_counts().sort_index(ascending=False)"
      ],
      "execution_count": null,
      "outputs": []
    },
    {
      "cell_type": "code",
      "metadata": {
        "id": "qSnuQwjeggKS"
      },
      "source": [
        "potential_dupes = dupe_features[dupe_features.sum(axis=1) > 2].reset_index()\n",
        "potential_dupes['Score'] = potential_dupes.loc[:, 'City':'Hosp_Address'].sum(axis=1)"
      ],
      "execution_count": null,
      "outputs": []
    },
    {
      "cell_type": "code",
      "metadata": {
        "id": "mf48icF2ggKS"
      },
      "source": [
        "potential_dupes.sort_values(by=['Score'], ascending=True)"
      ],
      "execution_count": null,
      "outputs": []
    },
    {
      "cell_type": "code",
      "metadata": {
        "id": "sDx6kWPAggKS"
      },
      "source": [
        "# Take a look at one of the potential duplicates\n",
        "hospital_dupes[hospital_dupes.index.isin([51567, 41166])]"
      ],
      "execution_count": null,
      "outputs": []
    }
  ]
}
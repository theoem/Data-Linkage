{
  "nbformat": 4,
  "nbformat_minor": 0,
  "metadata": {
    "kernelspec": {
      "display_name": "Python 3.7.2 64-bit",
      "language": "python",
      "name": "python37264bit24e6adcd4e9b4d8bb6ff9239d4d45105"
    },
    "language_info": {
      "codemirror_mode": {
        "name": "ipython",
        "version": 3
      },
      "file_extension": ".py",
      "mimetype": "text/x-python",
      "name": "python",
      "nbconvert_exporter": "python",
      "pygments_lexer": "ipython3",
      "version": "3.7.2"
    },
    "colab": {
      "name": "Copy of Record-Linking-Fuzzy-Matching-modified.ipynb",
      "provenance": [],
      "collapsed_sections": [
        "GdM7SiysggJ4"
      ],
      "include_colab_link": true
    }
  },
  "cells": [
    {
      "cell_type": "markdown",
      "metadata": {
        "id": "view-in-github",
        "colab_type": "text"
      },
      "source": [
        "<a href=\"https://colab.research.google.com/github/theoem/Data-Linkage/blob/master/Data-Linkage/Record-Linking-Fuzzy-Matching-Teodoras.ipynb\" target=\"_parent\"><img src=\"https://colab.research.google.com/assets/colab-badge.svg\" alt=\"Open In Colab\"/></a>"
      ]
    },
    {
      "cell_type": "markdown",
      "metadata": {
        "id": "XO5trSQBggJw"
      },
      "source": [
        "## CSC8381 Record Linking - Teodoras Celencevicius 190364247\n"
      ]
    },
    {
      "cell_type": "code",
      "metadata": {
        "id": "IM0SEJhkgifV",
        "colab": {
          "base_uri": "https://localhost:8080/"
        },
        "outputId": "ac0a7cb7-d3ed-444f-ad56-f1ee84b90c67"
      },
      "source": [
        "!pip install fuzzymatcher"
      ],
      "execution_count": 272,
      "outputs": [
        {
          "output_type": "stream",
          "name": "stdout",
          "text": [
            "Requirement already satisfied: fuzzymatcher in /usr/local/lib/python3.7/dist-packages (0.0.5)\n",
            "Requirement already satisfied: pandas in /usr/local/lib/python3.7/dist-packages (from fuzzymatcher) (1.1.5)\n",
            "Requirement already satisfied: python-Levenshtein in /usr/local/lib/python3.7/dist-packages (from fuzzymatcher) (0.12.2)\n",
            "Requirement already satisfied: fuzzywuzzy in /usr/local/lib/python3.7/dist-packages (from fuzzymatcher) (0.18.0)\n",
            "Requirement already satisfied: metaphone in /usr/local/lib/python3.7/dist-packages (from fuzzymatcher) (0.6)\n",
            "Requirement already satisfied: python-dateutil in /usr/local/lib/python3.7/dist-packages (from fuzzymatcher) (2.8.2)\n",
            "Requirement already satisfied: numpy>=1.15.4 in /usr/local/lib/python3.7/dist-packages (from pandas->fuzzymatcher) (1.19.5)\n",
            "Requirement already satisfied: pytz>=2017.2 in /usr/local/lib/python3.7/dist-packages (from pandas->fuzzymatcher) (2018.9)\n",
            "Requirement already satisfied: six>=1.5 in /usr/local/lib/python3.7/dist-packages (from python-dateutil->fuzzymatcher) (1.15.0)\n",
            "Requirement already satisfied: setuptools in /usr/local/lib/python3.7/dist-packages (from python-Levenshtein->fuzzymatcher) (57.4.0)\n"
          ]
        }
      ]
    },
    {
      "cell_type": "code",
      "metadata": {
        "id": "DgHTz3fpgt69",
        "colab": {
          "base_uri": "https://localhost:8080/"
        },
        "outputId": "55d67f97-b941-4069-a6b5-2926e0c4a381"
      },
      "source": [
        "!pip install recordlinkage"
      ],
      "execution_count": 273,
      "outputs": [
        {
          "output_type": "stream",
          "name": "stdout",
          "text": [
            "Requirement already satisfied: recordlinkage in /usr/local/lib/python3.7/dist-packages (0.14)\n",
            "Requirement already satisfied: scikit-learn>=0.19.0 in /usr/local/lib/python3.7/dist-packages (from recordlinkage) (1.0.1)\n",
            "Requirement already satisfied: pandas>=0.23 in /usr/local/lib/python3.7/dist-packages (from recordlinkage) (1.1.5)\n",
            "Requirement already satisfied: jellyfish>=0.5.4 in /usr/local/lib/python3.7/dist-packages (from recordlinkage) (0.8.9)\n",
            "Requirement already satisfied: numpy>=1.13.0 in /usr/local/lib/python3.7/dist-packages (from recordlinkage) (1.19.5)\n",
            "Requirement already satisfied: scipy>=1 in /usr/local/lib/python3.7/dist-packages (from recordlinkage) (1.4.1)\n",
            "Requirement already satisfied: joblib in /usr/local/lib/python3.7/dist-packages (from recordlinkage) (1.1.0)\n",
            "Requirement already satisfied: pytz>=2017.2 in /usr/local/lib/python3.7/dist-packages (from pandas>=0.23->recordlinkage) (2018.9)\n",
            "Requirement already satisfied: python-dateutil>=2.7.3 in /usr/local/lib/python3.7/dist-packages (from pandas>=0.23->recordlinkage) (2.8.2)\n",
            "Requirement already satisfied: six>=1.5 in /usr/local/lib/python3.7/dist-packages (from python-dateutil>=2.7.3->pandas>=0.23->recordlinkage) (1.15.0)\n",
            "Requirement already satisfied: threadpoolctl>=2.0.0 in /usr/local/lib/python3.7/dist-packages (from scikit-learn>=0.19.0->recordlinkage) (3.0.0)\n"
          ]
        }
      ]
    },
    {
      "cell_type": "code",
      "metadata": {
        "id": "lHpXnLdtggJ2"
      },
      "source": [
        "import pandas as pd\n",
        "from pathlib import Path\n",
        "import fuzzymatcher\n",
        "import recordlinkage\n",
        "from sklearn.metrics import f1_score"
      ],
      "execution_count": 274,
      "outputs": []
    },
    {
      "cell_type": "markdown",
      "metadata": {
        "id": "GdM7SiysggJ4"
      },
      "source": [
        "### Using fuzzymatcher"
      ]
    },
    {
      "cell_type": "code",
      "metadata": {
        "id": "6qSUVatxggJ5"
      },
      "source": [
        "acm_data = pd.read_csv(\n",
        "    'https://raw.githubusercontent.com/PaoloMissier/CSC3831-2021-22/main/LINKAGE/DATASETS/ACM.csv'\n",
        ")\n",
        "dblp_data = pd.read_csv(\n",
        "    'https://raw.githubusercontent.com/PaoloMissier/CSC3831-2021-22/main/LINKAGE/DATASETS/dblp.csv'\n",
        ")"
      ],
      "execution_count": 275,
      "outputs": []
    },
    {
      "cell_type": "code",
      "metadata": {
        "id": "nAHXG_6KggJ6",
        "colab": {
          "base_uri": "https://localhost:8080/",
          "height": 310
        },
        "outputId": "06296701-7956-424b-c0ba-3cc535e9f74a"
      },
      "source": [
        "acm_data.head()"
      ],
      "execution_count": 276,
      "outputs": [
        {
          "output_type": "execute_result",
          "data": {
            "text/html": [
              "<div>\n",
              "<style scoped>\n",
              "    .dataframe tbody tr th:only-of-type {\n",
              "        vertical-align: middle;\n",
              "    }\n",
              "\n",
              "    .dataframe tbody tr th {\n",
              "        vertical-align: top;\n",
              "    }\n",
              "\n",
              "    .dataframe thead th {\n",
              "        text-align: right;\n",
              "    }\n",
              "</style>\n",
              "<table border=\"1\" class=\"dataframe\">\n",
              "  <thead>\n",
              "    <tr style=\"text-align: right;\">\n",
              "      <th></th>\n",
              "      <th>Unnamed: 0</th>\n",
              "      <th>id</th>\n",
              "      <th>title</th>\n",
              "      <th>authors</th>\n",
              "      <th>venue</th>\n",
              "      <th>year</th>\n",
              "    </tr>\n",
              "  </thead>\n",
              "  <tbody>\n",
              "    <tr>\n",
              "      <th>0</th>\n",
              "      <td>0</td>\n",
              "      <td>304586</td>\n",
              "      <td>The WASA2 object-oriented workflow management ...</td>\n",
              "      <td>Gottfried Vossen, Mathias Weske</td>\n",
              "      <td>International Conference on Management of Data</td>\n",
              "      <td>1999</td>\n",
              "    </tr>\n",
              "    <tr>\n",
              "      <th>1</th>\n",
              "      <td>1</td>\n",
              "      <td>304587</td>\n",
              "      <td>A user-centered interface for querying distrib...</td>\n",
              "      <td>Isabel F. Cruz, Kimberly M. James</td>\n",
              "      <td>International Conference on Management of Data</td>\n",
              "      <td>1999</td>\n",
              "    </tr>\n",
              "    <tr>\n",
              "      <th>2</th>\n",
              "      <td>2</td>\n",
              "      <td>304589</td>\n",
              "      <td>World Wide Database-integrating the Web, CORBA...</td>\n",
              "      <td>Athman Bouguettaya, Boualem Benatallah, Lily H...</td>\n",
              "      <td>International Conference on Management of Data</td>\n",
              "      <td>1999</td>\n",
              "    </tr>\n",
              "    <tr>\n",
              "      <th>3</th>\n",
              "      <td>3</td>\n",
              "      <td>304590</td>\n",
              "      <td>XML-based information mediation with MIX</td>\n",
              "      <td>Chaitan Baru, Amarnath Gupta, Bertram Lud&amp;#228...</td>\n",
              "      <td>International Conference on Management of Data</td>\n",
              "      <td>1999</td>\n",
              "    </tr>\n",
              "    <tr>\n",
              "      <th>4</th>\n",
              "      <td>4</td>\n",
              "      <td>304582</td>\n",
              "      <td>The CCUBE constraint object-oriented database ...</td>\n",
              "      <td>Alexander Brodsky, Victor E. Segal, Jia Chen, ...</td>\n",
              "      <td>International Conference on Management of Data</td>\n",
              "      <td>1999</td>\n",
              "    </tr>\n",
              "  </tbody>\n",
              "</table>\n",
              "</div>"
            ],
            "text/plain": [
              "   Unnamed: 0      id  ...                                           venue  year\n",
              "0           0  304586  ...  International Conference on Management of Data  1999\n",
              "1           1  304587  ...  International Conference on Management of Data  1999\n",
              "2           2  304589  ...  International Conference on Management of Data  1999\n",
              "3           3  304590  ...  International Conference on Management of Data  1999\n",
              "4           4  304582  ...  International Conference on Management of Data  1999\n",
              "\n",
              "[5 rows x 6 columns]"
            ]
          },
          "metadata": {},
          "execution_count": 276
        }
      ]
    },
    {
      "cell_type": "code",
      "metadata": {
        "id": "VIP_Don0ggJ7",
        "colab": {
          "base_uri": "https://localhost:8080/",
          "height": 310
        },
        "outputId": "ad748b19-7b9b-46be-c23b-ef9e8eb4f169"
      },
      "source": [
        "dblp_data.head()"
      ],
      "execution_count": 277,
      "outputs": [
        {
          "output_type": "execute_result",
          "data": {
            "text/html": [
              "<div>\n",
              "<style scoped>\n",
              "    .dataframe tbody tr th:only-of-type {\n",
              "        vertical-align: middle;\n",
              "    }\n",
              "\n",
              "    .dataframe tbody tr th {\n",
              "        vertical-align: top;\n",
              "    }\n",
              "\n",
              "    .dataframe thead th {\n",
              "        text-align: right;\n",
              "    }\n",
              "</style>\n",
              "<table border=\"1\" class=\"dataframe\">\n",
              "  <thead>\n",
              "    <tr style=\"text-align: right;\">\n",
              "      <th></th>\n",
              "      <th>Unnamed: 0</th>\n",
              "      <th>id</th>\n",
              "      <th>title</th>\n",
              "      <th>authors</th>\n",
              "      <th>venue</th>\n",
              "      <th>year</th>\n",
              "    </tr>\n",
              "  </thead>\n",
              "  <tbody>\n",
              "    <tr>\n",
              "      <th>0</th>\n",
              "      <td>0</td>\n",
              "      <td>journals/sigmod/Mackay99</td>\n",
              "      <td>Semantic Integration of Environmental Models f...</td>\n",
              "      <td>D. Scott Mackay</td>\n",
              "      <td>SIGMOD Record</td>\n",
              "      <td>1999</td>\n",
              "    </tr>\n",
              "    <tr>\n",
              "      <th>1</th>\n",
              "      <td>1</td>\n",
              "      <td>conf/vldb/PoosalaI96</td>\n",
              "      <td>Estimation of Query-Result Distribution and it...</td>\n",
              "      <td>Viswanath Poosala, Yannis E. Ioannidis</td>\n",
              "      <td>VLDB</td>\n",
              "      <td>1996</td>\n",
              "    </tr>\n",
              "    <tr>\n",
              "      <th>2</th>\n",
              "      <td>2</td>\n",
              "      <td>conf/vldb/PalpanasSCP02</td>\n",
              "      <td>Incremental Maintenance for Non-Distributive A...</td>\n",
              "      <td>Themistoklis Palpanas, Richard Sidle, Hamid Pi...</td>\n",
              "      <td>VLDB</td>\n",
              "      <td>2002</td>\n",
              "    </tr>\n",
              "    <tr>\n",
              "      <th>3</th>\n",
              "      <td>3</td>\n",
              "      <td>conf/vldb/GardarinGT96</td>\n",
              "      <td>Cost-based Selection of Path Expression Proces...</td>\n",
              "      <td>Zhao-Hui Tang, Georges Gardarin, Jean-Robert G...</td>\n",
              "      <td>VLDB</td>\n",
              "      <td>1996</td>\n",
              "    </tr>\n",
              "    <tr>\n",
              "      <th>4</th>\n",
              "      <td>4</td>\n",
              "      <td>conf/vldb/HoelS95</td>\n",
              "      <td>Benchmarking Spatial Join Operations with Spat...</td>\n",
              "      <td>Erik G. Hoel, Hanan Samet</td>\n",
              "      <td>VLDB</td>\n",
              "      <td>1995</td>\n",
              "    </tr>\n",
              "  </tbody>\n",
              "</table>\n",
              "</div>"
            ],
            "text/plain": [
              "   Unnamed: 0                        id  ...          venue  year\n",
              "0           0  journals/sigmod/Mackay99  ...  SIGMOD Record  1999\n",
              "1           1      conf/vldb/PoosalaI96  ...           VLDB  1996\n",
              "2           2   conf/vldb/PalpanasSCP02  ...           VLDB  2002\n",
              "3           3    conf/vldb/GardarinGT96  ...           VLDB  1996\n",
              "4           4         conf/vldb/HoelS95  ...           VLDB  1995\n",
              "\n",
              "[5 rows x 6 columns]"
            ]
          },
          "metadata": {},
          "execution_count": 277
        }
      ]
    },
    {
      "cell_type": "code",
      "source": [
        "# Deleting any rows where author is not defined.\n",
        "\n",
        "acm_data.dropna(subset=['authors'], inplace=True)\n",
        "dblp_data.dropna(subset=['authors'], inplace=True)"
      ],
      "metadata": {
        "id": "pYvwL8qwQXLD"
      },
      "execution_count": 278,
      "outputs": []
    },
    {
      "cell_type": "code",
      "metadata": {
        "id": "OY688KA8nqcG",
        "colab": {
          "base_uri": "https://localhost:8080/"
        },
        "outputId": "2271a9ef-a954-4b6c-be0d-52ba4f47735e"
      },
      "source": [
        "## dataframe sizes\n",
        "\n",
        "print(\"raw dataframe number of records :\")\n",
        "print(\"acm_data:  {x}\".format(x=acm_data['id'].count()))\n",
        "print(\"dblp_data:  {x}\".format(x=dblp_data['id'].count()))"
      ],
      "execution_count": 279,
      "outputs": [
        {
          "output_type": "stream",
          "name": "stdout",
          "text": [
            "raw dataframe number of records :\n",
            "acm_data:  2280\n",
            "dblp_data:  2616\n"
          ]
        }
      ]
    },
    {
      "cell_type": "code",
      "metadata": {
        "id": "fpdOB8yIo4F4",
        "colab": {
          "base_uri": "https://localhost:8080/",
          "height": 1000
        },
        "outputId": "e80b82a9-1a80-482f-cfe7-0a692f5d139c"
      },
      "source": [
        "cond = acm_data['authors'].str.startswith('A')\n",
        "print (acm_data)\n",
        "acm_data.loc[cond].sort_values(by=['authors'], ascending=True)[['authors', 'title']].head(25)"
      ],
      "execution_count": 280,
      "outputs": [
        {
          "output_type": "stream",
          "name": "stdout",
          "text": [
            "      Unnamed: 0  ...  year\n",
            "0              0  ...  1999\n",
            "1              1  ...  1999\n",
            "2              2  ...  1999\n",
            "3              3  ...  1999\n",
            "4              4  ...  1999\n",
            "...          ...  ...   ...\n",
            "2289        2289  ...  1994\n",
            "2290        2290  ...  2003\n",
            "2291        2291  ...  1994\n",
            "2292        2292  ...  2003\n",
            "2293        2293  ...  1994\n",
            "\n",
            "[2280 rows x 6 columns]\n"
          ]
        },
        {
          "output_type": "execute_result",
          "data": {
            "text/html": [
              "<div>\n",
              "<style scoped>\n",
              "    .dataframe tbody tr th:only-of-type {\n",
              "        vertical-align: middle;\n",
              "    }\n",
              "\n",
              "    .dataframe tbody tr th {\n",
              "        vertical-align: top;\n",
              "    }\n",
              "\n",
              "    .dataframe thead th {\n",
              "        text-align: right;\n",
              "    }\n",
              "</style>\n",
              "<table border=\"1\" class=\"dataframe\">\n",
              "  <thead>\n",
              "    <tr style=\"text-align: right;\">\n",
              "      <th></th>\n",
              "      <th>authors</th>\n",
              "      <th>title</th>\n",
              "    </tr>\n",
              "  </thead>\n",
              "  <tbody>\n",
              "    <tr>\n",
              "      <th>1054</th>\n",
              "      <td>A. A. Diwan, Sanjeeva Rane, S. Seshadri, S. Su...</td>\n",
              "      <td>Clustering Techniques for Minimizing External ...</td>\n",
              "    </tr>\n",
              "    <tr>\n",
              "      <th>1741</th>\n",
              "      <td>A. Biliris, S. Dar, N. Gehani, H. V. Jagadish,...</td>\n",
              "      <td>ASSET: a system for supporting extended transa...</td>\n",
              "    </tr>\n",
              "    <tr>\n",
              "      <th>235</th>\n",
              "      <td>A. Biliris, T. A. Funkhouser, W. O'Connell, E....</td>\n",
              "      <td>BeSS: storage support for interactive visualiz...</td>\n",
              "    </tr>\n",
              "    <tr>\n",
              "      <th>1565</th>\n",
              "      <td>A. Dogac, C. Dengi, E. Kilic, G. Ozhan, F. Ozc...</td>\n",
              "      <td>METU interoperable database system</td>\n",
              "    </tr>\n",
              "    <tr>\n",
              "      <th>218</th>\n",
              "      <td>A. Formica, H. D. Groger, M. Missikoff</td>\n",
              "      <td>An efficient method for checking object-orient...</td>\n",
              "    </tr>\n",
              "    <tr>\n",
              "      <th>1632</th>\n",
              "      <td>A. Kemper, G. Moerkotte, K. Peithner, M. Stein...</td>\n",
              "      <td>Optimizing disjunctive queries with expensive ...</td>\n",
              "    </tr>\n",
              "    <tr>\n",
              "      <th>118</th>\n",
              "      <td>A. M. Ouksel, A. Sheth</td>\n",
              "      <td>Semantic interoperability in global informatio...</td>\n",
              "    </tr>\n",
              "    <tr>\n",
              "      <th>2186</th>\n",
              "      <td>A. Maedche, B. Motik, L. Stojanovic</td>\n",
              "      <td>Managing multiple and distributed ontologies o...</td>\n",
              "    </tr>\n",
              "    <tr>\n",
              "      <th>1529</th>\n",
              "      <td>A. P. Buchmann, A. Deutsch, J. Zimmermann, M. ...</td>\n",
              "      <td>The REACH active OODBMS</td>\n",
              "    </tr>\n",
              "    <tr>\n",
              "      <th>1439</th>\n",
              "      <td>A. Prasad Sistla, Clement T. Yu, Chengwen Liu,...</td>\n",
              "      <td>Similarity based Retrieval of Pictures Using I...</td>\n",
              "    </tr>\n",
              "    <tr>\n",
              "      <th>2221</th>\n",
              "      <td>A. Prasad Sistla, Clement T. Yu, R. Haddad</td>\n",
              "      <td>Reasoning About Spatial Relationships in Pictu...</td>\n",
              "    </tr>\n",
              "    <tr>\n",
              "      <th>1511</th>\n",
              "      <td>A. Prasad Sistla, Ouri Wolfson</td>\n",
              "      <td>Temporal conditions and integrity constraints ...</td>\n",
              "    </tr>\n",
              "    <tr>\n",
              "      <th>134</th>\n",
              "      <td>A. Prasad Sistla, Ouri Wolfson, Yelena Yesha, ...</td>\n",
              "      <td>Towards a theory of cost management for digita...</td>\n",
              "    </tr>\n",
              "    <tr>\n",
              "      <th>2155</th>\n",
              "      <td>A. R. Dasgupta</td>\n",
              "      <td>Large Databases for Remote Sensing and GIS</td>\n",
              "    </tr>\n",
              "    <tr>\n",
              "      <th>2113</th>\n",
              "      <td>A. Sheth, S. Thacker, S. Patel</td>\n",
              "      <td>Complex relationships and knowledge discovery ...</td>\n",
              "    </tr>\n",
              "    <tr>\n",
              "      <th>1377</th>\n",
              "      <td>Abdelsalam Helal, Hua Li</td>\n",
              "      <td>Rainbow: Distributed Database System for Class...</td>\n",
              "    </tr>\n",
              "    <tr>\n",
              "      <th>2078</th>\n",
              "      <td>Abhinandan Das, Johannes Gehrke, Mirek Riedewald</td>\n",
              "      <td>Approximate join processing over data streams</td>\n",
              "    </tr>\n",
              "    <tr>\n",
              "      <th>1081</th>\n",
              "      <td>Achim Kraiss, Gerhard Weikum</td>\n",
              "      <td>Vertical Data Migration in Large Near-Line Doc...</td>\n",
              "    </tr>\n",
              "    <tr>\n",
              "      <th>1180</th>\n",
              "      <td>Achim Kraiss, Gerhard Weikum</td>\n",
              "      <td>Integrated document caching and prefetching in...</td>\n",
              "    </tr>\n",
              "    <tr>\n",
              "      <th>1484</th>\n",
              "      <td>Ada Wai-Chee Fu, David Wai-Lok Cheung</td>\n",
              "      <td>A Transaction Replication Scheme for a Replica...</td>\n",
              "    </tr>\n",
              "    <tr>\n",
              "      <th>1275</th>\n",
              "      <td>Ada Wai-chee Fu, Polly Mei-shuen Chan, Yin-Lin...</td>\n",
              "      <td>Dynamic vp-tree indexing for n-nearest neighbo...</td>\n",
              "    </tr>\n",
              "    <tr>\n",
              "      <th>2141</th>\n",
              "      <td>Adam Blum</td>\n",
              "      <td>Microsoft English Query 7.5: Automatic Extract...</td>\n",
              "    </tr>\n",
              "    <tr>\n",
              "      <th>1610</th>\n",
              "      <td>Ahmed Elmagarmid, Jin Jing, Tetsuya Furukawa</td>\n",
              "      <td>Wireless client/server computing for personal ...</td>\n",
              "    </tr>\n",
              "    <tr>\n",
              "      <th>1743</th>\n",
              "      <td>Aidong Zhang, Marian Nodine, Bharat Bhargava, ...</td>\n",
              "      <td>Ensuring relaxed atomicity for flexible transa...</td>\n",
              "    </tr>\n",
              "    <tr>\n",
              "      <th>1773</th>\n",
              "      <td>Akmal B. Chaudhri</td>\n",
              "      <td>Workshop report on experiences using object da...</td>\n",
              "    </tr>\n",
              "  </tbody>\n",
              "</table>\n",
              "</div>"
            ],
            "text/plain": [
              "                                                authors                                              title\n",
              "1054  A. A. Diwan, Sanjeeva Rane, S. Seshadri, S. Su...  Clustering Techniques for Minimizing External ...\n",
              "1741  A. Biliris, S. Dar, N. Gehani, H. V. Jagadish,...  ASSET: a system for supporting extended transa...\n",
              "235   A. Biliris, T. A. Funkhouser, W. O'Connell, E....  BeSS: storage support for interactive visualiz...\n",
              "1565  A. Dogac, C. Dengi, E. Kilic, G. Ozhan, F. Ozc...                 METU interoperable database system\n",
              "218              A. Formica, H. D. Groger, M. Missikoff  An efficient method for checking object-orient...\n",
              "1632  A. Kemper, G. Moerkotte, K. Peithner, M. Stein...  Optimizing disjunctive queries with expensive ...\n",
              "118                              A. M. Ouksel, A. Sheth  Semantic interoperability in global informatio...\n",
              "2186                A. Maedche, B. Motik, L. Stojanovic  Managing multiple and distributed ontologies o...\n",
              "1529  A. P. Buchmann, A. Deutsch, J. Zimmermann, M. ...                            The REACH active OODBMS\n",
              "1439  A. Prasad Sistla, Clement T. Yu, Chengwen Liu,...  Similarity based Retrieval of Pictures Using I...\n",
              "2221         A. Prasad Sistla, Clement T. Yu, R. Haddad  Reasoning About Spatial Relationships in Pictu...\n",
              "1511                     A. Prasad Sistla, Ouri Wolfson  Temporal conditions and integrity constraints ...\n",
              "134   A. Prasad Sistla, Ouri Wolfson, Yelena Yesha, ...  Towards a theory of cost management for digita...\n",
              "2155                                     A. R. Dasgupta         Large Databases for Remote Sensing and GIS\n",
              "2113                     A. Sheth, S. Thacker, S. Patel  Complex relationships and knowledge discovery ...\n",
              "1377                           Abdelsalam Helal, Hua Li  Rainbow: Distributed Database System for Class...\n",
              "2078   Abhinandan Das, Johannes Gehrke, Mirek Riedewald      Approximate join processing over data streams\n",
              "1081                       Achim Kraiss, Gerhard Weikum  Vertical Data Migration in Large Near-Line Doc...\n",
              "1180                       Achim Kraiss, Gerhard Weikum  Integrated document caching and prefetching in...\n",
              "1484              Ada Wai-Chee Fu, David Wai-Lok Cheung  A Transaction Replication Scheme for a Replica...\n",
              "1275  Ada Wai-chee Fu, Polly Mei-shuen Chan, Yin-Lin...  Dynamic vp-tree indexing for n-nearest neighbo...\n",
              "2141                                          Adam Blum  Microsoft English Query 7.5: Automatic Extract...\n",
              "1610       Ahmed Elmagarmid, Jin Jing, Tetsuya Furukawa  Wireless client/server computing for personal ...\n",
              "1743  Aidong Zhang, Marian Nodine, Bharat Bhargava, ...  Ensuring relaxed atomicity for flexible transa...\n",
              "1773                                  Akmal B. Chaudhri  Workshop report on experiences using object da..."
            ]
          },
          "metadata": {},
          "execution_count": 280
        }
      ]
    },
    {
      "cell_type": "code",
      "metadata": {
        "id": "nOXfL4RxqlQi",
        "colab": {
          "base_uri": "https://localhost:8080/",
          "height": 833
        },
        "outputId": "76752509-1b59-4d2b-ca87-516da69f0671"
      },
      "source": [
        "cond = dblp_data['authors'].str.startswith('A')\n",
        "dblp_data.loc[cond].sort_values(by=['authors'], ascending=True)[['authors', 'title']].head(25)"
      ],
      "execution_count": 281,
      "outputs": [
        {
          "output_type": "execute_result",
          "data": {
            "text/html": [
              "<div>\n",
              "<style scoped>\n",
              "    .dataframe tbody tr th:only-of-type {\n",
              "        vertical-align: middle;\n",
              "    }\n",
              "\n",
              "    .dataframe tbody tr th {\n",
              "        vertical-align: top;\n",
              "    }\n",
              "\n",
              "    .dataframe thead th {\n",
              "        text-align: right;\n",
              "    }\n",
              "</style>\n",
              "<table border=\"1\" class=\"dataframe\">\n",
              "  <thead>\n",
              "    <tr style=\"text-align: right;\">\n",
              "      <th></th>\n",
              "      <th>authors</th>\n",
              "      <th>title</th>\n",
              "    </tr>\n",
              "  </thead>\n",
              "  <tbody>\n",
              "    <tr>\n",
              "      <th>207</th>\n",
              "      <td>A. A. Diwan, S. Sudarshan, Sanjeeva Rane, S. S...</td>\n",
              "      <td>Clustering Techniques for Minimizing External ...</td>\n",
              "    </tr>\n",
              "    <tr>\n",
              "      <th>1279</th>\n",
              "      <td>A. Kumaran, Jayant R. Haritsa</td>\n",
              "      <td>On the Costs of Multilingualism in Database Sy...</td>\n",
              "    </tr>\n",
              "    <tr>\n",
              "      <th>433</th>\n",
              "      <td>A. Prasad Sistla, Isabel F. Cruz, Ashfaq A. Kh...</td>\n",
              "      <td>Research Activities in Database Management and...</td>\n",
              "    </tr>\n",
              "    <tr>\n",
              "      <th>1587</th>\n",
              "      <td>A. Prasad Sistla, Ouri Wolfson, Yixiu Huang</td>\n",
              "      <td>Data Replication for Mobile Computers</td>\n",
              "    </tr>\n",
              "    <tr>\n",
              "      <th>1128</th>\n",
              "      <td>A. Prasad Sistla, Robert H. Sloan, Yelena Yesh...</td>\n",
              "      <td>Towards a Theory of Cost Management for Digita...</td>\n",
              "    </tr>\n",
              "    <tr>\n",
              "      <th>1642</th>\n",
              "      <td>A. R. Dasgupta</td>\n",
              "      <td>Large Databases for Remote Sensing and GIS</td>\n",
              "    </tr>\n",
              "    <tr>\n",
              "      <th>703</th>\n",
              "      <td>A. R. Hurson, Simin H. Pakzad, M. W. Bright</td>\n",
              "      <td>Automated Resolution of Semantic Heterogeneity...</td>\n",
              "    </tr>\n",
              "    <tr>\n",
              "      <th>2057</th>\n",
              "      <td>Aashu Virmani, Tomasz Imielinski</td>\n",
              "      <td>DataMine - Interactive Rule Discovery System</td>\n",
              "    </tr>\n",
              "    <tr>\n",
              "      <th>396</th>\n",
              "      <td>Abdelsalam Helal, Hua Li</td>\n",
              "      <td>Rainbow: Distributed Database System for Class...</td>\n",
              "    </tr>\n",
              "    <tr>\n",
              "      <th>2033</th>\n",
              "      <td>Abraham Silberschatz, Christos Faloutsos, Yoss...</td>\n",
              "      <td>Modeling Skewed Distribution Using Multifracta...</td>\n",
              "    </tr>\n",
              "    <tr>\n",
              "      <th>1730</th>\n",
              "      <td>Abraham Silberschatz, Rajeev Rastogi, Banu Özd...</td>\n",
              "      <td>Fault-tolerant Architectures for Continuous Me...</td>\n",
              "    </tr>\n",
              "    <tr>\n",
              "      <th>909</th>\n",
              "      <td>Abraham Silberschatz, Stanley B. Zdonik</td>\n",
              "      <td>Database Systems - Breaking Out of the Box</td>\n",
              "    </tr>\n",
              "    <tr>\n",
              "      <th>2164</th>\n",
              "      <td>Abraham Silberschatz, Sumit Ganguly, Yossi Mat...</td>\n",
              "      <td>Bifocal Sampling for Skew-Resistant Join Size ...</td>\n",
              "    </tr>\n",
              "    <tr>\n",
              "      <th>1197</th>\n",
              "      <td>Achim Kraiss, Gerhard Weikum</td>\n",
              "      <td>Vertical Data Migration in Large Near-Line Doc...</td>\n",
              "    </tr>\n",
              "    <tr>\n",
              "      <th>518</th>\n",
              "      <td>Achim Kraiss, Gerhard Weikum</td>\n",
              "      <td>Integrated Document Caching and Prefetching in...</td>\n",
              "    </tr>\n",
              "    <tr>\n",
              "      <th>764</th>\n",
              "      <td>Ada Wai-Chee Fu, King Lum Cheung</td>\n",
              "      <td>Enhanced Nearest Neighbour Search on the R-tree</td>\n",
              "    </tr>\n",
              "    <tr>\n",
              "      <th>2313</th>\n",
              "      <td>Ada Wai-Chee Fu, Man Hon Wong, Chan Man Kuok</td>\n",
              "      <td>Mining Fuzzy Association Rules in Databases</td>\n",
              "    </tr>\n",
              "    <tr>\n",
              "      <th>1623</th>\n",
              "      <td>Ada Wai-Chee Fu, Yin-Ling Cheung, Yiu Sang Moo...</td>\n",
              "      <td>Dynamic vp-Tree Indexing for n-Nearest Neighbo...</td>\n",
              "    </tr>\n",
              "    <tr>\n",
              "      <th>725</th>\n",
              "      <td>Adam Blum</td>\n",
              "      <td>Microsoft English Query 7.5: Automatic Extract...</td>\n",
              "    </tr>\n",
              "    <tr>\n",
              "      <th>1966</th>\n",
              "      <td>Adam Bosworth</td>\n",
              "      <td>The Future of Web Services - I</td>\n",
              "    </tr>\n",
              "    <tr>\n",
              "      <th>547</th>\n",
              "      <td>Agathoniki Trigoni, Rajmohan Rajaraman, Alan J...</td>\n",
              "      <td>The Cougar Project: a work-in-progress report</td>\n",
              "    </tr>\n",
              "    <tr>\n",
              "      <th>999</th>\n",
              "      <td>Ahmed K. Elmagarmid, Athman Bouguettaya, Moura...</td>\n",
              "      <td>Ontology-based Support for Digital Government</td>\n",
              "    </tr>\n",
              "    <tr>\n",
              "      <th>790</th>\n",
              "      <td>Ahmed K. Elmagarmid, Haitao Jiang</td>\n",
              "      <td>Spatial and Temporal Content-Based Access to H...</td>\n",
              "    </tr>\n",
              "    <tr>\n",
              "      <th>1791</th>\n",
              "      <td>Aiqun Du, James P. Callan, Margaret E. Connell</td>\n",
              "      <td>Automatic Discovery of Language Models for Tex...</td>\n",
              "    </tr>\n",
              "    <tr>\n",
              "      <th>2160</th>\n",
              "      <td>Akmal B. Chaudhri</td>\n",
              "      <td>An Annotated Bibliography of Benchmarks for Ob...</td>\n",
              "    </tr>\n",
              "  </tbody>\n",
              "</table>\n",
              "</div>"
            ],
            "text/plain": [
              "                                                authors                                              title\n",
              "207   A. A. Diwan, S. Sudarshan, Sanjeeva Rane, S. S...  Clustering Techniques for Minimizing External ...\n",
              "1279                      A. Kumaran, Jayant R. Haritsa  On the Costs of Multilingualism in Database Sy...\n",
              "433   A. Prasad Sistla, Isabel F. Cruz, Ashfaq A. Kh...  Research Activities in Database Management and...\n",
              "1587        A. Prasad Sistla, Ouri Wolfson, Yixiu Huang              Data Replication for Mobile Computers\n",
              "1128  A. Prasad Sistla, Robert H. Sloan, Yelena Yesh...  Towards a Theory of Cost Management for Digita...\n",
              "1642                                     A. R. Dasgupta         Large Databases for Remote Sensing and GIS\n",
              "703         A. R. Hurson, Simin H. Pakzad, M. W. Bright  Automated Resolution of Semantic Heterogeneity...\n",
              "2057                   Aashu Virmani, Tomasz Imielinski       DataMine - Interactive Rule Discovery System\n",
              "396                            Abdelsalam Helal, Hua Li  Rainbow: Distributed Database System for Class...\n",
              "2033  Abraham Silberschatz, Christos Faloutsos, Yoss...  Modeling Skewed Distribution Using Multifracta...\n",
              "1730  Abraham Silberschatz, Rajeev Rastogi, Banu Özd...  Fault-tolerant Architectures for Continuous Me...\n",
              "909             Abraham Silberschatz, Stanley B. Zdonik         Database Systems - Breaking Out of the Box\n",
              "2164  Abraham Silberschatz, Sumit Ganguly, Yossi Mat...  Bifocal Sampling for Skew-Resistant Join Size ...\n",
              "1197                       Achim Kraiss, Gerhard Weikum  Vertical Data Migration in Large Near-Line Doc...\n",
              "518                        Achim Kraiss, Gerhard Weikum  Integrated Document Caching and Prefetching in...\n",
              "764                    Ada Wai-Chee Fu, King Lum Cheung    Enhanced Nearest Neighbour Search on the R-tree\n",
              "2313       Ada Wai-Chee Fu, Man Hon Wong, Chan Man Kuok        Mining Fuzzy Association Rules in Databases\n",
              "1623  Ada Wai-Chee Fu, Yin-Ling Cheung, Yiu Sang Moo...  Dynamic vp-Tree Indexing for n-Nearest Neighbo...\n",
              "725                                           Adam Blum  Microsoft English Query 7.5: Automatic Extract...\n",
              "1966                                      Adam Bosworth                     The Future of Web Services - I\n",
              "547   Agathoniki Trigoni, Rajmohan Rajaraman, Alan J...      The Cougar Project: a work-in-progress report\n",
              "999   Ahmed K. Elmagarmid, Athman Bouguettaya, Moura...      Ontology-based Support for Digital Government\n",
              "790                   Ahmed K. Elmagarmid, Haitao Jiang  Spatial and Temporal Content-Based Access to H...\n",
              "1791     Aiqun Du, James P. Callan, Margaret E. Connell  Automatic Discovery of Language Models for Tex...\n",
              "2160                                  Akmal B. Chaudhri  An Annotated Bibliography of Benchmarks for Ob..."
            ]
          },
          "metadata": {},
          "execution_count": 281
        }
      ]
    },
    {
      "cell_type": "code",
      "source": [
        "dblp_data.columns"
      ],
      "metadata": {
        "id": "rLliPjnsSDzd",
        "colab": {
          "base_uri": "https://localhost:8080/"
        },
        "outputId": "678bbcd6-2121-4663-fc62-e889102668a8"
      },
      "execution_count": 282,
      "outputs": [
        {
          "output_type": "execute_result",
          "data": {
            "text/plain": [
              "Index(['Unnamed: 0', 'id', 'title', 'authors', 'venue', 'year'], dtype='object')"
            ]
          },
          "metadata": {},
          "execution_count": 282
        }
      ]
    },
    {
      "cell_type": "code",
      "metadata": {
        "id": "4FZ7F-TpggJ7"
      },
      "source": [
        "# Columns to match on from df_left\n",
        "left_on = ['title', 'authors', 'venue', 'year']\n",
        "\n",
        "# Columns to match on from df_right\n",
        "right_on = ['title', 'authors', 'venue', 'year']"
      ],
      "execution_count": 283,
      "outputs": []
    },
    {
      "cell_type": "code",
      "metadata": {
        "id": "zTQINSY63Aan"
      },
      "source": [
        "## try link_table first\n",
        "linked = fuzzymatcher.link_table(acm_data,\n",
        "                                 dblp_data,\n",
        "                                 left_on,\n",
        "                                 right_on,\n",
        "                                 left_id_col='id',\n",
        "                                 right_id_col='id')"
      ],
      "execution_count": 284,
      "outputs": []
    },
    {
      "cell_type": "code",
      "metadata": {
        "id": "MxB9Sf2V3Uvb",
        "colab": {
          "base_uri": "https://localhost:8080/",
          "height": 591
        },
        "outputId": "33c59840-a66a-483e-f911-7802e6b1eb97"
      },
      "source": [
        "linked.head()"
      ],
      "execution_count": 285,
      "outputs": [
        {
          "output_type": "execute_result",
          "data": {
            "text/html": [
              "<div>\n",
              "<style scoped>\n",
              "    .dataframe tbody tr th:only-of-type {\n",
              "        vertical-align: middle;\n",
              "    }\n",
              "\n",
              "    .dataframe tbody tr th {\n",
              "        vertical-align: top;\n",
              "    }\n",
              "\n",
              "    .dataframe thead th {\n",
              "        text-align: right;\n",
              "    }\n",
              "</style>\n",
              "<table border=\"1\" class=\"dataframe\">\n",
              "  <thead>\n",
              "    <tr style=\"text-align: right;\">\n",
              "      <th></th>\n",
              "      <th>__id_left</th>\n",
              "      <th>__id_right</th>\n",
              "      <th>match_score</th>\n",
              "      <th>match_rank</th>\n",
              "      <th>title_left</th>\n",
              "      <th>title_right</th>\n",
              "      <th>authors_left</th>\n",
              "      <th>authors_right</th>\n",
              "      <th>venue_left</th>\n",
              "      <th>venue_right</th>\n",
              "      <th>year_left</th>\n",
              "      <th>year_right</th>\n",
              "    </tr>\n",
              "  </thead>\n",
              "  <tbody>\n",
              "    <tr>\n",
              "      <th>0</th>\n",
              "      <td>304586</td>\n",
              "      <td>conf/sigmod/VossenW99</td>\n",
              "      <td>2.559548</td>\n",
              "      <td>1</td>\n",
              "      <td>The WASA2 object-oriented workflow management ...</td>\n",
              "      <td>The WASA2 Object-Oriented Workflow Management ...</td>\n",
              "      <td>Gottfried Vossen, Mathias Weske</td>\n",
              "      <td>Mathias Weske, Gottfried Vossen</td>\n",
              "      <td>International Conference on Management of Data</td>\n",
              "      <td>SIGMOD Conference</td>\n",
              "      <td>1999</td>\n",
              "      <td>1999</td>\n",
              "    </tr>\n",
              "    <tr>\n",
              "      <th>1</th>\n",
              "      <td>304587</td>\n",
              "      <td>conf/sigmod/CruzJ99</td>\n",
              "      <td>2.721471</td>\n",
              "      <td>1</td>\n",
              "      <td>A user-centered interface for querying distrib...</td>\n",
              "      <td>A User-Centered Interface for Querying Distrib...</td>\n",
              "      <td>Isabel F. Cruz, Kimberly M. James</td>\n",
              "      <td>Kimberly M. James, Isabel F. Cruz</td>\n",
              "      <td>International Conference on Management of Data</td>\n",
              "      <td>SIGMOD Conference</td>\n",
              "      <td>1999</td>\n",
              "      <td>1999</td>\n",
              "    </tr>\n",
              "    <tr>\n",
              "      <th>2</th>\n",
              "      <td>304589</td>\n",
              "      <td>conf/sigmod/BouguettayaBH99</td>\n",
              "      <td>4.568259</td>\n",
              "      <td>1</td>\n",
              "      <td>World Wide Database-integrating the Web, CORBA...</td>\n",
              "      <td>World Wide Database - Integrating the Web, COR...</td>\n",
              "      <td>Athman Bouguettaya, Boualem Benatallah, Lily H...</td>\n",
              "      <td>Kevin Smith, Athman Bouguettaya, Mourad Ouzzan...</td>\n",
              "      <td>International Conference on Management of Data</td>\n",
              "      <td>SIGMOD Conference</td>\n",
              "      <td>1999</td>\n",
              "      <td>1999</td>\n",
              "    </tr>\n",
              "    <tr>\n",
              "      <th>3</th>\n",
              "      <td>304590</td>\n",
              "      <td>conf/sigmod/BaruGLMPVC99</td>\n",
              "      <td>3.630595</td>\n",
              "      <td>1</td>\n",
              "      <td>XML-based information mediation with MIX</td>\n",
              "      <td>XML-Based Information Mediation with MIX</td>\n",
              "      <td>Chaitan Baru, Amarnath Gupta, Bertram Lud&amp;#228...</td>\n",
              "      <td>Yannis Papakonstantinou, Richard Marciano, Cha...</td>\n",
              "      <td>International Conference on Management of Data</td>\n",
              "      <td>SIGMOD Conference</td>\n",
              "      <td>1999</td>\n",
              "      <td>1999</td>\n",
              "    </tr>\n",
              "    <tr>\n",
              "      <th>4</th>\n",
              "      <td>304582</td>\n",
              "      <td>conf/sigmod/BrodskySCE99</td>\n",
              "      <td>2.969856</td>\n",
              "      <td>1</td>\n",
              "      <td>The CCUBE constraint object-oriented database ...</td>\n",
              "      <td>The CCUBE Constraint Object-Oriented Database ...</td>\n",
              "      <td>Alexander Brodsky, Victor E. Segal, Jia Chen, ...</td>\n",
              "      <td>Alexander Brodsky, Pavel A. Exarkhopoulo, Vict...</td>\n",
              "      <td>International Conference on Management of Data</td>\n",
              "      <td>SIGMOD Conference</td>\n",
              "      <td>1999</td>\n",
              "      <td>1999</td>\n",
              "    </tr>\n",
              "  </tbody>\n",
              "</table>\n",
              "</div>"
            ],
            "text/plain": [
              "   __id_left                   __id_right  ...  year_left  year_right\n",
              "0     304586        conf/sigmod/VossenW99  ...       1999        1999\n",
              "1     304587          conf/sigmod/CruzJ99  ...       1999        1999\n",
              "2     304589  conf/sigmod/BouguettayaBH99  ...       1999        1999\n",
              "3     304590     conf/sigmod/BaruGLMPVC99  ...       1999        1999\n",
              "4     304582     conf/sigmod/BrodskySCE99  ...       1999        1999\n",
              "\n",
              "[5 rows x 12 columns]"
            ]
          },
          "metadata": {},
          "execution_count": 285
        }
      ]
    },
    {
      "cell_type": "code",
      "metadata": {
        "id": "wOmwtQHGggJ8"
      },
      "source": [
        "# Now perform the match\n",
        "matched_results = fuzzymatcher.fuzzy_left_join(acm_data,\n",
        "                                               dblp_data,\n",
        "                                               left_on,\n",
        "                                               right_on,\n",
        "                                               left_id_col='id',\n",
        "                                               right_id_col='id')"
      ],
      "execution_count": 286,
      "outputs": []
    },
    {
      "cell_type": "code",
      "metadata": {
        "id": "2QhdxmB7ggJ9",
        "colab": {
          "base_uri": "https://localhost:8080/",
          "height": 206
        },
        "outputId": "bab7b811-9148-4a0c-a17c-d337d20ab79b"
      },
      "source": [
        "matched_results[[\"authors_left\", \"authors_right\"]].head()"
      ],
      "execution_count": 287,
      "outputs": [
        {
          "output_type": "execute_result",
          "data": {
            "text/html": [
              "<div>\n",
              "<style scoped>\n",
              "    .dataframe tbody tr th:only-of-type {\n",
              "        vertical-align: middle;\n",
              "    }\n",
              "\n",
              "    .dataframe tbody tr th {\n",
              "        vertical-align: top;\n",
              "    }\n",
              "\n",
              "    .dataframe thead th {\n",
              "        text-align: right;\n",
              "    }\n",
              "</style>\n",
              "<table border=\"1\" class=\"dataframe\">\n",
              "  <thead>\n",
              "    <tr style=\"text-align: right;\">\n",
              "      <th></th>\n",
              "      <th>authors_left</th>\n",
              "      <th>authors_right</th>\n",
              "    </tr>\n",
              "  </thead>\n",
              "  <tbody>\n",
              "    <tr>\n",
              "      <th>0</th>\n",
              "      <td>Gottfried Vossen, Mathias Weske</td>\n",
              "      <td>Mathias Weske, Gottfried Vossen</td>\n",
              "    </tr>\n",
              "    <tr>\n",
              "      <th>1</th>\n",
              "      <td>Isabel F. Cruz, Kimberly M. James</td>\n",
              "      <td>Kimberly M. James, Isabel F. Cruz</td>\n",
              "    </tr>\n",
              "    <tr>\n",
              "      <th>2</th>\n",
              "      <td>Athman Bouguettaya, Boualem Benatallah, Lily H...</td>\n",
              "      <td>Kevin Smith, Athman Bouguettaya, Mourad Ouzzan...</td>\n",
              "    </tr>\n",
              "    <tr>\n",
              "      <th>3</th>\n",
              "      <td>Chaitan Baru, Amarnath Gupta, Bertram Lud&amp;#228...</td>\n",
              "      <td>Yannis Papakonstantinou, Richard Marciano, Cha...</td>\n",
              "    </tr>\n",
              "    <tr>\n",
              "      <th>4</th>\n",
              "      <td>Alexander Brodsky, Victor E. Segal, Jia Chen, ...</td>\n",
              "      <td>Alexander Brodsky, Pavel A. Exarkhopoulo, Vict...</td>\n",
              "    </tr>\n",
              "  </tbody>\n",
              "</table>\n",
              "</div>"
            ],
            "text/plain": [
              "                                        authors_left                                      authors_right\n",
              "0                    Gottfried Vossen, Mathias Weske                    Mathias Weske, Gottfried Vossen\n",
              "1                  Isabel F. Cruz, Kimberly M. James                  Kimberly M. James, Isabel F. Cruz\n",
              "2  Athman Bouguettaya, Boualem Benatallah, Lily H...  Kevin Smith, Athman Bouguettaya, Mourad Ouzzan...\n",
              "3  Chaitan Baru, Amarnath Gupta, Bertram Lud&#228...  Yannis Papakonstantinou, Richard Marciano, Cha...\n",
              "4  Alexander Brodsky, Victor E. Segal, Jia Chen, ...  Alexander Brodsky, Pavel A. Exarkhopoulo, Vict..."
            ]
          },
          "metadata": {},
          "execution_count": 287
        }
      ]
    },
    {
      "cell_type": "code",
      "metadata": {
        "id": "tWAIPdeEggJ-"
      },
      "source": [
        "# Reorder the columns to make viewing easier\n",
        "cols = [\n",
        "    \"best_match_score\", \"title_left\",\t\"title_right\", \"authors_left\", \n",
        "    \"authors_right\", \"venue_left\",\t\"venue_right\", \"year_left\", \"year_right\",\n",
        "    \"id_left\", \"id_right\"\n",
        "]"
      ],
      "execution_count": 288,
      "outputs": []
    },
    {
      "cell_type": "code",
      "metadata": {
        "id": "Sbhasl1lggJ-",
        "colab": {
          "base_uri": "https://localhost:8080/",
          "height": 539
        },
        "outputId": "e6dea4d1-5fee-4ee6-a4bc-d7e1680009d8"
      },
      "source": [
        "# Let's see the best matches\n",
        "matched_results[cols].sort_values(by=['best_match_score'], ascending=False).head(5)"
      ],
      "execution_count": 325,
      "outputs": [
        {
          "output_type": "execute_result",
          "data": {
            "text/html": [
              "<div>\n",
              "<style scoped>\n",
              "    .dataframe tbody tr th:only-of-type {\n",
              "        vertical-align: middle;\n",
              "    }\n",
              "\n",
              "    .dataframe tbody tr th {\n",
              "        vertical-align: top;\n",
              "    }\n",
              "\n",
              "    .dataframe thead th {\n",
              "        text-align: right;\n",
              "    }\n",
              "</style>\n",
              "<table border=\"1\" class=\"dataframe\">\n",
              "  <thead>\n",
              "    <tr style=\"text-align: right;\">\n",
              "      <th></th>\n",
              "      <th>best_match_score</th>\n",
              "      <th>title_left</th>\n",
              "      <th>title_right</th>\n",
              "      <th>authors_left</th>\n",
              "      <th>authors_right</th>\n",
              "      <th>venue_left</th>\n",
              "      <th>venue_right</th>\n",
              "      <th>year_left</th>\n",
              "      <th>year_right</th>\n",
              "      <th>id_left</th>\n",
              "      <th>id_right</th>\n",
              "    </tr>\n",
              "  </thead>\n",
              "  <tbody>\n",
              "    <tr>\n",
              "      <th>25271</th>\n",
              "      <td>9.284321</td>\n",
              "      <td>The Propel Distributed Services Platform</td>\n",
              "      <td>The Propel Distributed Services Platform</td>\n",
              "      <td>Michael J. Carey, Steve Kirsch, Mary Roth, Ber...</td>\n",
              "      <td>Runping Qi, Kuan Yee, Brian Sterling, Nicolas ...</td>\n",
              "      <td>Very Large Data Bases</td>\n",
              "      <td>VLDB</td>\n",
              "      <td>2001</td>\n",
              "      <td>2001</td>\n",
              "      <td>672199</td>\n",
              "      <td>conf/vldb/CareyKRLABFLOPQRSSUVWY01</td>\n",
              "    </tr>\n",
              "    <tr>\n",
              "      <th>34596</th>\n",
              "      <td>9.233475</td>\n",
              "      <td>A mapping mechanism to support bitmap index an...</td>\n",
              "      <td>A mapping mechanism to support bitmap index an...</td>\n",
              "      <td>Eugene Inseok Chong, Jagannathan Srinivasan, S...</td>\n",
              "      <td>Mahesh Jagannath, Eugene Inseok Chong, Aravind...</td>\n",
              "      <td>ACM SIGMOD Record</td>\n",
              "      <td>SIGMOD Record</td>\n",
              "      <td>2003</td>\n",
              "      <td>2003</td>\n",
              "      <td>777000</td>\n",
              "      <td>journals/sigmod/ChongFTSYKDJJ03</td>\n",
              "    </tr>\n",
              "    <tr>\n",
              "      <th>29317</th>\n",
              "      <td>9.165640</td>\n",
              "      <td>TSQL2 language specification</td>\n",
              "      <td>TSQL2 Language Specification</td>\n",
              "      <td>Richard Thomas Snodgrass, Ilsoo Ahn, Gadi Aria...</td>\n",
              "      <td>Wolfgang Käfer, Curtis E. Dyreson, Arie Segev,...</td>\n",
              "      <td>ACM SIGMOD Record</td>\n",
              "      <td>SIGMOD Record</td>\n",
              "      <td>1994</td>\n",
              "      <td>1994</td>\n",
              "      <td>181562</td>\n",
              "      <td>journals/sigmod/SnodgrassAABCDEGJKKKLLRSSS94</td>\n",
              "    </tr>\n",
              "    <tr>\n",
              "      <th>28653</th>\n",
              "      <td>9.091846</td>\n",
              "      <td>A TSQL2 tutorial</td>\n",
              "      <td>A TSQL2 Tutorial</td>\n",
              "      <td>Richard Thomas Snodgrass, Ilsoo Ahn, Gad Ariav...</td>\n",
              "      <td>James Clifford, Ramez Elmasri, Michael D. Soo,...</td>\n",
              "      <td>ACM SIGMOD Record</td>\n",
              "      <td>SIGMOD Record</td>\n",
              "      <td>1994</td>\n",
              "      <td>1994</td>\n",
              "      <td>187449</td>\n",
              "      <td>journals/sigmod/SnodgrassAABCDEGJKKKLLRSSS94a</td>\n",
              "    </tr>\n",
              "    <tr>\n",
              "      <th>427</th>\n",
              "      <td>8.605697</td>\n",
              "      <td>PowerBookmarks: a system for personalizable We...</td>\n",
              "      <td>PowerBookmarks: A System for Personalizable We...</td>\n",
              "      <td>Wen-Syan Li, Quoc Vu, Edward Chang, Divyakant ...</td>\n",
              "      <td>Kazuyuki Shimazu, Sougata Mukherjea, Yi-Leh Wu...</td>\n",
              "      <td>International Conference on Management of Data</td>\n",
              "      <td>SIGMOD Conference</td>\n",
              "      <td>1999</td>\n",
              "      <td>1999</td>\n",
              "      <td>304578</td>\n",
              "      <td>conf/sigmod/LiVCAHMWBCHIKSS99</td>\n",
              "    </tr>\n",
              "  </tbody>\n",
              "</table>\n",
              "</div>"
            ],
            "text/plain": [
              "       best_match_score  ...                                       id_right\n",
              "25271          9.284321  ...             conf/vldb/CareyKRLABFLOPQRSSUVWY01\n",
              "34596          9.233475  ...                journals/sigmod/ChongFTSYKDJJ03\n",
              "29317          9.165640  ...   journals/sigmod/SnodgrassAABCDEGJKKKLLRSSS94\n",
              "28653          9.091846  ...  journals/sigmod/SnodgrassAABCDEGJKKKLLRSSS94a\n",
              "427            8.605697  ...                  conf/sigmod/LiVCAHMWBCHIKSS99\n",
              "\n",
              "[5 rows x 11 columns]"
            ]
          },
          "metadata": {},
          "execution_count": 325
        }
      ]
    },
    {
      "cell_type": "code",
      "metadata": {
        "id": "W0OVX0PDggJ_",
        "colab": {
          "base_uri": "https://localhost:8080/",
          "height": 573
        },
        "outputId": "d94dbd29-efcf-4485-89d3-a6cecea84b31"
      },
      "source": [
        "# Now the worst matches\n",
        "matched_results[cols].sort_values(by=['best_match_score'],\n",
        "                                  ascending=True).head(5)"
      ],
      "execution_count": 326,
      "outputs": [
        {
          "output_type": "execute_result",
          "data": {
            "text/html": [
              "<div>\n",
              "<style scoped>\n",
              "    .dataframe tbody tr th:only-of-type {\n",
              "        vertical-align: middle;\n",
              "    }\n",
              "\n",
              "    .dataframe tbody tr th {\n",
              "        vertical-align: top;\n",
              "    }\n",
              "\n",
              "    .dataframe thead th {\n",
              "        text-align: right;\n",
              "    }\n",
              "</style>\n",
              "<table border=\"1\" class=\"dataframe\">\n",
              "  <thead>\n",
              "    <tr style=\"text-align: right;\">\n",
              "      <th></th>\n",
              "      <th>best_match_score</th>\n",
              "      <th>title_left</th>\n",
              "      <th>title_right</th>\n",
              "      <th>authors_left</th>\n",
              "      <th>authors_right</th>\n",
              "      <th>venue_left</th>\n",
              "      <th>venue_right</th>\n",
              "      <th>year_left</th>\n",
              "      <th>year_right</th>\n",
              "      <th>id_left</th>\n",
              "      <th>id_right</th>\n",
              "    </tr>\n",
              "  </thead>\n",
              "  <tbody>\n",
              "    <tr>\n",
              "      <th>19672</th>\n",
              "      <td>-1.972738</td>\n",
              "      <td>David DeWitt speaks out: on rethinking the CS ...</td>\n",
              "      <td>Gio Wiederhold Speaks Out on Moving into Acade...</td>\n",
              "      <td>Marianne Winslett</td>\n",
              "      <td>Marianne Winslett</td>\n",
              "      <td>ACM SIGMOD Record</td>\n",
              "      <td>SIGMOD Record</td>\n",
              "      <td>2002</td>\n",
              "      <td>2001</td>\n",
              "      <td>565127</td>\n",
              "      <td>journals/sigmod/Winslett01a</td>\n",
              "    </tr>\n",
              "    <tr>\n",
              "      <th>29431</th>\n",
              "      <td>-1.682680</td>\n",
              "      <td>A consensus glossary of temporal database conc...</td>\n",
              "      <td>A TSQL2 Tutorial</td>\n",
              "      <td>Curtis Dyreson, Fabio Grandi, Wolfgang K&amp;#228;...</td>\n",
              "      <td>James Clifford, Ramez Elmasri, Michael D. Soo,...</td>\n",
              "      <td>ACM SIGMOD Record</td>\n",
              "      <td>SIGMOD Record</td>\n",
              "      <td>1994</td>\n",
              "      <td>1994</td>\n",
              "      <td>181560</td>\n",
              "      <td>journals/sigmod/SnodgrassAABCDEGJKKKLLRSSS94a</td>\n",
              "    </tr>\n",
              "    <tr>\n",
              "      <th>5674</th>\n",
              "      <td>-1.278196</td>\n",
              "      <td>Challenges in automating declarative business ...</td>\n",
              "      <td>Expressing Business Rules</td>\n",
              "      <td>Val Huber</td>\n",
              "      <td>Ronald G. Ross</td>\n",
              "      <td>International Conference on Management of Data</td>\n",
              "      <td>SIGMOD Conference</td>\n",
              "      <td>2000</td>\n",
              "      <td>2000</td>\n",
              "      <td>335455</td>\n",
              "      <td>conf/sigmod/Ross00</td>\n",
              "    </tr>\n",
              "    <tr>\n",
              "      <th>34067</th>\n",
              "      <td>-1.271728</td>\n",
              "      <td>Abstracts of invited industrial track presenta...</td>\n",
              "      <td>Objectivity Industrial Exhibit</td>\n",
              "      <td>Zachary Ives</td>\n",
              "      <td>Objectivity</td>\n",
              "      <td>International Conference on Management of Data</td>\n",
              "      <td>VLDB</td>\n",
              "      <td>2003</td>\n",
              "      <td>1998</td>\n",
              "      <td>872833</td>\n",
              "      <td>conf/vldb/Objectivity98</td>\n",
              "    </tr>\n",
              "    <tr>\n",
              "      <th>5465</th>\n",
              "      <td>-1.263943</td>\n",
              "      <td>Going beyond personalization: rule engines at ...</td>\n",
              "      <td>Delivering High Availability for Inktomi Searc...</td>\n",
              "      <td>Eric Kintzer</td>\n",
              "      <td>Eric A. Brewer</td>\n",
              "      <td>International Conference on Management of Data</td>\n",
              "      <td>SIGMOD Conference</td>\n",
              "      <td>2000</td>\n",
              "      <td>1998</td>\n",
              "      <td>335459</td>\n",
              "      <td>conf/sigmod/Brewer98</td>\n",
              "    </tr>\n",
              "  </tbody>\n",
              "</table>\n",
              "</div>"
            ],
            "text/plain": [
              "       best_match_score  ...                                       id_right\n",
              "19672         -1.972738  ...                    journals/sigmod/Winslett01a\n",
              "29431         -1.682680  ...  journals/sigmod/SnodgrassAABCDEGJKKKLLRSSS94a\n",
              "5674          -1.278196  ...                             conf/sigmod/Ross00\n",
              "34067         -1.271728  ...                        conf/vldb/Objectivity98\n",
              "5465          -1.263943  ...                           conf/sigmod/Brewer98\n",
              "\n",
              "[5 rows x 11 columns]"
            ]
          },
          "metadata": {},
          "execution_count": 326
        }
      ]
    },
    {
      "cell_type": "code",
      "metadata": {
        "id": "VbYB3MrnggKB",
        "colab": {
          "base_uri": "https://localhost:8080/",
          "height": 504
        },
        "outputId": "71eba463-8db4-4d2c-98cf-a87a30de88c3"
      },
      "source": [
        "# Look at the matches around 1\n",
        "matched_results[cols].query(\"best_match_score <= 1\").sort_values(\n",
        "    by=['best_match_score'], ascending=False).head(5)"
      ],
      "execution_count": 329,
      "outputs": [
        {
          "output_type": "execute_result",
          "data": {
            "text/html": [
              "<div>\n",
              "<style scoped>\n",
              "    .dataframe tbody tr th:only-of-type {\n",
              "        vertical-align: middle;\n",
              "    }\n",
              "\n",
              "    .dataframe tbody tr th {\n",
              "        vertical-align: top;\n",
              "    }\n",
              "\n",
              "    .dataframe thead th {\n",
              "        text-align: right;\n",
              "    }\n",
              "</style>\n",
              "<table border=\"1\" class=\"dataframe\">\n",
              "  <thead>\n",
              "    <tr style=\"text-align: right;\">\n",
              "      <th></th>\n",
              "      <th>best_match_score</th>\n",
              "      <th>title_left</th>\n",
              "      <th>title_right</th>\n",
              "      <th>authors_left</th>\n",
              "      <th>authors_right</th>\n",
              "      <th>venue_left</th>\n",
              "      <th>venue_right</th>\n",
              "      <th>year_left</th>\n",
              "      <th>year_right</th>\n",
              "      <th>id_left</th>\n",
              "      <th>id_right</th>\n",
              "    </tr>\n",
              "  </thead>\n",
              "  <tbody>\n",
              "    <tr>\n",
              "      <th>3503</th>\n",
              "      <td>0.995988</td>\n",
              "      <td>MQseries and CICS link for Lotus Notes</td>\n",
              "      <td>MQSeries and CICS Link for Lotus Notes</td>\n",
              "      <td>Lotus Development Corp.</td>\n",
              "      <td>?</td>\n",
              "      <td>ACM SIGMOD Record</td>\n",
              "      <td>SIGMOD Record</td>\n",
              "      <td>1996</td>\n",
              "      <td>1996</td>\n",
              "      <td>381900</td>\n",
              "      <td>journals/sigmod/Anonymous96</td>\n",
              "    </tr>\n",
              "    <tr>\n",
              "      <th>2297</th>\n",
              "      <td>0.995680</td>\n",
              "      <td>Keynote Address</td>\n",
              "      <td>Keynote Address</td>\n",
              "      <td>Robert S. Epstein</td>\n",
              "      <td>Robert S. Epstein</td>\n",
              "      <td>International Conference on Management of Data</td>\n",
              "      <td>SIGMOD Conference</td>\n",
              "      <td>1995</td>\n",
              "      <td>1995</td>\n",
              "      <td>277955</td>\n",
              "      <td>conf/sigmod/Epstein95</td>\n",
              "    </tr>\n",
              "    <tr>\n",
              "      <th>25441</th>\n",
              "      <td>0.990004</td>\n",
              "      <td>The Oracle Warehouse</td>\n",
              "      <td>The Oracle Warehouse</td>\n",
              "      <td>Gary Hallmark</td>\n",
              "      <td>Gary Hallmark</td>\n",
              "      <td>Very Large Data Bases</td>\n",
              "      <td>VLDB</td>\n",
              "      <td>1995</td>\n",
              "      <td>1995</td>\n",
              "      <td>673156</td>\n",
              "      <td>conf/vldb/Hallmark95</td>\n",
              "    </tr>\n",
              "    <tr>\n",
              "      <th>25279</th>\n",
              "      <td>0.984455</td>\n",
              "      <td>Altruistic locking</td>\n",
              "      <td>Altruistic Locking</td>\n",
              "      <td>Kenneth Salem, H&amp;#233;ctor Garc&amp;#237;a-Molina,...</td>\n",
              "      <td>Jeannie Shands, Kenneth Salem, Hector Garcia-M...</td>\n",
              "      <td>ACM Transactions on Database Systems (TODS)</td>\n",
              "      <td>ACM Trans. Database Syst.</td>\n",
              "      <td>1994</td>\n",
              "      <td>1994</td>\n",
              "      <td>174639</td>\n",
              "      <td>journals/tods/SalemGS94</td>\n",
              "    </tr>\n",
              "    <tr>\n",
              "      <th>18376</th>\n",
              "      <td>0.973914</td>\n",
              "      <td>Mid-tier caching: the TimesTen approach</td>\n",
              "      <td>Mid-tier caching: the TimesTen approach</td>\n",
              "      <td>The TimesTen Team</td>\n",
              "      <td>Times-Ten Team</td>\n",
              "      <td>International Conference on Management of Data</td>\n",
              "      <td>SIGMOD Conference</td>\n",
              "      <td>2002</td>\n",
              "      <td>2002</td>\n",
              "      <td>564761</td>\n",
              "      <td>conf/sigmod/Team02</td>\n",
              "    </tr>\n",
              "  </tbody>\n",
              "</table>\n",
              "</div>"
            ],
            "text/plain": [
              "       best_match_score  ...                     id_right\n",
              "3503           0.995988  ...  journals/sigmod/Anonymous96\n",
              "2297           0.995680  ...        conf/sigmod/Epstein95\n",
              "25441          0.990004  ...         conf/vldb/Hallmark95\n",
              "25279          0.984455  ...      journals/tods/SalemGS94\n",
              "18376          0.973914  ...           conf/sigmod/Team02\n",
              "\n",
              "[5 rows x 11 columns]"
            ]
          },
          "metadata": {},
          "execution_count": 329
        }
      ]
    },
    {
      "cell_type": "code",
      "source": [
        "cols"
      ],
      "metadata": {
        "colab": {
          "base_uri": "https://localhost:8080/"
        },
        "id": "NifovUmqESQn",
        "outputId": "12cfda32-4b5e-414a-f6a5-10aeacc3b772"
      },
      "execution_count": 292,
      "outputs": [
        {
          "output_type": "execute_result",
          "data": {
            "text/plain": [
              "['best_match_score',\n",
              " 'title_left',\n",
              " 'title_right',\n",
              " 'authors_left',\n",
              " 'authors_right',\n",
              " 'venue_left',\n",
              " 'venue_right',\n",
              " 'year_left',\n",
              " 'year_right',\n",
              " 'id_left',\n",
              " 'id_right']"
            ]
          },
          "metadata": {},
          "execution_count": 292
        }
      ]
    },
    {
      "cell_type": "code",
      "metadata": {
        "id": "PFSXtLFoggKC"
      },
      "source": [
        "matched_results_final = matched_results[cols].query(\"best_match_score >= 0.80\").sort_values(\n",
        "    by=['id_left'], ascending=True)"
      ],
      "execution_count": 339,
      "outputs": []
    },
    {
      "cell_type": "code",
      "source": [
        "matched_results_final[['id_left', 'id_right']].rename(\n",
        "    columns={\"id_left\": \"idACM\", \"id_right\": \"idDBLP\"}).to_csv(\n",
        "        'fuzzy_matching.csv', index=False)"
      ],
      "metadata": {
        "id": "B3hCSYCE_5V6"
      },
      "execution_count": 341,
      "outputs": []
    },
    {
      "cell_type": "markdown",
      "metadata": {
        "id": "o0xsR0RzggKC"
      },
      "source": [
        "### Example using Python Record Linkage Toolkit"
      ]
    },
    {
      "cell_type": "code",
      "source": [
        "acm_data = pd.read_csv(\n",
        "    'https://raw.githubusercontent.com/PaoloMissier/CSC3831-2021-22/main/LINKAGE/DATASETS/ACM.csv',\n",
        "    index_col='id'\n",
        ")\n",
        "dblp_data = pd.read_csv(\n",
        "    'https://raw.githubusercontent.com/PaoloMissier/CSC3831-2021-22/main/LINKAGE/DATASETS/dblp.csv',\n",
        "    index_col='id'\n",
        ")\n",
        "\n",
        "\n",
        "acm_data.dropna(subset=['authors'], inplace=True)\n",
        "dblp_data.dropna(subset=['authors'], inplace=True)\n",
        "\n",
        "acm_data['year'] = acm_data['year'].apply(str)\n",
        "dblp_data['year'] = dblp_data['year'].apply(str)"
      ],
      "metadata": {
        "id": "25FkcWQitmlU"
      },
      "execution_count": 236,
      "outputs": []
    },
    {
      "cell_type": "code",
      "metadata": {
        "id": "y4-HaKS_ggKF",
        "colab": {
          "base_uri": "https://localhost:8080/"
        },
        "outputId": "6db45790-7093-4b4f-b96b-07ccc5c139a9"
      },
      "source": [
        "# Build the indexer\n",
        "indexer_full = recordlinkage.Index()\n",
        "indexer_block = recordlinkage.Index()\n",
        "\n",
        "indexer_full.full()\n",
        "indexer_block.block(left_on='title', right_on='title')\n"
      ],
      "execution_count": 237,
      "outputs": [
        {
          "output_type": "stream",
          "name": "stdout",
          "text": [
            "WARNING:recordlinkage:indexing - performance warning - A full index can result in large number of record pairs.\n"
          ]
        },
        {
          "output_type": "execute_result",
          "data": {
            "text/plain": [
              "<Index>"
            ]
          },
          "metadata": {},
          "execution_count": 237
        }
      ]
    },
    {
      "cell_type": "code",
      "metadata": {
        "id": "ohbohqo7ggKG"
      },
      "source": [
        "candidates = indexer_block.index(acm_data, dblp_data)"
      ],
      "execution_count": 238,
      "outputs": []
    },
    {
      "cell_type": "code",
      "metadata": {
        "id": "rVvzTpbVggKG",
        "colab": {
          "base_uri": "https://localhost:8080/"
        },
        "outputId": "762e67a2-34f3-4360-b856-904f010b41ff"
      },
      "source": [
        "# Let's see how many matches we want to do\n",
        "print(len(candidates))"
      ],
      "execution_count": 239,
      "outputs": [
        {
          "output_type": "stream",
          "name": "stdout",
          "text": [
            "984\n"
          ]
        }
      ]
    },
    {
      "cell_type": "code",
      "source": [
        "print(acm_data.columns)\n",
        "print(dblp_data.columns)"
      ],
      "metadata": {
        "id": "_UwmYMv-gILA",
        "colab": {
          "base_uri": "https://localhost:8080/"
        },
        "outputId": "09c31d1a-1a18-4385-9917-d678f085096c"
      },
      "execution_count": 240,
      "outputs": [
        {
          "output_type": "stream",
          "name": "stdout",
          "text": [
            "Index(['Unnamed: 0', 'title', 'authors', 'venue', 'year'], dtype='object')\n",
            "Index(['Unnamed: 0', 'title', 'authors', 'venue', 'year'], dtype='object')\n"
          ]
        }
      ]
    },
    {
      "cell_type": "markdown",
      "source": [
        "using Levenshtein comparison method as it works better with long strings.\n",
        "\n",
        "[Source](https://srinivas-kulkarni.medium.com/jaro-winkler-vs-levenshtein-distance-2eab21832fd6)"
      ],
      "metadata": {
        "id": "ekSS_arY7GD_"
      }
    },
    {
      "cell_type": "code",
      "metadata": {
        "id": "dwgki7XgggKG"
      },
      "source": [
        "# Takes 7 minutes using the full index.\n",
        "# <1s using blocking\n",
        "compare = recordlinkage.Compare()\n",
        "compare.exact('year', 'year', label='year')\n",
        "compare.string('authors',\n",
        "               'authors',\n",
        "               method='levenshtein',\n",
        "               threshold=0.85,\n",
        "               label='authors')\n",
        "compare.string('title',\n",
        "               'title',\n",
        "               method='levenshtein',\n",
        "               threshold=0.85,\n",
        "               label='title')\n",
        "compare.string('venue',\n",
        "               'venue',\n",
        "               method='levenshtein',\n",
        "               threshold=0.85,\n",
        "               label='venue')\n",
        "features = compare.compute(candidates, acm_data,\n",
        "                           dblp_data)"
      ],
      "execution_count": 241,
      "outputs": []
    },
    {
      "cell_type": "code",
      "metadata": {
        "id": "vUnUHC_WggKH",
        "colab": {
          "base_uri": "https://localhost:8080/",
          "height": 300
        },
        "outputId": "f35d6070-b16f-419c-9c82-8f6da59a17a0"
      },
      "source": [
        "features.describe()"
      ],
      "execution_count": 242,
      "outputs": [
        {
          "output_type": "execute_result",
          "data": {
            "text/html": [
              "<div>\n",
              "<style scoped>\n",
              "    .dataframe tbody tr th:only-of-type {\n",
              "        vertical-align: middle;\n",
              "    }\n",
              "\n",
              "    .dataframe tbody tr th {\n",
              "        vertical-align: top;\n",
              "    }\n",
              "\n",
              "    .dataframe thead th {\n",
              "        text-align: right;\n",
              "    }\n",
              "</style>\n",
              "<table border=\"1\" class=\"dataframe\">\n",
              "  <thead>\n",
              "    <tr style=\"text-align: right;\">\n",
              "      <th></th>\n",
              "      <th>year</th>\n",
              "      <th>authors</th>\n",
              "      <th>title</th>\n",
              "      <th>venue</th>\n",
              "    </tr>\n",
              "  </thead>\n",
              "  <tbody>\n",
              "    <tr>\n",
              "      <th>count</th>\n",
              "      <td>984.000000</td>\n",
              "      <td>984.000000</td>\n",
              "      <td>984.0</td>\n",
              "      <td>984.0</td>\n",
              "    </tr>\n",
              "    <tr>\n",
              "      <th>mean</th>\n",
              "      <td>0.930894</td>\n",
              "      <td>0.321138</td>\n",
              "      <td>1.0</td>\n",
              "      <td>0.0</td>\n",
              "    </tr>\n",
              "    <tr>\n",
              "      <th>std</th>\n",
              "      <td>0.253763</td>\n",
              "      <td>0.467151</td>\n",
              "      <td>0.0</td>\n",
              "      <td>0.0</td>\n",
              "    </tr>\n",
              "    <tr>\n",
              "      <th>min</th>\n",
              "      <td>0.000000</td>\n",
              "      <td>0.000000</td>\n",
              "      <td>1.0</td>\n",
              "      <td>0.0</td>\n",
              "    </tr>\n",
              "    <tr>\n",
              "      <th>25%</th>\n",
              "      <td>1.000000</td>\n",
              "      <td>0.000000</td>\n",
              "      <td>1.0</td>\n",
              "      <td>0.0</td>\n",
              "    </tr>\n",
              "    <tr>\n",
              "      <th>50%</th>\n",
              "      <td>1.000000</td>\n",
              "      <td>0.000000</td>\n",
              "      <td>1.0</td>\n",
              "      <td>0.0</td>\n",
              "    </tr>\n",
              "    <tr>\n",
              "      <th>75%</th>\n",
              "      <td>1.000000</td>\n",
              "      <td>1.000000</td>\n",
              "      <td>1.0</td>\n",
              "      <td>0.0</td>\n",
              "    </tr>\n",
              "    <tr>\n",
              "      <th>max</th>\n",
              "      <td>1.000000</td>\n",
              "      <td>1.000000</td>\n",
              "      <td>1.0</td>\n",
              "      <td>0.0</td>\n",
              "    </tr>\n",
              "  </tbody>\n",
              "</table>\n",
              "</div>"
            ],
            "text/plain": [
              "             year     authors  title  venue\n",
              "count  984.000000  984.000000  984.0  984.0\n",
              "mean     0.930894    0.321138    1.0    0.0\n",
              "std      0.253763    0.467151    0.0    0.0\n",
              "min      0.000000    0.000000    1.0    0.0\n",
              "25%      1.000000    0.000000    1.0    0.0\n",
              "50%      1.000000    0.000000    1.0    0.0\n",
              "75%      1.000000    1.000000    1.0    0.0\n",
              "max      1.000000    1.000000    1.0    0.0"
            ]
          },
          "metadata": {},
          "execution_count": 242
        }
      ]
    },
    {
      "cell_type": "code",
      "metadata": {
        "id": "RHJ5QabQggKH",
        "colab": {
          "base_uri": "https://localhost:8080/"
        },
        "outputId": "e3e1a5ef-e42b-4667-f800-60b5c362a64d"
      },
      "source": [
        "# What are the score totals?\n",
        "features.sum(axis=1).value_counts().sort_index(ascending=False)"
      ],
      "execution_count": 243,
      "outputs": [
        {
          "output_type": "execute_result",
          "data": {
            "text/plain": [
              "3.0    304\n",
              "2.0    624\n",
              "1.0     56\n",
              "dtype: int64"
            ]
          },
          "metadata": {},
          "execution_count": 243
        }
      ]
    },
    {
      "cell_type": "code",
      "metadata": {
        "id": "bxNeZSMSggKH"
      },
      "source": [
        "# Get the potential matches\n",
        "potential_matches = features[features.sum(axis=1) > 1].reset_index()"
      ],
      "execution_count": 244,
      "outputs": []
    },
    {
      "cell_type": "code",
      "metadata": {
        "id": "sIGCDlrkggKH",
        "colab": {
          "base_uri": "https://localhost:8080/",
          "height": 224
        },
        "outputId": "31f94be6-425e-45ee-ca29-f4213cff3b3a"
      },
      "source": [
        "print(potential_matches.shape)\n",
        "potential_matches['Score'] = potential_matches.loc[:, 'authors':'authors'].sum(axis=1)\n",
        "potential_matches.tail()"
      ],
      "execution_count": 245,
      "outputs": [
        {
          "output_type": "stream",
          "name": "stdout",
          "text": [
            "(928, 6)\n"
          ]
        },
        {
          "output_type": "execute_result",
          "data": {
            "text/html": [
              "<div>\n",
              "<style scoped>\n",
              "    .dataframe tbody tr th:only-of-type {\n",
              "        vertical-align: middle;\n",
              "    }\n",
              "\n",
              "    .dataframe tbody tr th {\n",
              "        vertical-align: top;\n",
              "    }\n",
              "\n",
              "    .dataframe thead th {\n",
              "        text-align: right;\n",
              "    }\n",
              "</style>\n",
              "<table border=\"1\" class=\"dataframe\">\n",
              "  <thead>\n",
              "    <tr style=\"text-align: right;\">\n",
              "      <th></th>\n",
              "      <th>id_1</th>\n",
              "      <th>id_2</th>\n",
              "      <th>year</th>\n",
              "      <th>authors</th>\n",
              "      <th>title</th>\n",
              "      <th>venue</th>\n",
              "      <th>Score</th>\n",
              "    </tr>\n",
              "  </thead>\n",
              "  <tbody>\n",
              "    <tr>\n",
              "      <th>923</th>\n",
              "      <td>672978</td>\n",
              "      <td>conf/vldb/JonscherD94</td>\n",
              "      <td>1</td>\n",
              "      <td>0.0</td>\n",
              "      <td>1.0</td>\n",
              "      <td>0.0</td>\n",
              "      <td>0.0</td>\n",
              "    </tr>\n",
              "    <tr>\n",
              "      <th>924</th>\n",
              "      <td>950483</td>\n",
              "      <td>journals/vldb/RamamurthyDS03</td>\n",
              "      <td>1</td>\n",
              "      <td>0.0</td>\n",
              "      <td>1.0</td>\n",
              "      <td>0.0</td>\n",
              "      <td>0.0</td>\n",
              "    </tr>\n",
              "    <tr>\n",
              "      <th>925</th>\n",
              "      <td>672977</td>\n",
              "      <td>conf/vldb/KemperK94</td>\n",
              "      <td>1</td>\n",
              "      <td>1.0</td>\n",
              "      <td>1.0</td>\n",
              "      <td>0.0</td>\n",
              "      <td>1.0</td>\n",
              "    </tr>\n",
              "    <tr>\n",
              "      <th>926</th>\n",
              "      <td>672980</td>\n",
              "      <td>conf/vldb/Guting94</td>\n",
              "      <td>1</td>\n",
              "      <td>0.0</td>\n",
              "      <td>1.0</td>\n",
              "      <td>0.0</td>\n",
              "      <td>0.0</td>\n",
              "    </tr>\n",
              "    <tr>\n",
              "      <th>927</th>\n",
              "      <td>672979</td>\n",
              "      <td>conf/vldb/WienerN94</td>\n",
              "      <td>1</td>\n",
              "      <td>0.0</td>\n",
              "      <td>1.0</td>\n",
              "      <td>0.0</td>\n",
              "      <td>0.0</td>\n",
              "    </tr>\n",
              "  </tbody>\n",
              "</table>\n",
              "</div>"
            ],
            "text/plain": [
              "       id_1                          id_2  year  authors  title  venue  Score\n",
              "923  672978         conf/vldb/JonscherD94     1      0.0    1.0    0.0    0.0\n",
              "924  950483  journals/vldb/RamamurthyDS03     1      0.0    1.0    0.0    0.0\n",
              "925  672977           conf/vldb/KemperK94     1      1.0    1.0    0.0    1.0\n",
              "926  672980            conf/vldb/Guting94     1      0.0    1.0    0.0    0.0\n",
              "927  672979           conf/vldb/WienerN94     1      0.0    1.0    0.0    0.0"
            ]
          },
          "metadata": {},
          "execution_count": 245
        }
      ]
    },
    {
      "cell_type": "code",
      "metadata": {
        "id": "tjsIFztBggKI",
        "colab": {
          "base_uri": "https://localhost:8080/"
        },
        "outputId": "7994f436-232a-47ad-a4d5-cea1a42d522e"
      },
      "source": [
        "acm_data.loc[950482,:]"
      ],
      "execution_count": 246,
      "outputs": [
        {
          "output_type": "execute_result",
          "data": {
            "text/plain": [
              "Unnamed: 0                                                 2290\n",
              "title                                           Guest editorial\n",
              "authors       Philip A. Bernstein, Yannis Ioannidis, Raghu R...\n",
              "venue         The VLDB Journal &mdash; The International Jou...\n",
              "year                                                       2003\n",
              "Name: 950482, dtype: object"
            ]
          },
          "metadata": {},
          "execution_count": 246
        }
      ]
    },
    {
      "cell_type": "code",
      "metadata": {
        "id": "-XxVYI6gggKI",
        "colab": {
          "base_uri": "https://localhost:8080/"
        },
        "outputId": "3918d2b1-9943-4333-984e-0ce987d7efab"
      },
      "source": [
        "dblp_data.loc['journals/vldb/BernsteinIR03',:]"
      ],
      "execution_count": 247,
      "outputs": [
        {
          "output_type": "execute_result",
          "data": {
            "text/plain": [
              "Unnamed: 0                                                  671\n",
              "title                                           Guest editorial\n",
              "authors       Yannis E. Ioannidis, Raghu Ramakrishnan, Phili...\n",
              "venue                                                   VLDB J.\n",
              "year                                                       2003\n",
              "Name: journals/vldb/BernsteinIR03, dtype: object"
            ]
          },
          "metadata": {},
          "execution_count": 247
        }
      ]
    },
    {
      "cell_type": "code",
      "metadata": {
        "id": "giS0ItxVggKI"
      },
      "source": [
        "# Add some convenience columns for comparing data\n",
        "acm_data['acm_authors_lookup'] = acm_data[[\n",
        "    'year', 'authors', 'title', 'venue'\n",
        "]].apply(lambda x: '_'.join(x), axis=1)"
      ],
      "execution_count": 248,
      "outputs": []
    },
    {
      "cell_type": "code",
      "metadata": {
        "id": "Ne-fN_G6ggKI"
      },
      "source": [
        "dblp_data['dblp_authors_lookup'] = dblp_data[[\n",
        "     'year', 'authors', 'title', 'venue'\n",
        "]].apply(lambda x: '_'.join(x), axis=1)"
      ],
      "execution_count": 249,
      "outputs": []
    },
    {
      "cell_type": "code",
      "metadata": {
        "id": "GwL3NpCsggKJ"
      },
      "source": [
        "acm_data_lookup = acm_data[['acm_authors_lookup']].reset_index().rename(columns={\"id\": \"id_1\"})\n",
        "dblp_data_lookup = dblp_data[['dblp_authors_lookup']].reset_index().rename(columns={\"id\": \"id_2\"})\n"
      ],
      "execution_count": 250,
      "outputs": []
    },
    {
      "cell_type": "code",
      "metadata": {
        "id": "Ptr0MtvzggKJ",
        "colab": {
          "base_uri": "https://localhost:8080/",
          "height": 206
        },
        "outputId": "2138c15d-4626-43a5-8bb5-2e399a571f54"
      },
      "source": [
        "acm_data_lookup.head()"
      ],
      "execution_count": 251,
      "outputs": [
        {
          "output_type": "execute_result",
          "data": {
            "text/html": [
              "<div>\n",
              "<style scoped>\n",
              "    .dataframe tbody tr th:only-of-type {\n",
              "        vertical-align: middle;\n",
              "    }\n",
              "\n",
              "    .dataframe tbody tr th {\n",
              "        vertical-align: top;\n",
              "    }\n",
              "\n",
              "    .dataframe thead th {\n",
              "        text-align: right;\n",
              "    }\n",
              "</style>\n",
              "<table border=\"1\" class=\"dataframe\">\n",
              "  <thead>\n",
              "    <tr style=\"text-align: right;\">\n",
              "      <th></th>\n",
              "      <th>id_1</th>\n",
              "      <th>acm_authors_lookup</th>\n",
              "    </tr>\n",
              "  </thead>\n",
              "  <tbody>\n",
              "    <tr>\n",
              "      <th>0</th>\n",
              "      <td>304586</td>\n",
              "      <td>1999_Gottfried Vossen, Mathias Weske_The WASA2...</td>\n",
              "    </tr>\n",
              "    <tr>\n",
              "      <th>1</th>\n",
              "      <td>304587</td>\n",
              "      <td>1999_Isabel F. Cruz, Kimberly M. James_A user-...</td>\n",
              "    </tr>\n",
              "    <tr>\n",
              "      <th>2</th>\n",
              "      <td>304589</td>\n",
              "      <td>1999_Athman Bouguettaya, Boualem Benatallah, L...</td>\n",
              "    </tr>\n",
              "    <tr>\n",
              "      <th>3</th>\n",
              "      <td>304590</td>\n",
              "      <td>1999_Chaitan Baru, Amarnath Gupta, Bertram Lud...</td>\n",
              "    </tr>\n",
              "    <tr>\n",
              "      <th>4</th>\n",
              "      <td>304582</td>\n",
              "      <td>1999_Alexander Brodsky, Victor E. Segal, Jia C...</td>\n",
              "    </tr>\n",
              "  </tbody>\n",
              "</table>\n",
              "</div>"
            ],
            "text/plain": [
              "     id_1                                 acm_authors_lookup\n",
              "0  304586  1999_Gottfried Vossen, Mathias Weske_The WASA2...\n",
              "1  304587  1999_Isabel F. Cruz, Kimberly M. James_A user-...\n",
              "2  304589  1999_Athman Bouguettaya, Boualem Benatallah, L...\n",
              "3  304590  1999_Chaitan Baru, Amarnath Gupta, Bertram Lud...\n",
              "4  304582  1999_Alexander Brodsky, Victor E. Segal, Jia C..."
            ]
          },
          "metadata": {},
          "execution_count": 251
        }
      ]
    },
    {
      "cell_type": "code",
      "metadata": {
        "id": "VYE3PiGRggKJ",
        "colab": {
          "base_uri": "https://localhost:8080/",
          "height": 206
        },
        "outputId": "202fb2e6-2df3-43b9-9dc3-e3034109368e"
      },
      "source": [
        "dblp_data_lookup.head()"
      ],
      "execution_count": 252,
      "outputs": [
        {
          "output_type": "execute_result",
          "data": {
            "text/html": [
              "<div>\n",
              "<style scoped>\n",
              "    .dataframe tbody tr th:only-of-type {\n",
              "        vertical-align: middle;\n",
              "    }\n",
              "\n",
              "    .dataframe tbody tr th {\n",
              "        vertical-align: top;\n",
              "    }\n",
              "\n",
              "    .dataframe thead th {\n",
              "        text-align: right;\n",
              "    }\n",
              "</style>\n",
              "<table border=\"1\" class=\"dataframe\">\n",
              "  <thead>\n",
              "    <tr style=\"text-align: right;\">\n",
              "      <th></th>\n",
              "      <th>id_2</th>\n",
              "      <th>dblp_authors_lookup</th>\n",
              "    </tr>\n",
              "  </thead>\n",
              "  <tbody>\n",
              "    <tr>\n",
              "      <th>0</th>\n",
              "      <td>journals/sigmod/Mackay99</td>\n",
              "      <td>1999_D. Scott Mackay_Semantic Integration of E...</td>\n",
              "    </tr>\n",
              "    <tr>\n",
              "      <th>1</th>\n",
              "      <td>conf/vldb/PoosalaI96</td>\n",
              "      <td>1996_Viswanath Poosala, Yannis E. Ioannidis_Es...</td>\n",
              "    </tr>\n",
              "    <tr>\n",
              "      <th>2</th>\n",
              "      <td>conf/vldb/PalpanasSCP02</td>\n",
              "      <td>2002_Themistoklis Palpanas, Richard Sidle, Ham...</td>\n",
              "    </tr>\n",
              "    <tr>\n",
              "      <th>3</th>\n",
              "      <td>conf/vldb/GardarinGT96</td>\n",
              "      <td>1996_Zhao-Hui Tang, Georges Gardarin, Jean-Rob...</td>\n",
              "    </tr>\n",
              "    <tr>\n",
              "      <th>4</th>\n",
              "      <td>conf/vldb/HoelS95</td>\n",
              "      <td>1995_Erik G. Hoel, Hanan Samet_Benchmarking Sp...</td>\n",
              "    </tr>\n",
              "  </tbody>\n",
              "</table>\n",
              "</div>"
            ],
            "text/plain": [
              "                       id_2                                dblp_authors_lookup\n",
              "0  journals/sigmod/Mackay99  1999_D. Scott Mackay_Semantic Integration of E...\n",
              "1      conf/vldb/PoosalaI96  1996_Viswanath Poosala, Yannis E. Ioannidis_Es...\n",
              "2   conf/vldb/PalpanasSCP02  2002_Themistoklis Palpanas, Richard Sidle, Ham...\n",
              "3    conf/vldb/GardarinGT96  1996_Zhao-Hui Tang, Georges Gardarin, Jean-Rob...\n",
              "4         conf/vldb/HoelS95  1995_Erik G. Hoel, Hanan Samet_Benchmarking Sp..."
            ]
          },
          "metadata": {},
          "execution_count": 252
        }
      ]
    },
    {
      "cell_type": "code",
      "metadata": {
        "id": "906QfJPZggKJ"
      },
      "source": [
        "acm_data_merge = potential_matches.merge(acm_data_lookup, how='left')"
      ],
      "execution_count": 253,
      "outputs": []
    },
    {
      "cell_type": "code",
      "metadata": {
        "id": "oU8E7B2wggKJ",
        "colab": {
          "base_uri": "https://localhost:8080/",
          "height": 206
        },
        "outputId": "67e370d1-6e65-40ec-a54b-0b702f4185ec"
      },
      "source": [
        "acm_data_merge.head()"
      ],
      "execution_count": 254,
      "outputs": [
        {
          "output_type": "execute_result",
          "data": {
            "text/html": [
              "<div>\n",
              "<style scoped>\n",
              "    .dataframe tbody tr th:only-of-type {\n",
              "        vertical-align: middle;\n",
              "    }\n",
              "\n",
              "    .dataframe tbody tr th {\n",
              "        vertical-align: top;\n",
              "    }\n",
              "\n",
              "    .dataframe thead th {\n",
              "        text-align: right;\n",
              "    }\n",
              "</style>\n",
              "<table border=\"1\" class=\"dataframe\">\n",
              "  <thead>\n",
              "    <tr style=\"text-align: right;\">\n",
              "      <th></th>\n",
              "      <th>id_1</th>\n",
              "      <th>id_2</th>\n",
              "      <th>year</th>\n",
              "      <th>authors</th>\n",
              "      <th>title</th>\n",
              "      <th>venue</th>\n",
              "      <th>Score</th>\n",
              "      <th>acm_authors_lookup</th>\n",
              "    </tr>\n",
              "  </thead>\n",
              "  <tbody>\n",
              "    <tr>\n",
              "      <th>0</th>\n",
              "      <td>277955</td>\n",
              "      <td>conf/sigmod/Epstein95</td>\n",
              "      <td>1</td>\n",
              "      <td>1.0</td>\n",
              "      <td>1.0</td>\n",
              "      <td>0.0</td>\n",
              "      <td>1.0</td>\n",
              "      <td>1995_Robert S. Epstein_Keynote Address_Interna...</td>\n",
              "    </tr>\n",
              "    <tr>\n",
              "      <th>1</th>\n",
              "      <td>277955</td>\n",
              "      <td>conf/sigmod/Ellison95</td>\n",
              "      <td>1</td>\n",
              "      <td>0.0</td>\n",
              "      <td>1.0</td>\n",
              "      <td>0.0</td>\n",
              "      <td>0.0</td>\n",
              "      <td>1995_Robert S. Epstein_Keynote Address_Interna...</td>\n",
              "    </tr>\n",
              "    <tr>\n",
              "      <th>2</th>\n",
              "      <td>276377</td>\n",
              "      <td>conf/sigmod/OlstonWACELSS98</td>\n",
              "      <td>1</td>\n",
              "      <td>0.0</td>\n",
              "      <td>1.0</td>\n",
              "      <td>0.0</td>\n",
              "      <td>0.0</td>\n",
              "      <td>1998_Chris Olston, Allison Woodruff, Alexander...</td>\n",
              "    </tr>\n",
              "    <tr>\n",
              "      <th>3</th>\n",
              "      <td>276367</td>\n",
              "      <td>conf/sigmod/Aulakh98</td>\n",
              "      <td>1</td>\n",
              "      <td>1.0</td>\n",
              "      <td>1.0</td>\n",
              "      <td>0.0</td>\n",
              "      <td>1.0</td>\n",
              "      <td>1998_Kamar Aulakh_About Quark Digital Media Sy...</td>\n",
              "    </tr>\n",
              "    <tr>\n",
              "      <th>4</th>\n",
              "      <td>304211</td>\n",
              "      <td>journals/vldb/MaratheS02</td>\n",
              "      <td>0</td>\n",
              "      <td>1.0</td>\n",
              "      <td>1.0</td>\n",
              "      <td>0.0</td>\n",
              "      <td>1.0</td>\n",
              "      <td>1999_Arunprasad P. Marathe, Kenneth Salem_Quer...</td>\n",
              "    </tr>\n",
              "  </tbody>\n",
              "</table>\n",
              "</div>"
            ],
            "text/plain": [
              "     id_1  ...                                 acm_authors_lookup\n",
              "0  277955  ...  1995_Robert S. Epstein_Keynote Address_Interna...\n",
              "1  277955  ...  1995_Robert S. Epstein_Keynote Address_Interna...\n",
              "2  276377  ...  1998_Chris Olston, Allison Woodruff, Alexander...\n",
              "3  276367  ...  1998_Kamar Aulakh_About Quark Digital Media Sy...\n",
              "4  304211  ...  1999_Arunprasad P. Marathe, Kenneth Salem_Quer...\n",
              "\n",
              "[5 rows x 8 columns]"
            ]
          },
          "metadata": {},
          "execution_count": 254
        }
      ]
    },
    {
      "cell_type": "code",
      "metadata": {
        "id": "6pND93s1ggKK"
      },
      "source": [
        "# Let's build a dataframe to  compare\n",
        "final_merge = acm_data_merge.merge(dblp_data_lookup, how='left')"
      ],
      "execution_count": 255,
      "outputs": []
    },
    {
      "cell_type": "code",
      "metadata": {
        "id": "0z99XcjWggKK"
      },
      "source": [
        "cols = [\n",
        "    'id_1', 'id_2', 'Score', 'acm_authors_lookup',\n",
        "    'dblp_authors_lookup'\n",
        "]"
      ],
      "execution_count": 256,
      "outputs": []
    },
    {
      "cell_type": "code",
      "metadata": {
        "id": "C9DOVpDOggKK",
        "colab": {
          "base_uri": "https://localhost:8080/",
          "height": 597
        },
        "outputId": "87d620ba-6693-4371-be94-f6467af3d3a7"
      },
      "source": [
        "final_merge[cols].sort_values(by=['id_1', 'Score'], ascending=False)"
      ],
      "execution_count": 257,
      "outputs": [
        {
          "output_type": "execute_result",
          "data": {
            "text/html": [
              "<div>\n",
              "<style scoped>\n",
              "    .dataframe tbody tr th:only-of-type {\n",
              "        vertical-align: middle;\n",
              "    }\n",
              "\n",
              "    .dataframe tbody tr th {\n",
              "        vertical-align: top;\n",
              "    }\n",
              "\n",
              "    .dataframe thead th {\n",
              "        text-align: right;\n",
              "    }\n",
              "</style>\n",
              "<table border=\"1\" class=\"dataframe\">\n",
              "  <thead>\n",
              "    <tr style=\"text-align: right;\">\n",
              "      <th></th>\n",
              "      <th>id_1</th>\n",
              "      <th>id_2</th>\n",
              "      <th>Score</th>\n",
              "      <th>acm_authors_lookup</th>\n",
              "      <th>dblp_authors_lookup</th>\n",
              "    </tr>\n",
              "  </thead>\n",
              "  <tbody>\n",
              "    <tr>\n",
              "      <th>795</th>\n",
              "      <td>959087</td>\n",
              "      <td>journals/sigmod/Hainaut03</td>\n",
              "      <td>1.0</td>\n",
              "      <td>2003_Jean-Luc Hainaut_Research in database eng...</td>\n",
              "      <td>2003_Jean-Luc Hainaut_Research in database eng...</td>\n",
              "    </tr>\n",
              "    <tr>\n",
              "      <th>794</th>\n",
              "      <td>959086</td>\n",
              "      <td>journals/sigmod/KambhampatiK03</td>\n",
              "      <td>1.0</td>\n",
              "      <td>2003_Subbarao Kambhampati, Craig A. Knoblock_I...</td>\n",
              "      <td>2003_Subbarao Kambhampati, Craig A. Knoblock_I...</td>\n",
              "    </tr>\n",
              "    <tr>\n",
              "      <th>797</th>\n",
              "      <td>959085</td>\n",
              "      <td>journals/sigmod/MotroA03</td>\n",
              "      <td>1.0</td>\n",
              "      <td>2003_Amihai Motro, Troels Andreasen_Report on ...</td>\n",
              "      <td>2003_Amihai Motro, Troels Andreasen_Report on ...</td>\n",
              "    </tr>\n",
              "    <tr>\n",
              "      <th>796</th>\n",
              "      <td>959084</td>\n",
              "      <td>journals/sigmod/Giorgini03</td>\n",
              "      <td>1.0</td>\n",
              "      <td>2003_Paolo Giorgini_Agent-Oriented software en...</td>\n",
              "      <td>2003_Paolo Giorgini_Agent-Oriented software en...</td>\n",
              "    </tr>\n",
              "    <tr>\n",
              "      <th>849</th>\n",
              "      <td>959083</td>\n",
              "      <td>journals/sigmod/LenzVJS03</td>\n",
              "      <td>0.0</td>\n",
              "      <td>2003_Hans J. Lenz, Panos Vassiliadis, Manfred ...</td>\n",
              "      <td>2003_Manfred A. Jeusfeld, Hans-Joachim Lenz, P...</td>\n",
              "    </tr>\n",
              "    <tr>\n",
              "      <th>...</th>\n",
              "      <td>...</td>\n",
              "      <td>...</td>\n",
              "      <td>...</td>\n",
              "      <td>...</td>\n",
              "      <td>...</td>\n",
              "    </tr>\n",
              "    <tr>\n",
              "      <th>745</th>\n",
              "      <td>234900</td>\n",
              "      <td>journals/sigmod/Dogac96</td>\n",
              "      <td>1.0</td>\n",
              "      <td>1996_Asuman Dogac_Middle East Technical Univer...</td>\n",
              "      <td>1996_Asuman Dogac_Middle East Technical Univer...</td>\n",
              "    </tr>\n",
              "    <tr>\n",
              "      <th>741</th>\n",
              "      <td>219774</td>\n",
              "      <td>journals/sigmod/Stacey95</td>\n",
              "      <td>1.0</td>\n",
              "      <td>1995_Doug Stacey_Replication: DB2, Oracle, or ...</td>\n",
              "      <td>1995_Doug Stacey_Replication: DB2, Oracle, or ...</td>\n",
              "    </tr>\n",
              "    <tr>\n",
              "      <th>740</th>\n",
              "      <td>212019</td>\n",
              "      <td>journals/sigmod/RisheSBDOALOSS95</td>\n",
              "      <td>0.0</td>\n",
              "      <td>1995_Naphtali Rishe, Wei Sun, David Barton, Yi...</td>\n",
              "      <td>1995_Leonard Loureiro, Yi Deng, Carlos Ordonez...</td>\n",
              "    </tr>\n",
              "    <tr>\n",
              "      <th>743</th>\n",
              "      <td>181569</td>\n",
              "      <td>journals/sigmod/Winslett94</td>\n",
              "      <td>1.0</td>\n",
              "      <td>1994_Marianne Winslett_Progress on HPCC and NI...</td>\n",
              "      <td>1994_Marianne Winslett_Progress on HPCC and NI...</td>\n",
              "    </tr>\n",
              "    <tr>\n",
              "      <th>742</th>\n",
              "      <td>181566</td>\n",
              "      <td>journals/sigmod/MedeirosP94</td>\n",
              "      <td>1.0</td>\n",
              "      <td>1994_Claudia Bauzer Medeiros, Fatima Pires_Dat...</td>\n",
              "      <td>1994_Claudia Bauzer Medeiros, Fatima Pires_Dat...</td>\n",
              "    </tr>\n",
              "  </tbody>\n",
              "</table>\n",
              "<p>928 rows × 5 columns</p>\n",
              "</div>"
            ],
            "text/plain": [
              "       id_1  ...                                dblp_authors_lookup\n",
              "795  959087  ...  2003_Jean-Luc Hainaut_Research in database eng...\n",
              "794  959086  ...  2003_Subbarao Kambhampati, Craig A. Knoblock_I...\n",
              "797  959085  ...  2003_Amihai Motro, Troels Andreasen_Report on ...\n",
              "796  959084  ...  2003_Paolo Giorgini_Agent-Oriented software en...\n",
              "849  959083  ...  2003_Manfred A. Jeusfeld, Hans-Joachim Lenz, P...\n",
              "..      ...  ...                                                ...\n",
              "745  234900  ...  1996_Asuman Dogac_Middle East Technical Univer...\n",
              "741  219774  ...  1995_Doug Stacey_Replication: DB2, Oracle, or ...\n",
              "740  212019  ...  1995_Leonard Loureiro, Yi Deng, Carlos Ordonez...\n",
              "743  181569  ...  1994_Marianne Winslett_Progress on HPCC and NI...\n",
              "742  181566  ...  1994_Claudia Bauzer Medeiros, Fatima Pires_Dat...\n",
              "\n",
              "[928 rows x 5 columns]"
            ]
          },
          "metadata": {},
          "execution_count": 257
        }
      ]
    },
    {
      "cell_type": "code",
      "source": [
        "final_merge[['id_1', 'id_2']].rename(columns={\"id_1\": \"idACM\", \"id_2\": \"idDBLP\"}).to_csv('record_linkage.csv',\n",
        "                                                  index=False)"
      ],
      "metadata": {
        "id": "8Q6RJ_Hn4DH0"
      },
      "execution_count": 258,
      "outputs": []
    },
    {
      "cell_type": "markdown",
      "source": [
        "### Comparing to perfect mappings\n"
      ],
      "metadata": {
        "id": "p2QKrkxM2jA3"
      }
    },
    {
      "cell_type": "code",
      "source": [
        "perfect = pd.read_csv(\n",
        "    'https://raw.githubusercontent.com/PaoloMissier/CSC3831-2021-22/main/LINKAGE/DATASETS/DBLP-ACM_perfectMapping.csv'\n",
        ")\n",
        "perfect = perfect[['idACM', 'idDBLP']].sort_values(by=['idACM']).reset_index()\n",
        "\n",
        "fuzzy = pd.read_csv('fuzzy_matching.csv')\n",
        "record = pd.read_csv('record_linkage.csv')"
      ],
      "metadata": {
        "id": "ckyH8vgV2lYc"
      },
      "execution_count": 342,
      "outputs": []
    },
    {
      "cell_type": "code",
      "source": [
        "perfect"
      ],
      "metadata": {
        "colab": {
          "base_uri": "https://localhost:8080/",
          "height": 424
        },
        "id": "xk7qDVne3XlV",
        "outputId": "8fe8dfba-722a-4ed9-96a4-9afec6d779a6"
      },
      "execution_count": 308,
      "outputs": [
        {
          "output_type": "execute_result",
          "data": {
            "text/html": [
              "<div>\n",
              "<style scoped>\n",
              "    .dataframe tbody tr th:only-of-type {\n",
              "        vertical-align: middle;\n",
              "    }\n",
              "\n",
              "    .dataframe tbody tr th {\n",
              "        vertical-align: top;\n",
              "    }\n",
              "\n",
              "    .dataframe thead th {\n",
              "        text-align: right;\n",
              "    }\n",
              "</style>\n",
              "<table border=\"1\" class=\"dataframe\">\n",
              "  <thead>\n",
              "    <tr style=\"text-align: right;\">\n",
              "      <th></th>\n",
              "      <th>index</th>\n",
              "      <th>idACM</th>\n",
              "      <th>idDBLP</th>\n",
              "    </tr>\n",
              "  </thead>\n",
              "  <tbody>\n",
              "    <tr>\n",
              "      <th>0</th>\n",
              "      <td>1334</td>\n",
              "      <td>174639</td>\n",
              "      <td>journals/tods/SalemGS94</td>\n",
              "    </tr>\n",
              "    <tr>\n",
              "      <th>1</th>\n",
              "      <td>1331</td>\n",
              "      <td>174640</td>\n",
              "      <td>journals/tods/OliverS94</td>\n",
              "    </tr>\n",
              "    <tr>\n",
              "      <th>2</th>\n",
              "      <td>1332</td>\n",
              "      <td>174641</td>\n",
              "      <td>journals/tods/TendickM94</td>\n",
              "    </tr>\n",
              "    <tr>\n",
              "      <th>3</th>\n",
              "      <td>1333</td>\n",
              "      <td>174642</td>\n",
              "      <td>journals/tods/CliffordC94</td>\n",
              "    </tr>\n",
              "    <tr>\n",
              "      <th>4</th>\n",
              "      <td>1326</td>\n",
              "      <td>176568</td>\n",
              "      <td>journals/tods/RosenthalR94</td>\n",
              "    </tr>\n",
              "    <tr>\n",
              "      <th>...</th>\n",
              "      <td>...</td>\n",
              "      <td>...</td>\n",
              "      <td>...</td>\n",
              "    </tr>\n",
              "    <tr>\n",
              "      <th>2219</th>\n",
              "      <td>796</td>\n",
              "      <td>959083</td>\n",
              "      <td>journals/sigmod/LenzVJS03</td>\n",
              "    </tr>\n",
              "    <tr>\n",
              "      <th>2220</th>\n",
              "      <td>797</td>\n",
              "      <td>959084</td>\n",
              "      <td>journals/sigmod/Giorgini03</td>\n",
              "    </tr>\n",
              "    <tr>\n",
              "      <th>2221</th>\n",
              "      <td>798</td>\n",
              "      <td>959085</td>\n",
              "      <td>journals/sigmod/MotroA03</td>\n",
              "    </tr>\n",
              "    <tr>\n",
              "      <th>2222</th>\n",
              "      <td>799</td>\n",
              "      <td>959086</td>\n",
              "      <td>journals/sigmod/KambhampatiK03</td>\n",
              "    </tr>\n",
              "    <tr>\n",
              "      <th>2223</th>\n",
              "      <td>800</td>\n",
              "      <td>959087</td>\n",
              "      <td>journals/sigmod/Hainaut03</td>\n",
              "    </tr>\n",
              "  </tbody>\n",
              "</table>\n",
              "<p>2224 rows × 3 columns</p>\n",
              "</div>"
            ],
            "text/plain": [
              "      index   idACM                          idDBLP\n",
              "0      1334  174639         journals/tods/SalemGS94\n",
              "1      1331  174640         journals/tods/OliverS94\n",
              "2      1332  174641        journals/tods/TendickM94\n",
              "3      1333  174642       journals/tods/CliffordC94\n",
              "4      1326  176568      journals/tods/RosenthalR94\n",
              "...     ...     ...                             ...\n",
              "2219    796  959083       journals/sigmod/LenzVJS03\n",
              "2220    797  959084      journals/sigmod/Giorgini03\n",
              "2221    798  959085        journals/sigmod/MotroA03\n",
              "2222    799  959086  journals/sigmod/KambhampatiK03\n",
              "2223    800  959087       journals/sigmod/Hainaut03\n",
              "\n",
              "[2224 rows x 3 columns]"
            ]
          },
          "metadata": {},
          "execution_count": 308
        }
      ]
    },
    {
      "cell_type": "code",
      "source": [
        "record"
      ],
      "metadata": {
        "colab": {
          "base_uri": "https://localhost:8080/",
          "height": 424
        },
        "id": "4ybqV8EE5dUW",
        "outputId": "a293e813-5fb2-4cd8-a56d-ae8a00995ecc"
      },
      "execution_count": 309,
      "outputs": [
        {
          "output_type": "execute_result",
          "data": {
            "text/html": [
              "<div>\n",
              "<style scoped>\n",
              "    .dataframe tbody tr th:only-of-type {\n",
              "        vertical-align: middle;\n",
              "    }\n",
              "\n",
              "    .dataframe tbody tr th {\n",
              "        vertical-align: top;\n",
              "    }\n",
              "\n",
              "    .dataframe thead th {\n",
              "        text-align: right;\n",
              "    }\n",
              "</style>\n",
              "<table border=\"1\" class=\"dataframe\">\n",
              "  <thead>\n",
              "    <tr style=\"text-align: right;\">\n",
              "      <th></th>\n",
              "      <th>idACM</th>\n",
              "      <th>idDBLP</th>\n",
              "    </tr>\n",
              "  </thead>\n",
              "  <tbody>\n",
              "    <tr>\n",
              "      <th>0</th>\n",
              "      <td>277955</td>\n",
              "      <td>conf/sigmod/Epstein95</td>\n",
              "    </tr>\n",
              "    <tr>\n",
              "      <th>1</th>\n",
              "      <td>277955</td>\n",
              "      <td>conf/sigmod/Ellison95</td>\n",
              "    </tr>\n",
              "    <tr>\n",
              "      <th>2</th>\n",
              "      <td>276377</td>\n",
              "      <td>conf/sigmod/OlstonWACELSS98</td>\n",
              "    </tr>\n",
              "    <tr>\n",
              "      <th>3</th>\n",
              "      <td>276367</td>\n",
              "      <td>conf/sigmod/Aulakh98</td>\n",
              "    </tr>\n",
              "    <tr>\n",
              "      <th>4</th>\n",
              "      <td>304211</td>\n",
              "      <td>journals/vldb/MaratheS02</td>\n",
              "    </tr>\n",
              "    <tr>\n",
              "      <th>...</th>\n",
              "      <td>...</td>\n",
              "      <td>...</td>\n",
              "    </tr>\n",
              "    <tr>\n",
              "      <th>923</th>\n",
              "      <td>672978</td>\n",
              "      <td>conf/vldb/JonscherD94</td>\n",
              "    </tr>\n",
              "    <tr>\n",
              "      <th>924</th>\n",
              "      <td>950483</td>\n",
              "      <td>journals/vldb/RamamurthyDS03</td>\n",
              "    </tr>\n",
              "    <tr>\n",
              "      <th>925</th>\n",
              "      <td>672977</td>\n",
              "      <td>conf/vldb/KemperK94</td>\n",
              "    </tr>\n",
              "    <tr>\n",
              "      <th>926</th>\n",
              "      <td>672980</td>\n",
              "      <td>conf/vldb/Guting94</td>\n",
              "    </tr>\n",
              "    <tr>\n",
              "      <th>927</th>\n",
              "      <td>672979</td>\n",
              "      <td>conf/vldb/WienerN94</td>\n",
              "    </tr>\n",
              "  </tbody>\n",
              "</table>\n",
              "<p>928 rows × 2 columns</p>\n",
              "</div>"
            ],
            "text/plain": [
              "      idACM                        idDBLP\n",
              "0    277955         conf/sigmod/Epstein95\n",
              "1    277955         conf/sigmod/Ellison95\n",
              "2    276377   conf/sigmod/OlstonWACELSS98\n",
              "3    276367          conf/sigmod/Aulakh98\n",
              "4    304211      journals/vldb/MaratheS02\n",
              "..      ...                           ...\n",
              "923  672978         conf/vldb/JonscherD94\n",
              "924  950483  journals/vldb/RamamurthyDS03\n",
              "925  672977           conf/vldb/KemperK94\n",
              "926  672980            conf/vldb/Guting94\n",
              "927  672979           conf/vldb/WienerN94\n",
              "\n",
              "[928 rows x 2 columns]"
            ]
          },
          "metadata": {},
          "execution_count": 309
        }
      ]
    },
    {
      "cell_type": "code",
      "source": [
        "fuzzy"
      ],
      "metadata": {
        "colab": {
          "base_uri": "https://localhost:8080/",
          "height": 424
        },
        "id": "IbuwKRnUCc7X",
        "outputId": "1ed4ed4d-8fee-455f-e04c-b01279ed8ce8"
      },
      "execution_count": 343,
      "outputs": [
        {
          "output_type": "execute_result",
          "data": {
            "text/html": [
              "<div>\n",
              "<style scoped>\n",
              "    .dataframe tbody tr th:only-of-type {\n",
              "        vertical-align: middle;\n",
              "    }\n",
              "\n",
              "    .dataframe tbody tr th {\n",
              "        vertical-align: top;\n",
              "    }\n",
              "\n",
              "    .dataframe thead th {\n",
              "        text-align: right;\n",
              "    }\n",
              "</style>\n",
              "<table border=\"1\" class=\"dataframe\">\n",
              "  <thead>\n",
              "    <tr style=\"text-align: right;\">\n",
              "      <th></th>\n",
              "      <th>idACM</th>\n",
              "      <th>idDBLP</th>\n",
              "    </tr>\n",
              "  </thead>\n",
              "  <tbody>\n",
              "    <tr>\n",
              "      <th>0</th>\n",
              "      <td>174639</td>\n",
              "      <td>journals/tods/SalemGS94</td>\n",
              "    </tr>\n",
              "    <tr>\n",
              "      <th>1</th>\n",
              "      <td>174640</td>\n",
              "      <td>journals/tods/OliverS94</td>\n",
              "    </tr>\n",
              "    <tr>\n",
              "      <th>2</th>\n",
              "      <td>174641</td>\n",
              "      <td>journals/tods/TendickM94</td>\n",
              "    </tr>\n",
              "    <tr>\n",
              "      <th>3</th>\n",
              "      <td>174642</td>\n",
              "      <td>journals/tods/CliffordC94</td>\n",
              "    </tr>\n",
              "    <tr>\n",
              "      <th>4</th>\n",
              "      <td>176568</td>\n",
              "      <td>journals/tods/RosenthalR94</td>\n",
              "    </tr>\n",
              "    <tr>\n",
              "      <th>...</th>\n",
              "      <td>...</td>\n",
              "      <td>...</td>\n",
              "    </tr>\n",
              "    <tr>\n",
              "      <th>2167</th>\n",
              "      <td>959083</td>\n",
              "      <td>journals/sigmod/LenzVJS03</td>\n",
              "    </tr>\n",
              "    <tr>\n",
              "      <th>2168</th>\n",
              "      <td>959084</td>\n",
              "      <td>journals/sigmod/Giorgini03</td>\n",
              "    </tr>\n",
              "    <tr>\n",
              "      <th>2169</th>\n",
              "      <td>959085</td>\n",
              "      <td>journals/sigmod/MotroA03</td>\n",
              "    </tr>\n",
              "    <tr>\n",
              "      <th>2170</th>\n",
              "      <td>959086</td>\n",
              "      <td>journals/sigmod/KambhampatiK03</td>\n",
              "    </tr>\n",
              "    <tr>\n",
              "      <th>2171</th>\n",
              "      <td>959087</td>\n",
              "      <td>journals/sigmod/Hainaut03</td>\n",
              "    </tr>\n",
              "  </tbody>\n",
              "</table>\n",
              "<p>2172 rows × 2 columns</p>\n",
              "</div>"
            ],
            "text/plain": [
              "       idACM                          idDBLP\n",
              "0     174639         journals/tods/SalemGS94\n",
              "1     174640         journals/tods/OliverS94\n",
              "2     174641        journals/tods/TendickM94\n",
              "3     174642       journals/tods/CliffordC94\n",
              "4     176568      journals/tods/RosenthalR94\n",
              "...      ...                             ...\n",
              "2167  959083       journals/sigmod/LenzVJS03\n",
              "2168  959084      journals/sigmod/Giorgini03\n",
              "2169  959085        journals/sigmod/MotroA03\n",
              "2170  959086  journals/sigmod/KambhampatiK03\n",
              "2171  959087       journals/sigmod/Hainaut03\n",
              "\n",
              "[2172 rows x 2 columns]"
            ]
          },
          "metadata": {},
          "execution_count": 343
        }
      ]
    },
    {
      "cell_type": "code",
      "source": [
        "f1_score(fuzzy, perfect)"
      ],
      "metadata": {
        "colab": {
          "base_uri": "https://localhost:8080/",
          "height": 166
        },
        "id": "CiUd2VA147af",
        "outputId": "f9fd76ca-4b69-484d-cca3-17518337edc4"
      },
      "execution_count": 344,
      "outputs": [
        {
          "output_type": "error",
          "ename": "NameError",
          "evalue": "ignored",
          "traceback": [
            "\u001b[0;31m---------------------------------------------------------------------------\u001b[0m",
            "\u001b[0;31mNameError\u001b[0m                                 Traceback (most recent call last)",
            "\u001b[0;32m<ipython-input-344-1979a2b766a3>\u001b[0m in \u001b[0;36m<module>\u001b[0;34m()\u001b[0m\n\u001b[0;32m----> 1\u001b[0;31m \u001b[0mf1_score\u001b[0m\u001b[0;34m(\u001b[0m\u001b[0mfuzzy\u001b[0m\u001b[0;34m,\u001b[0m \u001b[0mperfect\u001b[0m\u001b[0;34m)\u001b[0m\u001b[0;34m\u001b[0m\u001b[0;34m\u001b[0m\u001b[0m\n\u001b[0m",
            "\u001b[0;31mNameError\u001b[0m: name 'f1_score' is not defined"
          ]
        }
      ]
    }
  ]
}
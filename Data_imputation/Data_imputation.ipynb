{
  "nbformat": 4,
  "nbformat_minor": 0,
  "metadata": {
    "colab": {
      "name": "Data imputation.ipynb",
      "provenance": [],
      "authorship_tag": "ABX9TyM0iW9UTie/ykjiJ3EQmu7f",
      "include_colab_link": true
    },
    "kernelspec": {
      "name": "python3",
      "display_name": "Python 3"
    },
    "language_info": {
      "name": "python"
    }
  },
  "cells": [
    {
      "cell_type": "markdown",
      "metadata": {
        "id": "view-in-github",
        "colab_type": "text"
      },
      "source": [
        "<a href=\"https://colab.research.google.com/github/theoem/Data-Linkage/blob/master/Data_imputation/Data_imputation.ipynb\" target=\"_parent\"><img src=\"https://colab.research.google.com/assets/colab-badge.svg\" alt=\"Open In Colab\"/></a>"
      ]
    },
    {
      "cell_type": "markdown",
      "source": [
        "Univairte, multivarite, mice"
      ],
      "metadata": {
        "id": "bJYOVbfJTXie"
      }
    },
    {
      "cell_type": "code",
      "source": [
        "import missingno as msno ## specific python lib to analyse missingness\n",
        "import pandas as pd\n",
        "from sklearn.ensemble import RandomForestRegressor\n",
        "from sklearn.impute import SimpleImputer, KNNImputer\n",
        "from sklearn.model_selection import cross_val_score\n",
        "from sklearn.pipeline import make_pipeline\n",
        "\n",
        "pd.set_option('max_columns', None)\n",
        "\n",
        "regressor = RandomForestRegressor(random_state=0)"
      ],
      "metadata": {
        "id": "ORGBYE4DaPtO"
      },
      "execution_count": 42,
      "outputs": []
    },
    {
      "cell_type": "code",
      "source": [
        "original = pd.read_csv('https://raw.githubusercontent.com/PaoloMissier/CSC3831-2021-22/main/IMPUTATION/TARGET-DATASETS/ORIGINAL/houses.csv')"
      ],
      "metadata": {
        "id": "hwjJUIa6mOkJ"
      },
      "execution_count": 46,
      "outputs": []
    },
    {
      "cell_type": "code",
      "source": [
        "files = [\n",
        "         'houses_0.01_MAR.csv',\n",
        "         'houses_0.01_MCAR.csv',\n",
        "         'houses_0.01_MNAR.csv',\n",
        "         'houses_0.1_MAR.csv',\n",
        "         'houses_0.1_MCAR.csv',\n",
        "         'houses_0.1_MNAR.csv',\n",
        "         'houses_0.5_MAR.csv',\n",
        "         'houses_0.5_MCAR.csv',\n",
        "         'houses_0.5_MNAR.csv'\n",
        "]\n",
        "url = 'https://raw.githubusercontent.com/PaoloMissier/CSC3831-2021-22/main/IMPUTATION/TARGET-DATASETS/CORRUPTED/HOUSES/'"
      ],
      "metadata": {
        "id": "Wc13COUGarpj"
      },
      "execution_count": null,
      "outputs": []
    },
    {
      "cell_type": "code",
      "source": [
        "dfs = []\n",
        "\n",
        "for file in files:\n",
        "  dfs.append(pd.read_csv(url + file))\n",
        "print (len(dfs))"
      ],
      "metadata": {
        "colab": {
          "base_uri": "https://localhost:8080/"
        },
        "id": "zZ-X9xJ7bfwC",
        "outputId": "f847f0b9-30c0-4408-9526-426b2561f993"
      },
      "execution_count": null,
      "outputs": [
        {
          "output_type": "stream",
          "name": "stdout",
          "text": [
            "9\n"
          ]
        }
      ]
    },
    {
      "cell_type": "code",
      "source": [
        "for df in dfs:\n",
        "  print(df.shape)\n",
        "  print(df.columns)"
      ],
      "metadata": {
        "colab": {
          "base_uri": "https://localhost:8080/"
        },
        "id": "uU0TVMXSdBKE",
        "outputId": "ecdd9099-154c-4df2-c96a-1fd37847f132"
      },
      "execution_count": null,
      "outputs": [
        {
          "output_type": "stream",
          "name": "stdout",
          "text": [
            "(20640, 9)\n",
            "Index(['median_house_value', 'median_income', 'housing_median_age',\n",
            "       'total_rooms', 'total_bedrooms', 'population', 'households', 'latitude',\n",
            "       'longitude'],\n",
            "      dtype='object')\n",
            "(20640, 10)\n",
            "Index(['Unnamed: 0', 'median_house_value', 'median_income',\n",
            "       'housing_median_age', 'total_rooms', 'total_bedrooms', 'population',\n",
            "       'households', 'latitude', 'longitude'],\n",
            "      dtype='object')\n",
            "(20640, 10)\n",
            "Index(['Unnamed: 0', 'median_house_value', 'median_income',\n",
            "       'housing_median_age', 'total_rooms', 'total_bedrooms', 'population',\n",
            "       'households', 'latitude', 'longitude'],\n",
            "      dtype='object')\n",
            "(20640, 10)\n",
            "Index(['Unnamed: 0', 'median_house_value', 'median_income',\n",
            "       'housing_median_age', 'total_rooms', 'total_bedrooms', 'population',\n",
            "       'households', 'latitude', 'longitude'],\n",
            "      dtype='object')\n",
            "(20640, 10)\n",
            "Index(['Unnamed: 0', 'median_house_value', 'median_income',\n",
            "       'housing_median_age', 'total_rooms', 'total_bedrooms', 'population',\n",
            "       'households', 'latitude', 'longitude'],\n",
            "      dtype='object')\n",
            "(20640, 10)\n",
            "Index(['Unnamed: 0', 'median_house_value', 'median_income',\n",
            "       'housing_median_age', 'total_rooms', 'total_bedrooms', 'population',\n",
            "       'households', 'latitude', 'longitude'],\n",
            "      dtype='object')\n",
            "(20640, 10)\n",
            "Index(['Unnamed: 0', 'median_house_value', 'median_income',\n",
            "       'housing_median_age', 'total_rooms', 'total_bedrooms', 'population',\n",
            "       'households', 'latitude', 'longitude'],\n",
            "      dtype='object')\n",
            "(20640, 10)\n",
            "Index(['Unnamed: 0', 'median_house_value', 'median_income',\n",
            "       'housing_median_age', 'total_rooms', 'total_bedrooms', 'population',\n",
            "       'households', 'latitude', 'longitude'],\n",
            "      dtype='object')\n",
            "(20640, 10)\n",
            "Index(['Unnamed: 0', 'median_house_value', 'median_income',\n",
            "       'housing_median_age', 'total_rooms', 'total_bedrooms', 'population',\n",
            "       'households', 'latitude', 'longitude'],\n",
            "      dtype='object')\n"
          ]
        }
      ]
    },
    {
      "cell_type": "code",
      "source": [
        "dfs[0]"
      ],
      "metadata": {
        "colab": {
          "base_uri": "https://localhost:8080/",
          "height": 424
        },
        "id": "fEhXMMSWfSvP",
        "outputId": "5dbb8e09-3686-445f-c78b-56cee54b55e0"
      },
      "execution_count": null,
      "outputs": [
        {
          "output_type": "execute_result",
          "data": {
            "text/html": [
              "<div>\n",
              "<style scoped>\n",
              "    .dataframe tbody tr th:only-of-type {\n",
              "        vertical-align: middle;\n",
              "    }\n",
              "\n",
              "    .dataframe tbody tr th {\n",
              "        vertical-align: top;\n",
              "    }\n",
              "\n",
              "    .dataframe thead th {\n",
              "        text-align: right;\n",
              "    }\n",
              "</style>\n",
              "<table border=\"1\" class=\"dataframe\">\n",
              "  <thead>\n",
              "    <tr style=\"text-align: right;\">\n",
              "      <th></th>\n",
              "      <th>Unnamed: 0</th>\n",
              "      <th>median_house_value</th>\n",
              "      <th>median_income</th>\n",
              "      <th>housing_median_age</th>\n",
              "      <th>total_rooms</th>\n",
              "      <th>total_bedrooms</th>\n",
              "      <th>population</th>\n",
              "      <th>households</th>\n",
              "      <th>latitude</th>\n",
              "      <th>longitude</th>\n",
              "    </tr>\n",
              "  </thead>\n",
              "  <tbody>\n",
              "    <tr>\n",
              "      <th>0</th>\n",
              "      <td>0</td>\n",
              "      <td>452600.0</td>\n",
              "      <td>8.3252</td>\n",
              "      <td>41.0</td>\n",
              "      <td>880.0</td>\n",
              "      <td>129.0</td>\n",
              "      <td>322.0</td>\n",
              "      <td>126.0</td>\n",
              "      <td>37.88</td>\n",
              "      <td>-122.23</td>\n",
              "    </tr>\n",
              "    <tr>\n",
              "      <th>1</th>\n",
              "      <td>1</td>\n",
              "      <td>358500.0</td>\n",
              "      <td>8.3014</td>\n",
              "      <td>21.0</td>\n",
              "      <td>7099.0</td>\n",
              "      <td>1106.0</td>\n",
              "      <td>2401.0</td>\n",
              "      <td>1138.0</td>\n",
              "      <td>37.86</td>\n",
              "      <td>-122.22</td>\n",
              "    </tr>\n",
              "    <tr>\n",
              "      <th>2</th>\n",
              "      <td>2</td>\n",
              "      <td>352100.0</td>\n",
              "      <td>7.2574</td>\n",
              "      <td>52.0</td>\n",
              "      <td>1467.0</td>\n",
              "      <td>190.0</td>\n",
              "      <td>496.0</td>\n",
              "      <td>177.0</td>\n",
              "      <td>37.85</td>\n",
              "      <td>-122.24</td>\n",
              "    </tr>\n",
              "    <tr>\n",
              "      <th>3</th>\n",
              "      <td>3</td>\n",
              "      <td>341300.0</td>\n",
              "      <td>5.6431</td>\n",
              "      <td>52.0</td>\n",
              "      <td>1274.0</td>\n",
              "      <td>235.0</td>\n",
              "      <td>558.0</td>\n",
              "      <td>219.0</td>\n",
              "      <td>37.85</td>\n",
              "      <td>-122.25</td>\n",
              "    </tr>\n",
              "    <tr>\n",
              "      <th>4</th>\n",
              "      <td>4</td>\n",
              "      <td>342200.0</td>\n",
              "      <td>3.8462</td>\n",
              "      <td>52.0</td>\n",
              "      <td>1627.0</td>\n",
              "      <td>280.0</td>\n",
              "      <td>565.0</td>\n",
              "      <td>259.0</td>\n",
              "      <td>37.85</td>\n",
              "      <td>-122.25</td>\n",
              "    </tr>\n",
              "    <tr>\n",
              "      <th>...</th>\n",
              "      <td>...</td>\n",
              "      <td>...</td>\n",
              "      <td>...</td>\n",
              "      <td>...</td>\n",
              "      <td>...</td>\n",
              "      <td>...</td>\n",
              "      <td>...</td>\n",
              "      <td>...</td>\n",
              "      <td>...</td>\n",
              "      <td>...</td>\n",
              "    </tr>\n",
              "    <tr>\n",
              "      <th>20635</th>\n",
              "      <td>20635</td>\n",
              "      <td>78100.0</td>\n",
              "      <td>1.5603</td>\n",
              "      <td>25.0</td>\n",
              "      <td>1665.0</td>\n",
              "      <td>374.0</td>\n",
              "      <td>845.0</td>\n",
              "      <td>330.0</td>\n",
              "      <td>39.48</td>\n",
              "      <td>-121.09</td>\n",
              "    </tr>\n",
              "    <tr>\n",
              "      <th>20636</th>\n",
              "      <td>20636</td>\n",
              "      <td>77100.0</td>\n",
              "      <td>2.5568</td>\n",
              "      <td>18.0</td>\n",
              "      <td>697.0</td>\n",
              "      <td>150.0</td>\n",
              "      <td>356.0</td>\n",
              "      <td>114.0</td>\n",
              "      <td>39.49</td>\n",
              "      <td>-121.21</td>\n",
              "    </tr>\n",
              "    <tr>\n",
              "      <th>20637</th>\n",
              "      <td>20637</td>\n",
              "      <td>92300.0</td>\n",
              "      <td>1.7000</td>\n",
              "      <td>17.0</td>\n",
              "      <td>2254.0</td>\n",
              "      <td>485.0</td>\n",
              "      <td>1007.0</td>\n",
              "      <td>433.0</td>\n",
              "      <td>39.43</td>\n",
              "      <td>-121.22</td>\n",
              "    </tr>\n",
              "    <tr>\n",
              "      <th>20638</th>\n",
              "      <td>20638</td>\n",
              "      <td>84700.0</td>\n",
              "      <td>1.8672</td>\n",
              "      <td>18.0</td>\n",
              "      <td>1860.0</td>\n",
              "      <td>409.0</td>\n",
              "      <td>741.0</td>\n",
              "      <td>349.0</td>\n",
              "      <td>39.43</td>\n",
              "      <td>-121.32</td>\n",
              "    </tr>\n",
              "    <tr>\n",
              "      <th>20639</th>\n",
              "      <td>20639</td>\n",
              "      <td>89400.0</td>\n",
              "      <td>2.3886</td>\n",
              "      <td>16.0</td>\n",
              "      <td>2785.0</td>\n",
              "      <td>616.0</td>\n",
              "      <td>1387.0</td>\n",
              "      <td>530.0</td>\n",
              "      <td>39.37</td>\n",
              "      <td>-121.24</td>\n",
              "    </tr>\n",
              "  </tbody>\n",
              "</table>\n",
              "<p>20640 rows × 10 columns</p>\n",
              "</div>"
            ],
            "text/plain": [
              "       Unnamed: 0  median_house_value  median_income  housing_median_age  \\\n",
              "0               0            452600.0         8.3252                41.0   \n",
              "1               1            358500.0         8.3014                21.0   \n",
              "2               2            352100.0         7.2574                52.0   \n",
              "3               3            341300.0         5.6431                52.0   \n",
              "4               4            342200.0         3.8462                52.0   \n",
              "...           ...                 ...            ...                 ...   \n",
              "20635       20635             78100.0         1.5603                25.0   \n",
              "20636       20636             77100.0         2.5568                18.0   \n",
              "20637       20637             92300.0         1.7000                17.0   \n",
              "20638       20638             84700.0         1.8672                18.0   \n",
              "20639       20639             89400.0         2.3886                16.0   \n",
              "\n",
              "       total_rooms  total_bedrooms  population  households  latitude  \\\n",
              "0            880.0           129.0       322.0       126.0     37.88   \n",
              "1           7099.0          1106.0      2401.0      1138.0     37.86   \n",
              "2           1467.0           190.0       496.0       177.0     37.85   \n",
              "3           1274.0           235.0       558.0       219.0     37.85   \n",
              "4           1627.0           280.0       565.0       259.0     37.85   \n",
              "...            ...             ...         ...         ...       ...   \n",
              "20635       1665.0           374.0       845.0       330.0     39.48   \n",
              "20636        697.0           150.0       356.0       114.0     39.49   \n",
              "20637       2254.0           485.0      1007.0       433.0     39.43   \n",
              "20638       1860.0           409.0       741.0       349.0     39.43   \n",
              "20639       2785.0           616.0      1387.0       530.0     39.37   \n",
              "\n",
              "       longitude  \n",
              "0        -122.23  \n",
              "1        -122.22  \n",
              "2        -122.24  \n",
              "3        -122.25  \n",
              "4        -122.25  \n",
              "...          ...  \n",
              "20635    -121.09  \n",
              "20636    -121.21  \n",
              "20637    -121.22  \n",
              "20638    -121.32  \n",
              "20639    -121.24  \n",
              "\n",
              "[20640 rows x 10 columns]"
            ]
          },
          "metadata": {},
          "execution_count": 28
        }
      ]
    },
    {
      "cell_type": "markdown",
      "source": [
        "Only keep the columns on which we apply regression"
      ],
      "metadata": {
        "id": "D4WEnb0De58E"
      }
    },
    {
      "cell_type": "code",
      "source": [
        "index = 0\n",
        "for df in dfs:\n",
        "  dfs[index] = df.drop(['Unnamed: 0'], axis='columns')"
      ],
      "metadata": {
        "id": "YQf1DOvqdCTl"
      },
      "execution_count": null,
      "outputs": []
    },
    {
      "cell_type": "markdown",
      "source": [
        ""
      ],
      "metadata": {
        "id": "qhVdv4EUfgrg"
      }
    },
    {
      "cell_type": "markdown",
      "source": [
        "Checking how many isnull values there are in each dataset"
      ],
      "metadata": {
        "id": "TAEzw8eGf3TN"
      }
    },
    {
      "cell_type": "code",
      "source": [
        "index=0\n",
        "for df in dfs:\n",
        "  print(index)\n",
        "  print(df.isnull().sum())\n",
        "  index+=1"
      ],
      "metadata": {
        "colab": {
          "base_uri": "https://localhost:8080/"
        },
        "id": "AVyVc-tyfyjc",
        "outputId": "0126defb-324d-492e-e4eb-94cc8f66856b"
      },
      "execution_count": null,
      "outputs": [
        {
          "output_type": "stream",
          "name": "stdout",
          "text": [
            "0\n",
            "median_house_value        0\n",
            "median_income         10320\n",
            "housing_median_age    10320\n",
            "total_rooms               0\n",
            "total_bedrooms            0\n",
            "population            10320\n",
            "households                0\n",
            "latitude                  0\n",
            "longitude                 0\n",
            "dtype: int64\n",
            "1\n",
            "Unnamed: 0              0\n",
            "median_house_value      0\n",
            "median_income         206\n",
            "housing_median_age    206\n",
            "total_rooms             0\n",
            "total_bedrooms          0\n",
            "population            206\n",
            "households              0\n",
            "latitude                0\n",
            "longitude               0\n",
            "dtype: int64\n",
            "2\n",
            "Unnamed: 0              0\n",
            "median_house_value      0\n",
            "median_income         206\n",
            "housing_median_age    206\n",
            "total_rooms             0\n",
            "total_bedrooms          0\n",
            "population            206\n",
            "households              0\n",
            "latitude                0\n",
            "longitude               0\n",
            "dtype: int64\n",
            "3\n",
            "Unnamed: 0               0\n",
            "median_house_value       0\n",
            "median_income         2064\n",
            "housing_median_age    2064\n",
            "total_rooms              0\n",
            "total_bedrooms           0\n",
            "population            2064\n",
            "households               0\n",
            "latitude                 0\n",
            "longitude                0\n",
            "dtype: int64\n",
            "4\n",
            "Unnamed: 0               0\n",
            "median_house_value       0\n",
            "median_income         2064\n",
            "housing_median_age    2064\n",
            "total_rooms              0\n",
            "total_bedrooms           0\n",
            "population            2064\n",
            "households               0\n",
            "latitude                 0\n",
            "longitude                0\n",
            "dtype: int64\n",
            "5\n",
            "Unnamed: 0               0\n",
            "median_house_value       0\n",
            "median_income         2064\n",
            "housing_median_age    2064\n",
            "total_rooms              0\n",
            "total_bedrooms           0\n",
            "population            2064\n",
            "households               0\n",
            "latitude                 0\n",
            "longitude                0\n",
            "dtype: int64\n",
            "6\n",
            "Unnamed: 0                0\n",
            "median_house_value        0\n",
            "median_income         10320\n",
            "housing_median_age    10320\n",
            "total_rooms               0\n",
            "total_bedrooms            0\n",
            "population            10320\n",
            "households                0\n",
            "latitude                  0\n",
            "longitude                 0\n",
            "dtype: int64\n",
            "7\n",
            "Unnamed: 0                0\n",
            "median_house_value        0\n",
            "median_income         10320\n",
            "housing_median_age    10320\n",
            "total_rooms               0\n",
            "total_bedrooms            0\n",
            "population            10320\n",
            "households                0\n",
            "latitude                  0\n",
            "longitude                 0\n",
            "dtype: int64\n",
            "8\n",
            "Unnamed: 0                0\n",
            "median_house_value        0\n",
            "median_income         10320\n",
            "housing_median_age    10320\n",
            "total_rooms               0\n",
            "total_bedrooms            0\n",
            "population            10320\n",
            "households                0\n",
            "latitude                  0\n",
            "longitude                 0\n",
            "dtype: int64\n"
          ]
        }
      ]
    },
    {
      "cell_type": "markdown",
      "source": [
        "Only `median_income`, `housing_median_age` and `population` columns have missing values."
      ],
      "metadata": {
        "id": "d8r96rKNgIYO"
      }
    },
    {
      "cell_type": "code",
      "source": [
        "%matplotlib inline\n",
        "msno.matrix(dfs[0].sample(500, random_state=32))"
      ],
      "metadata": {
        "colab": {
          "base_uri": "https://localhost:8080/",
          "height": 761
        },
        "id": "UyJpEcuEfqSf",
        "outputId": "7995173d-e134-4b43-f29f-1515e6595f7c"
      },
      "execution_count": null,
      "outputs": [
        {
          "output_type": "execute_result",
          "data": {
            "text/plain": [
              "<matplotlib.axes._subplots.AxesSubplot at 0x7f1d3e30f190>"
            ]
          },
          "metadata": {},
          "execution_count": 31
        },
        {
          "output_type": "display_data",
          "data": {
            "image/png": "[encoded data removed]",
            "text/plain": [
              "<Figure size 1800x720 with 2 Axes>"
            ]
          },
          "metadata": {
            "needs_background": "light"
          }
        }
      ]
    },
    {
      "cell_type": "markdown",
      "source": [
        "First, we want to estimate the score on the original data:"
      ],
      "metadata": {
        "id": "XapCaIMbnPs6"
      }
    },
    {
      "cell_type": "code",
      "source": [
        "original.columns"
      ],
      "metadata": {
        "colab": {
          "base_uri": "https://localhost:8080/"
        },
        "id": "3rBPgUiXyn4r",
        "outputId": "7e7e4d81-8bc1-43e1-fe9e-0a7c5615b17e"
      },
      "execution_count": 47,
      "outputs": [
        {
          "output_type": "execute_result",
          "data": {
            "text/plain": [
              "Index(['median_house_value', 'median_income', 'housing_median_age',\n",
              "       'total_rooms', 'total_bedrooms', 'population', 'households', 'latitude',\n",
              "       'longitude'],\n",
              "      dtype='object')"
            ]
          },
          "metadata": {},
          "execution_count": 47
        }
      ]
    },
    {
      "cell_type": "code",
      "source": [
        "original['median_house_value']"
      ],
      "metadata": {
        "colab": {
          "base_uri": "https://localhost:8080/"
        },
        "id": "ePbySUlzy-6g",
        "outputId": "721a3206-5a4d-41a8-8467-0680705aad05"
      },
      "execution_count": 51,
      "outputs": [
        {
          "output_type": "execute_result",
          "data": {
            "text/plain": [
              "0        452600.0\n",
              "1        358500.0\n",
              "2        352100.0\n",
              "3        341300.0\n",
              "4        342200.0\n",
              "           ...   \n",
              "20635     78100.0\n",
              "20636     77100.0\n",
              "20637     92300.0\n",
              "20638     84700.0\n",
              "20639     89400.0\n",
              "Name: median_house_value, Length: 20640, dtype: float64"
            ]
          },
          "metadata": {},
          "execution_count": 51
        }
      ]
    },
    {
      "cell_type": "code",
      "source": [
        "x_original = original[['median_income', 'housing_median_age', 'total_rooms', \n",
        "                       'total_bedrooms', 'population', 'households', \n",
        "                       'latitude', 'longitude']]\n",
        "y_original = original['median_house_value'].values"
      ],
      "metadata": {
        "id": "WK-VzK0Dn04x"
      },
      "execution_count": 56,
      "outputs": []
    },
    {
      "cell_type": "code",
      "source": [
        "def get_full_score(X_full, y_full):\n",
        "    full_scores = cross_val_score(regressor, X_full, y_full,\n",
        "                                  scoring='neg_mean_squared_error',\n",
        "                                  cv=N_SPLITS)\n",
        "    return full_scores.mean(), full_scores.std()\n",
        "\n",
        "\n",
        "mses_c, stds_c  = get_full_score(X_california,y_california)\n",
        "mses_d, stds_d = get_full_score(X_diabetes, y_diabetes)\n",
        "\n",
        "mses_california[0] = mses_c\n",
        "stds_california[0] = stds_c\n",
        "mses_diabetes[0] = mses_d\n",
        "stds_diabetes[0] = stds_d\n",
        "\n",
        "\n",
        "## report scores\n",
        "print(mses_c, stds_c)\n",
        "print(mses_d, stds_d)"
      ],
      "metadata": {
        "colab": {
          "base_uri": "https://localhost:8080/",
          "height": 236
        },
        "id": "4C-fgFhVnL_t",
        "outputId": "546c1264-27f7-40a5-bcb9-7a3974011969"
      },
      "execution_count": null,
      "outputs": [
        {
          "output_type": "error",
          "ename": "NameError",
          "evalue": "ignored",
          "traceback": [
            "\u001b[0;31m---------------------------------------------------------------------------\u001b[0m",
            "\u001b[0;31mNameError\u001b[0m                                 Traceback (most recent call last)",
            "\u001b[0;32m<ipython-input-40-1192313dbb22>\u001b[0m in \u001b[0;36m<module>\u001b[0;34m()\u001b[0m\n\u001b[1;32m      6\u001b[0m \u001b[0;34m\u001b[0m\u001b[0m\n\u001b[1;32m      7\u001b[0m \u001b[0;34m\u001b[0m\u001b[0m\n\u001b[0;32m----> 8\u001b[0;31m \u001b[0mmses_c\u001b[0m\u001b[0;34m,\u001b[0m \u001b[0mstds_c\u001b[0m  \u001b[0;34m=\u001b[0m \u001b[0mget_full_score\u001b[0m\u001b[0;34m(\u001b[0m\u001b[0mX_california\u001b[0m\u001b[0;34m,\u001b[0m\u001b[0my_california\u001b[0m\u001b[0;34m)\u001b[0m\u001b[0;34m\u001b[0m\u001b[0;34m\u001b[0m\u001b[0m\n\u001b[0m\u001b[1;32m      9\u001b[0m \u001b[0mmses_d\u001b[0m\u001b[0;34m,\u001b[0m \u001b[0mstds_d\u001b[0m \u001b[0;34m=\u001b[0m \u001b[0mget_full_score\u001b[0m\u001b[0;34m(\u001b[0m\u001b[0mX_diabetes\u001b[0m\u001b[0;34m,\u001b[0m \u001b[0my_diabetes\u001b[0m\u001b[0;34m)\u001b[0m\u001b[0;34m\u001b[0m\u001b[0;34m\u001b[0m\u001b[0m\n\u001b[1;32m     10\u001b[0m \u001b[0;34m\u001b[0m\u001b[0m\n",
            "\u001b[0;31mNameError\u001b[0m: name 'X_california' is not defined"
          ]
        }
      ]
    },
    {
      "cell_type": "code",
      "source": [
        ""
      ],
      "metadata": {
        "id": "Qfe8tP3HnL6c"
      },
      "execution_count": null,
      "outputs": []
    }
  ]
}
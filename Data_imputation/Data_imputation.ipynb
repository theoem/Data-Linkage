{
  "nbformat": 4,
  "nbformat_minor": 0,
  "metadata": {
    "colab": {
      "name": "Data imputation.ipynb",
      "provenance": [],
      "authorship_tag": "ABX9TyNYNlSGKRNKakUNsMguaoiJ",
      "include_colab_link": true
    },
    "kernelspec": {
      "name": "python3",
      "display_name": "Python 3"
    },
    "language_info": {
      "name": "python"
    }
  },
  "cells": [
    {
      "cell_type": "markdown",
      "metadata": {
        "id": "view-in-github",
        "colab_type": "text"
      },
      "source": [
        "<a href=\"https://colab.research.google.com/github/theoem/Data-Linkage/blob/master/Data_imputation/Data_imputation.ipynb\" target=\"_parent\"><img src=\"https://colab.research.google.com/assets/colab-badge.svg\" alt=\"Open In Colab\"/></a>"
      ]
    },
    {
      "cell_type": "markdown",
      "source": [
        "Univairte, multivarite, mice"
      ],
      "metadata": {
        "id": "bJYOVbfJTXie"
      }
    },
    {
      "cell_type": "code",
      "source": [
        "import missingno as msno ## specific python lib to analyse missingness\n",
        "import pandas as pd\n",
        "import numpy as np\n",
        "from sklearn.ensemble import RandomForestRegressor\n",
        "from sklearn.impute import KNNImputer\n",
        "from sklearn.model_selection import cross_val_score\n",
        "from sklearn.pipeline import make_pipeline\n",
        "\n",
        "pd.set_option('max_columns', None)"
      ],
      "metadata": {
        "id": "ORGBYE4DaPtO"
      },
      "execution_count": 85,
      "outputs": []
    },
    {
      "cell_type": "code",
      "source": [
        "original = pd.read_csv('https://raw.githubusercontent.com/PaoloMissier/CSC3831-2021-22/main/IMPUTATION/TARGET-DATASETS/ORIGINAL/houses.csv')"
      ],
      "metadata": {
        "id": "hwjJUIa6mOkJ"
      },
      "execution_count": 86,
      "outputs": []
    },
    {
      "cell_type": "code",
      "source": [
        "files = [\n",
        "         'houses_0.01_MAR.csv',\n",
        "         'houses_0.01_MCAR.csv',\n",
        "         'houses_0.01_MNAR.csv',\n",
        "         'houses_0.1_MAR.csv',\n",
        "         'houses_0.1_MCAR.csv',\n",
        "         'houses_0.1_MNAR.csv',\n",
        "         'houses_0.5_MAR.csv',\n",
        "         'houses_0.5_MCAR.csv',\n",
        "         'houses_0.5_MNAR.csv'\n",
        "]\n",
        "url = 'https://raw.githubusercontent.com/PaoloMissier/CSC3831-2021-22/main/IMPUTATION/TARGET-DATASETS/CORRUPTED/HOUSES/'"
      ],
      "metadata": {
        "id": "Wc13COUGarpj"
      },
      "execution_count": 87,
      "outputs": []
    },
    {
      "cell_type": "code",
      "source": [
        "dfs = []\n",
        "\n",
        "for file in files:\n",
        "  dfs.append(pd.read_csv(url + file))\n",
        "print (len(dfs))"
      ],
      "metadata": {
        "colab": {
          "base_uri": "https://localhost:8080/"
        },
        "id": "zZ-X9xJ7bfwC",
        "outputId": "b8939a67-e4e7-49c3-c63c-69e99d48b585"
      },
      "execution_count": 88,
      "outputs": [
        {
          "output_type": "stream",
          "name": "stdout",
          "text": [
            "9\n"
          ]
        }
      ]
    },
    {
      "cell_type": "code",
      "source": [
        "for df in dfs:\n",
        "  print(df.shape)\n",
        "  print(df.columns)"
      ],
      "metadata": {
        "colab": {
          "base_uri": "https://localhost:8080/"
        },
        "id": "uU0TVMXSdBKE",
        "outputId": "16397b7a-29ca-43d5-e760-a5b1c0632da9"
      },
      "execution_count": 89,
      "outputs": [
        {
          "output_type": "stream",
          "name": "stdout",
          "text": [
            "(20640, 10)\n",
            "Index(['Unnamed: 0', 'median_house_value', 'median_income',\n",
            "       'housing_median_age', 'total_rooms', 'total_bedrooms', 'population',\n",
            "       'households', 'latitude', 'longitude'],\n",
            "      dtype='object')\n",
            "(20640, 10)\n",
            "Index(['Unnamed: 0', 'median_house_value', 'median_income',\n",
            "       'housing_median_age', 'total_rooms', 'total_bedrooms', 'population',\n",
            "       'households', 'latitude', 'longitude'],\n",
            "      dtype='object')\n",
            "(20640, 10)\n",
            "Index(['Unnamed: 0', 'median_house_value', 'median_income',\n",
            "       'housing_median_age', 'total_rooms', 'total_bedrooms', 'population',\n",
            "       'households', 'latitude', 'longitude'],\n",
            "      dtype='object')\n",
            "(20640, 10)\n",
            "Index(['Unnamed: 0', 'median_house_value', 'median_income',\n",
            "       'housing_median_age', 'total_rooms', 'total_bedrooms', 'population',\n",
            "       'households', 'latitude', 'longitude'],\n",
            "      dtype='object')\n",
            "(20640, 10)\n",
            "Index(['Unnamed: 0', 'median_house_value', 'median_income',\n",
            "       'housing_median_age', 'total_rooms', 'total_bedrooms', 'population',\n",
            "       'households', 'latitude', 'longitude'],\n",
            "      dtype='object')\n",
            "(20640, 10)\n",
            "Index(['Unnamed: 0', 'median_house_value', 'median_income',\n",
            "       'housing_median_age', 'total_rooms', 'total_bedrooms', 'population',\n",
            "       'households', 'latitude', 'longitude'],\n",
            "      dtype='object')\n",
            "(20640, 10)\n",
            "Index(['Unnamed: 0', 'median_house_value', 'median_income',\n",
            "       'housing_median_age', 'total_rooms', 'total_bedrooms', 'population',\n",
            "       'households', 'latitude', 'longitude'],\n",
            "      dtype='object')\n",
            "(20640, 10)\n",
            "Index(['Unnamed: 0', 'median_house_value', 'median_income',\n",
            "       'housing_median_age', 'total_rooms', 'total_bedrooms', 'population',\n",
            "       'households', 'latitude', 'longitude'],\n",
            "      dtype='object')\n",
            "(20640, 10)\n",
            "Index(['Unnamed: 0', 'median_house_value', 'median_income',\n",
            "       'housing_median_age', 'total_rooms', 'total_bedrooms', 'population',\n",
            "       'households', 'latitude', 'longitude'],\n",
            "      dtype='object')\n"
          ]
        }
      ]
    },
    {
      "cell_type": "code",
      "source": [
        "dfs[0]"
      ],
      "metadata": {
        "colab": {
          "base_uri": "https://localhost:8080/",
          "height": 424
        },
        "id": "fEhXMMSWfSvP",
        "outputId": "d3f5b575-d421-4ea9-bfe2-581c46158c64"
      },
      "execution_count": 90,
      "outputs": [
        {
          "output_type": "execute_result",
          "data": {
            "text/html": [
              "<div>\n",
              "<style scoped>\n",
              "    .dataframe tbody tr th:only-of-type {\n",
              "        vertical-align: middle;\n",
              "    }\n",
              "\n",
              "    .dataframe tbody tr th {\n",
              "        vertical-align: top;\n",
              "    }\n",
              "\n",
              "    .dataframe thead th {\n",
              "        text-align: right;\n",
              "    }\n",
              "</style>\n",
              "<table border=\"1\" class=\"dataframe\">\n",
              "  <thead>\n",
              "    <tr style=\"text-align: right;\">\n",
              "      <th></th>\n",
              "      <th>Unnamed: 0</th>\n",
              "      <th>median_house_value</th>\n",
              "      <th>median_income</th>\n",
              "      <th>housing_median_age</th>\n",
              "      <th>total_rooms</th>\n",
              "      <th>total_bedrooms</th>\n",
              "      <th>population</th>\n",
              "      <th>households</th>\n",
              "      <th>latitude</th>\n",
              "      <th>longitude</th>\n",
              "    </tr>\n",
              "  </thead>\n",
              "  <tbody>\n",
              "    <tr>\n",
              "      <th>0</th>\n",
              "      <td>0</td>\n",
              "      <td>452600.0</td>\n",
              "      <td>8.3252</td>\n",
              "      <td>41.0</td>\n",
              "      <td>880.0</td>\n",
              "      <td>129.0</td>\n",
              "      <td>322.0</td>\n",
              "      <td>126.0</td>\n",
              "      <td>37.88</td>\n",
              "      <td>-122.23</td>\n",
              "    </tr>\n",
              "    <tr>\n",
              "      <th>1</th>\n",
              "      <td>1</td>\n",
              "      <td>358500.0</td>\n",
              "      <td>8.3014</td>\n",
              "      <td>21.0</td>\n",
              "      <td>7099.0</td>\n",
              "      <td>1106.0</td>\n",
              "      <td>2401.0</td>\n",
              "      <td>1138.0</td>\n",
              "      <td>37.86</td>\n",
              "      <td>-122.22</td>\n",
              "    </tr>\n",
              "    <tr>\n",
              "      <th>2</th>\n",
              "      <td>2</td>\n",
              "      <td>352100.0</td>\n",
              "      <td>7.2574</td>\n",
              "      <td>52.0</td>\n",
              "      <td>1467.0</td>\n",
              "      <td>190.0</td>\n",
              "      <td>496.0</td>\n",
              "      <td>177.0</td>\n",
              "      <td>37.85</td>\n",
              "      <td>-122.24</td>\n",
              "    </tr>\n",
              "    <tr>\n",
              "      <th>3</th>\n",
              "      <td>3</td>\n",
              "      <td>341300.0</td>\n",
              "      <td>5.6431</td>\n",
              "      <td>52.0</td>\n",
              "      <td>1274.0</td>\n",
              "      <td>235.0</td>\n",
              "      <td>558.0</td>\n",
              "      <td>219.0</td>\n",
              "      <td>37.85</td>\n",
              "      <td>-122.25</td>\n",
              "    </tr>\n",
              "    <tr>\n",
              "      <th>4</th>\n",
              "      <td>4</td>\n",
              "      <td>342200.0</td>\n",
              "      <td>3.8462</td>\n",
              "      <td>52.0</td>\n",
              "      <td>1627.0</td>\n",
              "      <td>280.0</td>\n",
              "      <td>565.0</td>\n",
              "      <td>259.0</td>\n",
              "      <td>37.85</td>\n",
              "      <td>-122.25</td>\n",
              "    </tr>\n",
              "    <tr>\n",
              "      <th>...</th>\n",
              "      <td>...</td>\n",
              "      <td>...</td>\n",
              "      <td>...</td>\n",
              "      <td>...</td>\n",
              "      <td>...</td>\n",
              "      <td>...</td>\n",
              "      <td>...</td>\n",
              "      <td>...</td>\n",
              "      <td>...</td>\n",
              "      <td>...</td>\n",
              "    </tr>\n",
              "    <tr>\n",
              "      <th>20635</th>\n",
              "      <td>20635</td>\n",
              "      <td>78100.0</td>\n",
              "      <td>1.5603</td>\n",
              "      <td>25.0</td>\n",
              "      <td>1665.0</td>\n",
              "      <td>374.0</td>\n",
              "      <td>845.0</td>\n",
              "      <td>330.0</td>\n",
              "      <td>39.48</td>\n",
              "      <td>-121.09</td>\n",
              "    </tr>\n",
              "    <tr>\n",
              "      <th>20636</th>\n",
              "      <td>20636</td>\n",
              "      <td>77100.0</td>\n",
              "      <td>2.5568</td>\n",
              "      <td>18.0</td>\n",
              "      <td>697.0</td>\n",
              "      <td>150.0</td>\n",
              "      <td>356.0</td>\n",
              "      <td>114.0</td>\n",
              "      <td>39.49</td>\n",
              "      <td>-121.21</td>\n",
              "    </tr>\n",
              "    <tr>\n",
              "      <th>20637</th>\n",
              "      <td>20637</td>\n",
              "      <td>92300.0</td>\n",
              "      <td>1.7000</td>\n",
              "      <td>17.0</td>\n",
              "      <td>2254.0</td>\n",
              "      <td>485.0</td>\n",
              "      <td>1007.0</td>\n",
              "      <td>433.0</td>\n",
              "      <td>39.43</td>\n",
              "      <td>-121.22</td>\n",
              "    </tr>\n",
              "    <tr>\n",
              "      <th>20638</th>\n",
              "      <td>20638</td>\n",
              "      <td>84700.0</td>\n",
              "      <td>1.8672</td>\n",
              "      <td>18.0</td>\n",
              "      <td>1860.0</td>\n",
              "      <td>409.0</td>\n",
              "      <td>741.0</td>\n",
              "      <td>349.0</td>\n",
              "      <td>39.43</td>\n",
              "      <td>-121.32</td>\n",
              "    </tr>\n",
              "    <tr>\n",
              "      <th>20639</th>\n",
              "      <td>20639</td>\n",
              "      <td>89400.0</td>\n",
              "      <td>2.3886</td>\n",
              "      <td>16.0</td>\n",
              "      <td>2785.0</td>\n",
              "      <td>616.0</td>\n",
              "      <td>1387.0</td>\n",
              "      <td>530.0</td>\n",
              "      <td>39.37</td>\n",
              "      <td>-121.24</td>\n",
              "    </tr>\n",
              "  </tbody>\n",
              "</table>\n",
              "<p>20640 rows × 10 columns</p>\n",
              "</div>"
            ],
            "text/plain": [
              "       Unnamed: 0  median_house_value  median_income  housing_median_age  \\\n",
              "0               0            452600.0         8.3252                41.0   \n",
              "1               1            358500.0         8.3014                21.0   \n",
              "2               2            352100.0         7.2574                52.0   \n",
              "3               3            341300.0         5.6431                52.0   \n",
              "4               4            342200.0         3.8462                52.0   \n",
              "...           ...                 ...            ...                 ...   \n",
              "20635       20635             78100.0         1.5603                25.0   \n",
              "20636       20636             77100.0         2.5568                18.0   \n",
              "20637       20637             92300.0         1.7000                17.0   \n",
              "20638       20638             84700.0         1.8672                18.0   \n",
              "20639       20639             89400.0         2.3886                16.0   \n",
              "\n",
              "       total_rooms  total_bedrooms  population  households  latitude  \\\n",
              "0            880.0           129.0       322.0       126.0     37.88   \n",
              "1           7099.0          1106.0      2401.0      1138.0     37.86   \n",
              "2           1467.0           190.0       496.0       177.0     37.85   \n",
              "3           1274.0           235.0       558.0       219.0     37.85   \n",
              "4           1627.0           280.0       565.0       259.0     37.85   \n",
              "...            ...             ...         ...         ...       ...   \n",
              "20635       1665.0           374.0       845.0       330.0     39.48   \n",
              "20636        697.0           150.0       356.0       114.0     39.49   \n",
              "20637       2254.0           485.0      1007.0       433.0     39.43   \n",
              "20638       1860.0           409.0       741.0       349.0     39.43   \n",
              "20639       2785.0           616.0      1387.0       530.0     39.37   \n",
              "\n",
              "       longitude  \n",
              "0        -122.23  \n",
              "1        -122.22  \n",
              "2        -122.24  \n",
              "3        -122.25  \n",
              "4        -122.25  \n",
              "...          ...  \n",
              "20635    -121.09  \n",
              "20636    -121.21  \n",
              "20637    -121.22  \n",
              "20638    -121.32  \n",
              "20639    -121.24  \n",
              "\n",
              "[20640 rows x 10 columns]"
            ]
          },
          "metadata": {},
          "execution_count": 90
        }
      ]
    },
    {
      "cell_type": "markdown",
      "source": [
        "Only keep the columns on which we apply regression"
      ],
      "metadata": {
        "id": "D4WEnb0De58E"
      }
    },
    {
      "cell_type": "code",
      "source": [
        "index = 0\n",
        "for df in dfs:\n",
        "  dfs[index] = df.drop(['Unnamed: 0'], axis='columns')"
      ],
      "metadata": {
        "id": "YQf1DOvqdCTl"
      },
      "execution_count": 91,
      "outputs": []
    },
    {
      "cell_type": "markdown",
      "source": [
        ""
      ],
      "metadata": {
        "id": "qhVdv4EUfgrg"
      }
    },
    {
      "cell_type": "markdown",
      "source": [
        "Checking how many isnull values there are in each dataset"
      ],
      "metadata": {
        "id": "TAEzw8eGf3TN"
      }
    },
    {
      "cell_type": "code",
      "source": [
        "index=0\n",
        "for df in dfs:\n",
        "  print(index)\n",
        "  print(df.isnull().sum())\n",
        "  index+=1"
      ],
      "metadata": {
        "colab": {
          "base_uri": "https://localhost:8080/"
        },
        "id": "AVyVc-tyfyjc",
        "outputId": "f7cb511d-1ffe-40c3-f82e-c88556961085"
      },
      "execution_count": 92,
      "outputs": [
        {
          "output_type": "stream",
          "name": "stdout",
          "text": [
            "0\n",
            "median_house_value        0\n",
            "median_income         10320\n",
            "housing_median_age    10320\n",
            "total_rooms               0\n",
            "total_bedrooms            0\n",
            "population            10320\n",
            "households                0\n",
            "latitude                  0\n",
            "longitude                 0\n",
            "dtype: int64\n",
            "1\n",
            "Unnamed: 0              0\n",
            "median_house_value      0\n",
            "median_income         206\n",
            "housing_median_age    206\n",
            "total_rooms             0\n",
            "total_bedrooms          0\n",
            "population            206\n",
            "households              0\n",
            "latitude                0\n",
            "longitude               0\n",
            "dtype: int64\n",
            "2\n",
            "Unnamed: 0              0\n",
            "median_house_value      0\n",
            "median_income         206\n",
            "housing_median_age    206\n",
            "total_rooms             0\n",
            "total_bedrooms          0\n",
            "population            206\n",
            "households              0\n",
            "latitude                0\n",
            "longitude               0\n",
            "dtype: int64\n",
            "3\n",
            "Unnamed: 0               0\n",
            "median_house_value       0\n",
            "median_income         2064\n",
            "housing_median_age    2064\n",
            "total_rooms              0\n",
            "total_bedrooms           0\n",
            "population            2064\n",
            "households               0\n",
            "latitude                 0\n",
            "longitude                0\n",
            "dtype: int64\n",
            "4\n",
            "Unnamed: 0               0\n",
            "median_house_value       0\n",
            "median_income         2064\n",
            "housing_median_age    2064\n",
            "total_rooms              0\n",
            "total_bedrooms           0\n",
            "population            2064\n",
            "households               0\n",
            "latitude                 0\n",
            "longitude                0\n",
            "dtype: int64\n",
            "5\n",
            "Unnamed: 0               0\n",
            "median_house_value       0\n",
            "median_income         2064\n",
            "housing_median_age    2064\n",
            "total_rooms              0\n",
            "total_bedrooms           0\n",
            "population            2064\n",
            "households               0\n",
            "latitude                 0\n",
            "longitude                0\n",
            "dtype: int64\n",
            "6\n",
            "Unnamed: 0                0\n",
            "median_house_value        0\n",
            "median_income         10320\n",
            "housing_median_age    10320\n",
            "total_rooms               0\n",
            "total_bedrooms            0\n",
            "population            10320\n",
            "households                0\n",
            "latitude                  0\n",
            "longitude                 0\n",
            "dtype: int64\n",
            "7\n",
            "Unnamed: 0                0\n",
            "median_house_value        0\n",
            "median_income         10320\n",
            "housing_median_age    10320\n",
            "total_rooms               0\n",
            "total_bedrooms            0\n",
            "population            10320\n",
            "households                0\n",
            "latitude                  0\n",
            "longitude                 0\n",
            "dtype: int64\n",
            "8\n",
            "Unnamed: 0                0\n",
            "median_house_value        0\n",
            "median_income         10320\n",
            "housing_median_age    10320\n",
            "total_rooms               0\n",
            "total_bedrooms            0\n",
            "population            10320\n",
            "households                0\n",
            "latitude                  0\n",
            "longitude                 0\n",
            "dtype: int64\n"
          ]
        }
      ]
    },
    {
      "cell_type": "markdown",
      "source": [
        "Only `median_income`, `housing_median_age` and `population` columns have missing values."
      ],
      "metadata": {
        "id": "d8r96rKNgIYO"
      }
    },
    {
      "cell_type": "code",
      "source": [
        "N_SPLITS = 5\n",
        "regressor = RandomForestRegressor(random_state=0)\n",
        "\n",
        "mses = np.zeros(27)\n",
        "stds = np.zeros(27)\n",
        "\n",
        "def get_scores_for_imputer(imputer, X_missing, y_missing):\n",
        "    estimator = make_pipeline(imputer, regressor)\n",
        "    impute_scores = cross_val_score(estimator, X_missing, y_missing,\n",
        "                                    scoring='neg_mean_squared_error',\n",
        "                                    cv=N_SPLITS)\n",
        "    return impute_scores"
      ],
      "metadata": {
        "id": "t-FdEXSVjpZ0"
      },
      "execution_count": 93,
      "outputs": []
    },
    {
      "cell_type": "code",
      "source": [
        "original.columns"
      ],
      "metadata": {
        "colab": {
          "base_uri": "https://localhost:8080/"
        },
        "id": "3rBPgUiXyn4r",
        "outputId": "3126c7ef-8b9e-44dc-c4c1-04f6dc4cfe69"
      },
      "execution_count": 94,
      "outputs": [
        {
          "output_type": "execute_result",
          "data": {
            "text/plain": [
              "Index(['median_house_value', 'median_income', 'housing_median_age',\n",
              "       'total_rooms', 'total_bedrooms', 'population', 'households', 'latitude',\n",
              "       'longitude'],\n",
              "      dtype='object')"
            ]
          },
          "metadata": {},
          "execution_count": 94
        }
      ]
    },
    {
      "cell_type": "code",
      "source": [
        "original['median_house_value']"
      ],
      "metadata": {
        "colab": {
          "base_uri": "https://localhost:8080/"
        },
        "id": "ePbySUlzy-6g",
        "outputId": "bc4b929f-c4e0-417a-c0b8-98bfd89dc52c"
      },
      "execution_count": 95,
      "outputs": [
        {
          "output_type": "execute_result",
          "data": {
            "text/plain": [
              "0        452600.0\n",
              "1        358500.0\n",
              "2        352100.0\n",
              "3        341300.0\n",
              "4        342200.0\n",
              "           ...   \n",
              "20635     78100.0\n",
              "20636     77100.0\n",
              "20637     92300.0\n",
              "20638     84700.0\n",
              "20639     89400.0\n",
              "Name: median_house_value, Length: 20640, dtype: float64"
            ]
          },
          "metadata": {},
          "execution_count": 95
        }
      ]
    },
    {
      "cell_type": "code",
      "source": [
        "x_columns = ['median_income', 'housing_median_age', 'total_rooms', \n",
        "                       'total_bedrooms', 'population', 'households', \n",
        "                       'latitude', 'longitude']\n",
        "y_columns = 'median_house_value'"
      ],
      "metadata": {
        "id": "TD1bRmVdv0rd"
      },
      "execution_count": 96,
      "outputs": []
    },
    {
      "cell_type": "code",
      "source": [
        "x_original = original[x_columns]\n",
        "y_original = original[y_columns].values"
      ],
      "metadata": {
        "id": "WK-VzK0Dn04x"
      },
      "execution_count": 97,
      "outputs": []
    },
    {
      "cell_type": "code",
      "source": [
        "x_original.values()"
      ],
      "metadata": {
        "colab": {
          "base_uri": "https://localhost:8080/",
          "height": 166
        },
        "id": "Cx6pr64T4HT8",
        "outputId": "61e108ce-5075-4be7-9222-c3a531e94a7f"
      },
      "execution_count": 133,
      "outputs": [
        {
          "output_type": "error",
          "ename": "TypeError",
          "evalue": "ignored",
          "traceback": [
            "\u001b[0;31m---------------------------------------------------------------------------\u001b[0m",
            "\u001b[0;31mTypeError\u001b[0m                                 Traceback (most recent call last)",
            "\u001b[0;32m<ipython-input-133-59d7d65b7bf4>\u001b[0m in \u001b[0;36m<module>\u001b[0;34m()\u001b[0m\n\u001b[0;32m----> 1\u001b[0;31m \u001b[0mx_original\u001b[0m\u001b[0;34m.\u001b[0m\u001b[0mvalues\u001b[0m\u001b[0;34m(\u001b[0m\u001b[0;34m)\u001b[0m\u001b[0;34m\u001b[0m\u001b[0;34m\u001b[0m\u001b[0m\n\u001b[0m",
            "\u001b[0;31mTypeError\u001b[0m: 'numpy.ndarray' object is not callable"
          ]
        }
      ]
    },
    {
      "cell_type": "code",
      "source": [
        ""
      ],
      "metadata": {
        "id": "Ezz75gph48Dp"
      },
      "execution_count": null,
      "outputs": []
    },
    {
      "cell_type": "markdown",
      "source": [
        "First, we want to estimate the score on the original data:"
      ],
      "metadata": {
        "id": "XapCaIMbnPs6"
      }
    },
    {
      "cell_type": "code",
      "source": [
        "def get_full_score(X_full, y_full):\n",
        "    full_scores = cross_val_score(regressor, X_full, y_full,\n",
        "                                  scoring='neg_mean_squared_error',\n",
        "                                  cv=N_SPLITS)\n",
        "    return full_scores.mean(), full_scores.std()\n",
        "\n",
        "\n",
        "mse, std  = get_full_score(x_original,y_original)\n",
        "\n",
        "## report scores\n",
        "print(mse, std)\n",
        "\n",
        "mses[0] = mse\n",
        "stds[0] = std"
      ],
      "metadata": {
        "colab": {
          "base_uri": "https://localhost:8080/"
        },
        "id": "4C-fgFhVnL_t",
        "outputId": "234ec747-50cd-44ec-a9f0-f26a485488ea"
      },
      "execution_count": 98,
      "outputs": [
        {
          "output_type": "stream",
          "name": "stdout",
          "text": [
            "-5158222427.901581 780749514.2167977\n"
          ]
        }
      ]
    },
    {
      "cell_type": "markdown",
      "source": [
        "Loading up the corrupted datasets"
      ],
      "metadata": {
        "id": "ovVZEVBcumOC"
      }
    },
    {
      "cell_type": "code",
      "source": [
        "x_houses = []\n",
        "y_houses = []\n",
        "\n",
        "index = 0\n",
        "for df in dfs:\n",
        "  x_houses.append(df[x_columns])\n",
        "  y_houses.append(df[y_columns].values)"
      ],
      "metadata": {
        "id": "LOrf9TvKupYJ"
      },
      "execution_count": 125,
      "outputs": []
    },
    {
      "cell_type": "code",
      "source": [
        "len(y_houses)"
      ],
      "metadata": {
        "colab": {
          "base_uri": "https://localhost:8080/"
        },
        "id": "UEDN0sgjyjL6",
        "outputId": "efea7e8f-c87d-4060-8a7f-2be6f66776d0"
      },
      "execution_count": 126,
      "outputs": [
        {
          "output_type": "execute_result",
          "data": {
            "text/plain": [
              "9"
            ]
          },
          "metadata": {},
          "execution_count": 126
        }
      ]
    },
    {
      "cell_type": "code",
      "source": [
        "def get_impute_knn_score(X_missing, y_missing):\n",
        "    imputer = KNNImputer(missing_values=np.nan, add_indicator=True)\n",
        "    knn_impute_scores = get_scores_for_imputer(imputer, X_missing, y_missing)\n",
        "    return knn_impute_scores.mean(), knn_impute_scores.std()\n",
        "\n",
        "\n",
        "ms, std  = get_impute_knn_score(x_houses[0], y_houses[0])\n",
        "\n",
        "mses[1] = mse\n",
        "stds[1] = std\n",
        "\n",
        "## report scores\n",
        "print(mse, std)"
      ],
      "metadata": {
        "id": "Qfe8tP3HnL6c",
        "colab": {
          "base_uri": "https://localhost:8080/"
        },
        "outputId": "06d59329-6da3-41ab-edd1-fa021e46d047"
      },
      "execution_count": 124,
      "outputs": [
        {
          "output_type": "stream",
          "name": "stdout",
          "text": [
            "-5626967812.562909 777835842.3082982\n"
          ]
        }
      ]
    },
    {
      "cell_type": "markdown",
      "source": [
        "Training our linear regression model using X and y"
      ],
      "metadata": {
        "id": "EXeL_5_s17yV"
      }
    },
    {
      "cell_type": "code",
      "source": [
        "from sklearn.linear_model import LinearRegression\n",
        "from sklearn.model_selection import KFold\n",
        "from sklearn.metrics import r2_score\n",
        "import numpy as np\n",
        "\n",
        "np.random.seed(42)  ## this makes the model reproducible\n",
        "\n",
        "kf = KFold(n_splits=4)  ## for k-fold validation\n",
        "\n",
        "def linear_regression(X, Y):\n",
        "  scores = []\n",
        "\n",
        "  ## generate K=4 models, one for each fold\n",
        "  for train_index, test_index in kf.split(X):\n",
        "      X_train, X_test = X[train_index], X[test_index]\n",
        "      y_train, y_test = Y[train_index], Y[test_index]\n",
        "      \n",
        "      clf = LinearRegression()\n",
        "      clf.fit(X_train, y_train)\n",
        "      y_test_pred = clf.predict(X_test)\n",
        "      \n",
        "      scores.append(r2_score(y_test, y_test_pred))\n",
        "\n",
        "  print(scores)"
      ],
      "metadata": {
        "id": "jyIIGVLZwFnp"
      },
      "execution_count": 128,
      "outputs": []
    },
    {
      "cell_type": "code",
      "source": [
        "linear_regression(x_original, y_original)"
      ],
      "metadata": {
        "colab": {
          "base_uri": "https://localhost:8080/",
          "height": 329
        },
        "id": "_42VnKx62SGL",
        "outputId": "9bf17d26-133a-4bdc-b4c4-ad584c2b1818"
      },
      "execution_count": 129,
      "outputs": [
        {
          "output_type": "error",
          "ename": "KeyError",
          "evalue": "ignored",
          "traceback": [
            "\u001b[0;31m---------------------------------------------------------------------------\u001b[0m",
            "\u001b[0;31mKeyError\u001b[0m                                  Traceback (most recent call last)",
            "\u001b[0;32m<ipython-input-129-fa32e3fe4e22>\u001b[0m in \u001b[0;36m<module>\u001b[0;34m()\u001b[0m\n\u001b[0;32m----> 1\u001b[0;31m \u001b[0mlinear_regression\u001b[0m\u001b[0;34m(\u001b[0m\u001b[0mx_original\u001b[0m\u001b[0;34m,\u001b[0m \u001b[0my_original\u001b[0m\u001b[0;34m)\u001b[0m\u001b[0;34m\u001b[0m\u001b[0;34m\u001b[0m\u001b[0m\n\u001b[0m",
            "\u001b[0;32m<ipython-input-128-e7a754d6ee98>\u001b[0m in \u001b[0;36mlinear_regression\u001b[0;34m(X, Y)\u001b[0m\n\u001b[1;32m     13\u001b[0m   \u001b[0;31m## generate K=4 models, one for each fold\u001b[0m\u001b[0;34m\u001b[0m\u001b[0;34m\u001b[0m\u001b[0;34m\u001b[0m\u001b[0m\n\u001b[1;32m     14\u001b[0m   \u001b[0;32mfor\u001b[0m \u001b[0mtrain_index\u001b[0m\u001b[0;34m,\u001b[0m \u001b[0mtest_index\u001b[0m \u001b[0;32min\u001b[0m \u001b[0mkf\u001b[0m\u001b[0;34m.\u001b[0m\u001b[0msplit\u001b[0m\u001b[0;34m(\u001b[0m\u001b[0mX\u001b[0m\u001b[0;34m)\u001b[0m\u001b[0;34m:\u001b[0m\u001b[0;34m\u001b[0m\u001b[0;34m\u001b[0m\u001b[0m\n\u001b[0;32m---> 15\u001b[0;31m       \u001b[0mX_train\u001b[0m\u001b[0;34m,\u001b[0m \u001b[0mX_test\u001b[0m \u001b[0;34m=\u001b[0m \u001b[0mX\u001b[0m\u001b[0;34m[\u001b[0m\u001b[0mtrain_index\u001b[0m\u001b[0;34m]\u001b[0m\u001b[0;34m,\u001b[0m \u001b[0mX\u001b[0m\u001b[0;34m[\u001b[0m\u001b[0mtest_index\u001b[0m\u001b[0;34m]\u001b[0m\u001b[0;34m\u001b[0m\u001b[0;34m\u001b[0m\u001b[0m\n\u001b[0m\u001b[1;32m     16\u001b[0m       \u001b[0my_train\u001b[0m\u001b[0;34m,\u001b[0m \u001b[0my_test\u001b[0m \u001b[0;34m=\u001b[0m \u001b[0mY\u001b[0m\u001b[0;34m[\u001b[0m\u001b[0mtrain_index\u001b[0m\u001b[0;34m]\u001b[0m\u001b[0;34m,\u001b[0m \u001b[0mY\u001b[0m\u001b[0;34m[\u001b[0m\u001b[0mtest_index\u001b[0m\u001b[0;34m]\u001b[0m\u001b[0;34m\u001b[0m\u001b[0;34m\u001b[0m\u001b[0m\n\u001b[1;32m     17\u001b[0m \u001b[0;34m\u001b[0m\u001b[0m\n",
            "\u001b[0;32m/usr/local/lib/python3.7/dist-packages/pandas/core/frame.py\u001b[0m in \u001b[0;36m__getitem__\u001b[0;34m(self, key)\u001b[0m\n\u001b[1;32m   2910\u001b[0m             \u001b[0;32mif\u001b[0m \u001b[0mis_iterator\u001b[0m\u001b[0;34m(\u001b[0m\u001b[0mkey\u001b[0m\u001b[0;34m)\u001b[0m\u001b[0;34m:\u001b[0m\u001b[0;34m\u001b[0m\u001b[0;34m\u001b[0m\u001b[0m\n\u001b[1;32m   2911\u001b[0m                 \u001b[0mkey\u001b[0m \u001b[0;34m=\u001b[0m \u001b[0mlist\u001b[0m\u001b[0;34m(\u001b[0m\u001b[0mkey\u001b[0m\u001b[0;34m)\u001b[0m\u001b[0;34m\u001b[0m\u001b[0;34m\u001b[0m\u001b[0m\n\u001b[0;32m-> 2912\u001b[0;31m             \u001b[0mindexer\u001b[0m \u001b[0;34m=\u001b[0m \u001b[0mself\u001b[0m\u001b[0;34m.\u001b[0m\u001b[0mloc\u001b[0m\u001b[0;34m.\u001b[0m\u001b[0m_get_listlike_indexer\u001b[0m\u001b[0;34m(\u001b[0m\u001b[0mkey\u001b[0m\u001b[0;34m,\u001b[0m \u001b[0maxis\u001b[0m\u001b[0;34m=\u001b[0m\u001b[0;36m1\u001b[0m\u001b[0;34m,\u001b[0m \u001b[0mraise_missing\u001b[0m\u001b[0;34m=\u001b[0m\u001b[0;32mTrue\u001b[0m\u001b[0;34m)\u001b[0m\u001b[0;34m[\u001b[0m\u001b[0;36m1\u001b[0m\u001b[0;34m]\u001b[0m\u001b[0;34m\u001b[0m\u001b[0;34m\u001b[0m\u001b[0m\n\u001b[0m\u001b[1;32m   2913\u001b[0m \u001b[0;34m\u001b[0m\u001b[0m\n\u001b[1;32m   2914\u001b[0m         \u001b[0;31m# take() does not accept boolean indexers\u001b[0m\u001b[0;34m\u001b[0m\u001b[0;34m\u001b[0m\u001b[0;34m\u001b[0m\u001b[0m\n",
            "\u001b[0;32m/usr/local/lib/python3.7/dist-packages/pandas/core/indexing.py\u001b[0m in \u001b[0;36m_get_listlike_indexer\u001b[0;34m(self, key, axis, raise_missing)\u001b[0m\n\u001b[1;32m   1252\u001b[0m             \u001b[0mkeyarr\u001b[0m\u001b[0;34m,\u001b[0m \u001b[0mindexer\u001b[0m\u001b[0;34m,\u001b[0m \u001b[0mnew_indexer\u001b[0m \u001b[0;34m=\u001b[0m \u001b[0max\u001b[0m\u001b[0;34m.\u001b[0m\u001b[0m_reindex_non_unique\u001b[0m\u001b[0;34m(\u001b[0m\u001b[0mkeyarr\u001b[0m\u001b[0;34m)\u001b[0m\u001b[0;34m\u001b[0m\u001b[0;34m\u001b[0m\u001b[0m\n\u001b[1;32m   1253\u001b[0m \u001b[0;34m\u001b[0m\u001b[0m\n\u001b[0;32m-> 1254\u001b[0;31m         \u001b[0mself\u001b[0m\u001b[0;34m.\u001b[0m\u001b[0m_validate_read_indexer\u001b[0m\u001b[0;34m(\u001b[0m\u001b[0mkeyarr\u001b[0m\u001b[0;34m,\u001b[0m \u001b[0mindexer\u001b[0m\u001b[0;34m,\u001b[0m \u001b[0maxis\u001b[0m\u001b[0;34m,\u001b[0m \u001b[0mraise_missing\u001b[0m\u001b[0;34m=\u001b[0m\u001b[0mraise_missing\u001b[0m\u001b[0;34m)\u001b[0m\u001b[0;34m\u001b[0m\u001b[0;34m\u001b[0m\u001b[0m\n\u001b[0m\u001b[1;32m   1255\u001b[0m         \u001b[0;32mreturn\u001b[0m \u001b[0mkeyarr\u001b[0m\u001b[0;34m,\u001b[0m \u001b[0mindexer\u001b[0m\u001b[0;34m\u001b[0m\u001b[0;34m\u001b[0m\u001b[0m\n\u001b[1;32m   1256\u001b[0m \u001b[0;34m\u001b[0m\u001b[0m\n",
            "\u001b[0;32m/usr/local/lib/python3.7/dist-packages/pandas/core/indexing.py\u001b[0m in \u001b[0;36m_validate_read_indexer\u001b[0;34m(self, key, indexer, axis, raise_missing)\u001b[0m\n\u001b[1;32m   1296\u001b[0m             \u001b[0;32mif\u001b[0m \u001b[0mmissing\u001b[0m \u001b[0;34m==\u001b[0m \u001b[0mlen\u001b[0m\u001b[0;34m(\u001b[0m\u001b[0mindexer\u001b[0m\u001b[0;34m)\u001b[0m\u001b[0;34m:\u001b[0m\u001b[0;34m\u001b[0m\u001b[0;34m\u001b[0m\u001b[0m\n\u001b[1;32m   1297\u001b[0m                 \u001b[0maxis_name\u001b[0m \u001b[0;34m=\u001b[0m \u001b[0mself\u001b[0m\u001b[0;34m.\u001b[0m\u001b[0mobj\u001b[0m\u001b[0;34m.\u001b[0m\u001b[0m_get_axis_name\u001b[0m\u001b[0;34m(\u001b[0m\u001b[0maxis\u001b[0m\u001b[0;34m)\u001b[0m\u001b[0;34m\u001b[0m\u001b[0;34m\u001b[0m\u001b[0m\n\u001b[0;32m-> 1298\u001b[0;31m                 \u001b[0;32mraise\u001b[0m \u001b[0mKeyError\u001b[0m\u001b[0;34m(\u001b[0m\u001b[0;34mf\"None of [{key}] are in the [{axis_name}]\"\u001b[0m\u001b[0;34m)\u001b[0m\u001b[0;34m\u001b[0m\u001b[0;34m\u001b[0m\u001b[0m\n\u001b[0m\u001b[1;32m   1299\u001b[0m \u001b[0;34m\u001b[0m\u001b[0m\n\u001b[1;32m   1300\u001b[0m             \u001b[0;31m# We (temporarily) allow for some missing keys with .loc, except in\u001b[0m\u001b[0;34m\u001b[0m\u001b[0;34m\u001b[0m\u001b[0;34m\u001b[0m\u001b[0m\n",
            "\u001b[0;31mKeyError\u001b[0m: \"None of [Int64Index([ 5160,  5161,  5162,  5163,  5164,  5165,  5166,  5167,  5168,\\n             5169,\\n            ...\\n            20630, 20631, 20632, 20633, 20634, 20635, 20636, 20637, 20638,\\n            20639],\\n           dtype='int64', length=15480)] are in the [columns]\""
          ]
        }
      ]
    },
    {
      "cell_type": "code",
      "source": [
        ""
      ],
      "metadata": {
        "id": "OJYKyMcj2fBh"
      },
      "execution_count": null,
      "outputs": []
    }
  ]
}
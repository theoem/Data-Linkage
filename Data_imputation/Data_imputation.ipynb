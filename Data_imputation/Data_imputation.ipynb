{
  "nbformat": 4,
  "nbformat_minor": 0,
  "metadata": {
    "colab": {
      "name": "Data imputation.ipynb",
      "provenance": [],
      "toc_visible": true,
      "include_colab_link": true
    },
    "kernelspec": {
      "name": "python3",
      "display_name": "Python 3"
    },
    "language_info": {
      "name": "python"
    }
  },
  "cells": [
    {
      "cell_type": "markdown",
      "metadata": {
        "id": "view-in-github",
        "colab_type": "text"
      },
      "source": [
        "<a href=\"https://colab.research.google.com/github/theoem/Data-Linkage/blob/master/Data_imputation/Data_imputation.ipynb\" target=\"_parent\"><img src=\"https://colab.research.google.com/assets/colab-badge.svg\" alt=\"Open In Colab\"/></a>"
      ]
    },
    {
      "cell_type": "markdown",
      "source": [
        "# CSC3831 Data Imputation Coursework\n",
        "Teodoras Celencevicius 190364247\n"
      ],
      "metadata": {
        "id": "hyWNZzt6R2vb"
      }
    },
    {
      "cell_type": "markdown",
      "source": [
        "Firstly, we will need to load the needed libraries"
      ],
      "metadata": {
        "id": "QEwocFBXR-WR"
      }
    },
    {
      "cell_type": "code",
      "source": [
        "import missingno as msno\n",
        "import pandas as pd\n",
        "import numpy as np\n",
        "from sklearn.ensemble import RandomForestRegressor\n",
        "from sklearn.experimental import enable_iterative_imputer\n",
        "from sklearn.impute import KNNImputer, SimpleImputer, IterativeImputer\n",
        "from sklearn.model_selection import cross_val_score\n",
        "from sklearn.pipeline import make_pipeline\n",
        "from sklearn.linear_model import LinearRegression\n",
        "from sklearn.model_selection import KFold\n",
        "from sklearn.metrics import mean_squared_error\n",
        "\n",
        "pd.set_option('max_columns', None)"
      ],
      "metadata": {
        "id": "ORGBYE4DaPtO"
      },
      "execution_count": null,
      "outputs": []
    },
    {
      "cell_type": "markdown",
      "source": [
        "## Loading the data"
      ],
      "metadata": {
        "id": "hT5e0NWeSkKH"
      }
    },
    {
      "cell_type": "markdown",
      "source": [
        "### Loading the original data set"
      ],
      "metadata": {
        "id": "qb6ff2PpSfDp"
      }
    },
    {
      "cell_type": "code",
      "source": [
        "original = pd.read_csv('https://raw.githubusercontent.com/PaoloMissier/CSC3831-2021-22/main/IMPUTATION/TARGET-DATASETS/ORIGINAL/houses.csv')"
      ],
      "metadata": {
        "id": "hwjJUIa6mOkJ"
      },
      "execution_count": null,
      "outputs": []
    },
    {
      "cell_type": "markdown",
      "source": [
        "### Loading the corrupted data"
      ],
      "metadata": {
        "id": "kVydhWwWSh3p"
      }
    },
    {
      "cell_type": "code",
      "source": [
        "files = [\n",
        "         'houses_0.01_MAR.csv',\n",
        "         'houses_0.01_MCAR.csv',\n",
        "         'houses_0.01_MNAR.csv',\n",
        "         'houses_0.1_MAR.csv',\n",
        "         'houses_0.1_MCAR.csv',\n",
        "         'houses_0.1_MNAR.csv',\n",
        "         'houses_0.5_MAR.csv',\n",
        "         'houses_0.5_MCAR.csv',\n",
        "         'houses_0.5_MNAR.csv'\n",
        "]\n",
        "url = 'https://raw.githubusercontent.com/PaoloMissier/CSC3831-2021-22/main/IMPUTATION/TARGET-DATASETS/CORRUPTED/HOUSES/'"
      ],
      "metadata": {
        "id": "Wc13COUGarpj"
      },
      "execution_count": null,
      "outputs": []
    },
    {
      "cell_type": "code",
      "source": [
        "dfs = []\n",
        "\n",
        "for file in files:\n",
        "  dfs.append(pd.read_csv(url + file))\n",
        "dfs"
      ],
      "metadata": {
        "colab": {
          "base_uri": "https://localhost:8080/"
        },
        "id": "zZ-X9xJ7bfwC",
        "outputId": "5b8b9eee-1187-43e8-f652-189e1cdce702"
      },
      "execution_count": null,
      "outputs": [
        {
          "output_type": "execute_result",
          "data": {
            "text/plain": [
              "[       Unnamed: 0  median_house_value  median_income  housing_median_age  \\\n",
              " 0               0            452600.0         8.3252                41.0   \n",
              " 1               1            358500.0         8.3014                21.0   \n",
              " 2               2            352100.0         7.2574                52.0   \n",
              " 3               3            341300.0         5.6431                52.0   \n",
              " 4               4            342200.0         3.8462                52.0   \n",
              " ...           ...                 ...            ...                 ...   \n",
              " 20635       20635             78100.0         1.5603                25.0   \n",
              " 20636       20636             77100.0         2.5568                18.0   \n",
              " 20637       20637             92300.0         1.7000                17.0   \n",
              " 20638       20638             84700.0         1.8672                18.0   \n",
              " 20639       20639             89400.0         2.3886                16.0   \n",
              " \n",
              "        total_rooms  total_bedrooms  population  households  latitude  \\\n",
              " 0            880.0           129.0       322.0       126.0     37.88   \n",
              " 1           7099.0          1106.0      2401.0      1138.0     37.86   \n",
              " 2           1467.0           190.0       496.0       177.0     37.85   \n",
              " 3           1274.0           235.0       558.0       219.0     37.85   \n",
              " 4           1627.0           280.0       565.0       259.0     37.85   \n",
              " ...            ...             ...         ...         ...       ...   \n",
              " 20635       1665.0           374.0       845.0       330.0     39.48   \n",
              " 20636        697.0           150.0       356.0       114.0     39.49   \n",
              " 20637       2254.0           485.0      1007.0       433.0     39.43   \n",
              " 20638       1860.0           409.0       741.0       349.0     39.43   \n",
              " 20639       2785.0           616.0      1387.0       530.0     39.37   \n",
              " \n",
              "        longitude  \n",
              " 0        -122.23  \n",
              " 1        -122.22  \n",
              " 2        -122.24  \n",
              " 3        -122.25  \n",
              " 4        -122.25  \n",
              " ...          ...  \n",
              " 20635    -121.09  \n",
              " 20636    -121.21  \n",
              " 20637    -121.22  \n",
              " 20638    -121.32  \n",
              " 20639    -121.24  \n",
              " \n",
              " [20640 rows x 10 columns],\n",
              "        Unnamed: 0  median_house_value  median_income  housing_median_age  \\\n",
              " 0               0            452600.0         8.3252                41.0   \n",
              " 1               1            358500.0         8.3014                21.0   \n",
              " 2               2            352100.0         7.2574                52.0   \n",
              " 3               3            341300.0         5.6431                52.0   \n",
              " 4               4            342200.0         3.8462                52.0   \n",
              " ...           ...                 ...            ...                 ...   \n",
              " 20635       20635             78100.0         1.5603                25.0   \n",
              " 20636       20636             77100.0         2.5568                18.0   \n",
              " 20637       20637             92300.0         1.7000                17.0   \n",
              " 20638       20638             84700.0         1.8672                18.0   \n",
              " 20639       20639             89400.0         2.3886                16.0   \n",
              " \n",
              "        total_rooms  total_bedrooms  population  households  latitude  \\\n",
              " 0            880.0           129.0       322.0       126.0     37.88   \n",
              " 1           7099.0          1106.0      2401.0      1138.0     37.86   \n",
              " 2           1467.0           190.0       496.0       177.0     37.85   \n",
              " 3           1274.0           235.0       558.0       219.0     37.85   \n",
              " 4           1627.0           280.0       565.0       259.0     37.85   \n",
              " ...            ...             ...         ...         ...       ...   \n",
              " 20635       1665.0           374.0       845.0       330.0     39.48   \n",
              " 20636        697.0           150.0       356.0       114.0     39.49   \n",
              " 20637       2254.0           485.0      1007.0       433.0     39.43   \n",
              " 20638       1860.0           409.0       741.0       349.0     39.43   \n",
              " 20639       2785.0           616.0      1387.0       530.0     39.37   \n",
              " \n",
              "        longitude  \n",
              " 0        -122.23  \n",
              " 1        -122.22  \n",
              " 2        -122.24  \n",
              " 3        -122.25  \n",
              " 4        -122.25  \n",
              " ...          ...  \n",
              " 20635    -121.09  \n",
              " 20636    -121.21  \n",
              " 20637    -121.22  \n",
              " 20638    -121.32  \n",
              " 20639    -121.24  \n",
              " \n",
              " [20640 rows x 10 columns],\n",
              "        Unnamed: 0  median_house_value  median_income  housing_median_age  \\\n",
              " 0               0            452600.0         8.3252                41.0   \n",
              " 1               1            358500.0         8.3014                21.0   \n",
              " 2               2            352100.0         7.2574                52.0   \n",
              " 3               3            341300.0         5.6431                52.0   \n",
              " 4               4            342200.0         3.8462                52.0   \n",
              " ...           ...                 ...            ...                 ...   \n",
              " 20635       20635             78100.0         1.5603                25.0   \n",
              " 20636       20636             77100.0         2.5568                18.0   \n",
              " 20637       20637             92300.0         1.7000                17.0   \n",
              " 20638       20638             84700.0         1.8672                18.0   \n",
              " 20639       20639             89400.0         2.3886                16.0   \n",
              " \n",
              "        total_rooms  total_bedrooms  population  households  latitude  \\\n",
              " 0            880.0           129.0       322.0       126.0     37.88   \n",
              " 1           7099.0          1106.0      2401.0      1138.0     37.86   \n",
              " 2           1467.0           190.0       496.0       177.0     37.85   \n",
              " 3           1274.0           235.0       558.0       219.0     37.85   \n",
              " 4           1627.0           280.0       565.0       259.0     37.85   \n",
              " ...            ...             ...         ...         ...       ...   \n",
              " 20635       1665.0           374.0       845.0       330.0     39.48   \n",
              " 20636        697.0           150.0       356.0       114.0     39.49   \n",
              " 20637       2254.0           485.0      1007.0       433.0     39.43   \n",
              " 20638       1860.0           409.0       741.0       349.0     39.43   \n",
              " 20639       2785.0           616.0      1387.0       530.0     39.37   \n",
              " \n",
              "        longitude  \n",
              " 0        -122.23  \n",
              " 1        -122.22  \n",
              " 2        -122.24  \n",
              " 3        -122.25  \n",
              " 4        -122.25  \n",
              " ...          ...  \n",
              " 20635    -121.09  \n",
              " 20636    -121.21  \n",
              " 20637    -121.22  \n",
              " 20638    -121.32  \n",
              " 20639    -121.24  \n",
              " \n",
              " [20640 rows x 10 columns],\n",
              "        Unnamed: 0  median_house_value  median_income  housing_median_age  \\\n",
              " 0               0            452600.0         8.3252                41.0   \n",
              " 1               1            358500.0         8.3014                21.0   \n",
              " 2               2            352100.0         7.2574                52.0   \n",
              " 3               3            341300.0         5.6431                52.0   \n",
              " 4               4            342200.0         3.8462                52.0   \n",
              " ...           ...                 ...            ...                 ...   \n",
              " 20635       20635             78100.0         1.5603                25.0   \n",
              " 20636       20636             77100.0         2.5568                18.0   \n",
              " 20637       20637             92300.0         1.7000                 NaN   \n",
              " 20638       20638             84700.0         1.8672                18.0   \n",
              " 20639       20639             89400.0         2.3886                16.0   \n",
              " \n",
              "        total_rooms  total_bedrooms  population  households  latitude  \\\n",
              " 0            880.0           129.0       322.0       126.0     37.88   \n",
              " 1           7099.0          1106.0      2401.0      1138.0     37.86   \n",
              " 2           1467.0           190.0         NaN       177.0     37.85   \n",
              " 3           1274.0           235.0         NaN       219.0     37.85   \n",
              " 4           1627.0           280.0       565.0       259.0     37.85   \n",
              " ...            ...             ...         ...         ...       ...   \n",
              " 20635       1665.0           374.0       845.0       330.0     39.48   \n",
              " 20636        697.0           150.0       356.0       114.0     39.49   \n",
              " 20637       2254.0           485.0      1007.0       433.0     39.43   \n",
              " 20638       1860.0           409.0       741.0       349.0     39.43   \n",
              " 20639       2785.0           616.0      1387.0       530.0     39.37   \n",
              " \n",
              "        longitude  \n",
              " 0        -122.23  \n",
              " 1        -122.22  \n",
              " 2        -122.24  \n",
              " 3        -122.25  \n",
              " 4        -122.25  \n",
              " ...          ...  \n",
              " 20635    -121.09  \n",
              " 20636    -121.21  \n",
              " 20637    -121.22  \n",
              " 20638    -121.32  \n",
              " 20639    -121.24  \n",
              " \n",
              " [20640 rows x 10 columns],\n",
              "        Unnamed: 0  median_house_value  median_income  housing_median_age  \\\n",
              " 0               0            452600.0         8.3252                41.0   \n",
              " 1               1            358500.0         8.3014                21.0   \n",
              " 2               2            352100.0         7.2574                52.0   \n",
              " 3               3            341300.0            NaN                52.0   \n",
              " 4               4            342200.0         3.8462                52.0   \n",
              " ...           ...                 ...            ...                 ...   \n",
              " 20635       20635             78100.0         1.5603                 NaN   \n",
              " 20636       20636             77100.0         2.5568                18.0   \n",
              " 20637       20637             92300.0         1.7000                 NaN   \n",
              " 20638       20638             84700.0         1.8672                18.0   \n",
              " 20639       20639             89400.0         2.3886                16.0   \n",
              " \n",
              "        total_rooms  total_bedrooms  population  households  latitude  \\\n",
              " 0            880.0           129.0       322.0       126.0     37.88   \n",
              " 1           7099.0          1106.0      2401.0      1138.0     37.86   \n",
              " 2           1467.0           190.0       496.0       177.0     37.85   \n",
              " 3           1274.0           235.0       558.0       219.0     37.85   \n",
              " 4           1627.0           280.0       565.0       259.0     37.85   \n",
              " ...            ...             ...         ...         ...       ...   \n",
              " 20635       1665.0           374.0       845.0       330.0     39.48   \n",
              " 20636        697.0           150.0         NaN       114.0     39.49   \n",
              " 20637       2254.0           485.0      1007.0       433.0     39.43   \n",
              " 20638       1860.0           409.0       741.0       349.0     39.43   \n",
              " 20639       2785.0           616.0      1387.0       530.0     39.37   \n",
              " \n",
              "        longitude  \n",
              " 0        -122.23  \n",
              " 1        -122.22  \n",
              " 2        -122.24  \n",
              " 3        -122.25  \n",
              " 4        -122.25  \n",
              " ...          ...  \n",
              " 20635    -121.09  \n",
              " 20636    -121.21  \n",
              " 20637    -121.22  \n",
              " 20638    -121.32  \n",
              " 20639    -121.24  \n",
              " \n",
              " [20640 rows x 10 columns],\n",
              "        Unnamed: 0  median_house_value  median_income  housing_median_age  \\\n",
              " 0               0            452600.0         8.3252                41.0   \n",
              " 1               1            358500.0         8.3014                21.0   \n",
              " 2               2            352100.0         7.2574                 NaN   \n",
              " 3               3            341300.0         5.6431                 NaN   \n",
              " 4               4            342200.0         3.8462                 NaN   \n",
              " ...           ...                 ...            ...                 ...   \n",
              " 20635       20635             78100.0         1.5603                25.0   \n",
              " 20636       20636             77100.0         2.5568                18.0   \n",
              " 20637       20637             92300.0         1.7000                17.0   \n",
              " 20638       20638             84700.0         1.8672                18.0   \n",
              " 20639       20639             89400.0         2.3886                16.0   \n",
              " \n",
              "        total_rooms  total_bedrooms  population  households  latitude  \\\n",
              " 0            880.0           129.0       322.0       126.0     37.88   \n",
              " 1           7099.0          1106.0         NaN      1138.0     37.86   \n",
              " 2           1467.0           190.0       496.0       177.0     37.85   \n",
              " 3           1274.0           235.0       558.0       219.0     37.85   \n",
              " 4           1627.0           280.0       565.0       259.0     37.85   \n",
              " ...            ...             ...         ...         ...       ...   \n",
              " 20635       1665.0           374.0       845.0       330.0     39.48   \n",
              " 20636        697.0           150.0       356.0       114.0     39.49   \n",
              " 20637       2254.0           485.0      1007.0       433.0     39.43   \n",
              " 20638       1860.0           409.0       741.0       349.0     39.43   \n",
              " 20639       2785.0           616.0      1387.0       530.0     39.37   \n",
              " \n",
              "        longitude  \n",
              " 0        -122.23  \n",
              " 1        -122.22  \n",
              " 2        -122.24  \n",
              " 3        -122.25  \n",
              " 4        -122.25  \n",
              " ...          ...  \n",
              " 20635    -121.09  \n",
              " 20636    -121.21  \n",
              " 20637    -121.22  \n",
              " 20638    -121.32  \n",
              " 20639    -121.24  \n",
              " \n",
              " [20640 rows x 10 columns],\n",
              "        Unnamed: 0  median_house_value  median_income  housing_median_age  \\\n",
              " 0               0            452600.0         8.3252                41.0   \n",
              " 1               1            358500.0         8.3014                21.0   \n",
              " 2               2            352100.0         7.2574                52.0   \n",
              " 3               3            341300.0         5.6431                52.0   \n",
              " 4               4            342200.0         3.8462                52.0   \n",
              " ...           ...                 ...            ...                 ...   \n",
              " 20635       20635             78100.0         1.5603                25.0   \n",
              " 20636       20636             77100.0         2.5568                18.0   \n",
              " 20637       20637             92300.0         1.7000                17.0   \n",
              " 20638       20638             84700.0         1.8672                18.0   \n",
              " 20639       20639             89400.0         2.3886                16.0   \n",
              " \n",
              "        total_rooms  total_bedrooms  population  households  latitude  \\\n",
              " 0            880.0           129.0         NaN       126.0     37.88   \n",
              " 1           7099.0          1106.0         NaN      1138.0     37.86   \n",
              " 2           1467.0           190.0         NaN       177.0     37.85   \n",
              " 3           1274.0           235.0         NaN       219.0     37.85   \n",
              " 4           1627.0           280.0       565.0       259.0     37.85   \n",
              " ...            ...             ...         ...         ...       ...   \n",
              " 20635       1665.0           374.0       845.0       330.0     39.48   \n",
              " 20636        697.0           150.0       356.0       114.0     39.49   \n",
              " 20637       2254.0           485.0      1007.0       433.0     39.43   \n",
              " 20638       1860.0           409.0       741.0       349.0     39.43   \n",
              " 20639       2785.0           616.0      1387.0       530.0     39.37   \n",
              " \n",
              "        longitude  \n",
              " 0        -122.23  \n",
              " 1        -122.22  \n",
              " 2        -122.24  \n",
              " 3        -122.25  \n",
              " 4        -122.25  \n",
              " ...          ...  \n",
              " 20635    -121.09  \n",
              " 20636    -121.21  \n",
              " 20637    -121.22  \n",
              " 20638    -121.32  \n",
              " 20639    -121.24  \n",
              " \n",
              " [20640 rows x 10 columns],\n",
              "        Unnamed: 0  median_house_value  median_income  housing_median_age  \\\n",
              " 0               0            452600.0            NaN                 NaN   \n",
              " 1               1            358500.0         8.3014                 NaN   \n",
              " 2               2            352100.0            NaN                 NaN   \n",
              " 3               3            341300.0         5.6431                 NaN   \n",
              " 4               4            342200.0         3.8462                52.0   \n",
              " ...           ...                 ...            ...                 ...   \n",
              " 20635       20635             78100.0         1.5603                 NaN   \n",
              " 20636       20636             77100.0            NaN                 NaN   \n",
              " 20637       20637             92300.0         1.7000                17.0   \n",
              " 20638       20638             84700.0         1.8672                18.0   \n",
              " 20639       20639             89400.0            NaN                16.0   \n",
              " \n",
              "        total_rooms  total_bedrooms  population  households  latitude  \\\n",
              " 0            880.0           129.0         NaN       126.0     37.88   \n",
              " 1           7099.0          1106.0      2401.0      1138.0     37.86   \n",
              " 2           1467.0           190.0         NaN       177.0     37.85   \n",
              " 3           1274.0           235.0       558.0       219.0     37.85   \n",
              " 4           1627.0           280.0       565.0       259.0     37.85   \n",
              " ...            ...             ...         ...         ...       ...   \n",
              " 20635       1665.0           374.0       845.0       330.0     39.48   \n",
              " 20636        697.0           150.0         NaN       114.0     39.49   \n",
              " 20637       2254.0           485.0         NaN       433.0     39.43   \n",
              " 20638       1860.0           409.0       741.0       349.0     39.43   \n",
              " 20639       2785.0           616.0         NaN       530.0     39.37   \n",
              " \n",
              "        longitude  \n",
              " 0        -122.23  \n",
              " 1        -122.22  \n",
              " 2        -122.24  \n",
              " 3        -122.25  \n",
              " 4        -122.25  \n",
              " ...          ...  \n",
              " 20635    -121.09  \n",
              " 20636    -121.21  \n",
              " 20637    -121.22  \n",
              " 20638    -121.32  \n",
              " 20639    -121.24  \n",
              " \n",
              " [20640 rows x 10 columns],\n",
              "        Unnamed: 0  median_house_value  median_income  housing_median_age  \\\n",
              " 0               0            452600.0         8.3252                41.0   \n",
              " 1               1            358500.0         8.3014                 NaN   \n",
              " 2               2            352100.0         7.2574                52.0   \n",
              " 3               3            341300.0         5.6431                52.0   \n",
              " 4               4            342200.0            NaN                52.0   \n",
              " ...           ...                 ...            ...                 ...   \n",
              " 20635       20635             78100.0         1.5603                 NaN   \n",
              " 20636       20636             77100.0         2.5568                 NaN   \n",
              " 20637       20637             92300.0         1.7000                 NaN   \n",
              " 20638       20638             84700.0         1.8672                 NaN   \n",
              " 20639       20639             89400.0         2.3886                 NaN   \n",
              " \n",
              "        total_rooms  total_bedrooms  population  households  latitude  \\\n",
              " 0            880.0           129.0       322.0       126.0     37.88   \n",
              " 1           7099.0          1106.0      2401.0      1138.0     37.86   \n",
              " 2           1467.0           190.0       496.0       177.0     37.85   \n",
              " 3           1274.0           235.0       558.0       219.0     37.85   \n",
              " 4           1627.0           280.0       565.0       259.0     37.85   \n",
              " ...            ...             ...         ...         ...       ...   \n",
              " 20635       1665.0           374.0         NaN       330.0     39.48   \n",
              " 20636        697.0           150.0       356.0       114.0     39.49   \n",
              " 20637       2254.0           485.0         NaN       433.0     39.43   \n",
              " 20638       1860.0           409.0       741.0       349.0     39.43   \n",
              " 20639       2785.0           616.0         NaN       530.0     39.37   \n",
              " \n",
              "        longitude  \n",
              " 0        -122.23  \n",
              " 1        -122.22  \n",
              " 2        -122.24  \n",
              " 3        -122.25  \n",
              " 4        -122.25  \n",
              " ...          ...  \n",
              " 20635    -121.09  \n",
              " 20636    -121.21  \n",
              " 20637    -121.22  \n",
              " 20638    -121.32  \n",
              " 20639    -121.24  \n",
              " \n",
              " [20640 rows x 10 columns]]"
            ]
          },
          "metadata": {},
          "execution_count": 424
        }
      ]
    },
    {
      "cell_type": "markdown",
      "source": [
        "## Data exploration"
      ],
      "metadata": {
        "id": "0souDCnyS1M0"
      }
    },
    {
      "cell_type": "markdown",
      "source": [
        "Checking if each corrupted data set has the same shape and columns"
      ],
      "metadata": {
        "id": "ALrYoOdLSxju"
      }
    },
    {
      "cell_type": "code",
      "source": [
        "for df in dfs:\n",
        "  print(df.shape)\n",
        "  print(df.columns)"
      ],
      "metadata": {
        "colab": {
          "base_uri": "https://localhost:8080/"
        },
        "id": "uU0TVMXSdBKE",
        "outputId": "3a152935-22d7-4dc0-95ad-777509433f12"
      },
      "execution_count": null,
      "outputs": [
        {
          "output_type": "stream",
          "name": "stdout",
          "text": [
            "(20640, 10)\n",
            "Index(['Unnamed: 0', 'median_house_value', 'median_income',\n",
            "       'housing_median_age', 'total_rooms', 'total_bedrooms', 'population',\n",
            "       'households', 'latitude', 'longitude'],\n",
            "      dtype='object')\n",
            "(20640, 10)\n",
            "Index(['Unnamed: 0', 'median_house_value', 'median_income',\n",
            "       'housing_median_age', 'total_rooms', 'total_bedrooms', 'population',\n",
            "       'households', 'latitude', 'longitude'],\n",
            "      dtype='object')\n",
            "(20640, 10)\n",
            "Index(['Unnamed: 0', 'median_house_value', 'median_income',\n",
            "       'housing_median_age', 'total_rooms', 'total_bedrooms', 'population',\n",
            "       'households', 'latitude', 'longitude'],\n",
            "      dtype='object')\n",
            "(20640, 10)\n",
            "Index(['Unnamed: 0', 'median_house_value', 'median_income',\n",
            "       'housing_median_age', 'total_rooms', 'total_bedrooms', 'population',\n",
            "       'households', 'latitude', 'longitude'],\n",
            "      dtype='object')\n",
            "(20640, 10)\n",
            "Index(['Unnamed: 0', 'median_house_value', 'median_income',\n",
            "       'housing_median_age', 'total_rooms', 'total_bedrooms', 'population',\n",
            "       'households', 'latitude', 'longitude'],\n",
            "      dtype='object')\n",
            "(20640, 10)\n",
            "Index(['Unnamed: 0', 'median_house_value', 'median_income',\n",
            "       'housing_median_age', 'total_rooms', 'total_bedrooms', 'population',\n",
            "       'households', 'latitude', 'longitude'],\n",
            "      dtype='object')\n",
            "(20640, 10)\n",
            "Index(['Unnamed: 0', 'median_house_value', 'median_income',\n",
            "       'housing_median_age', 'total_rooms', 'total_bedrooms', 'population',\n",
            "       'households', 'latitude', 'longitude'],\n",
            "      dtype='object')\n",
            "(20640, 10)\n",
            "Index(['Unnamed: 0', 'median_house_value', 'median_income',\n",
            "       'housing_median_age', 'total_rooms', 'total_bedrooms', 'population',\n",
            "       'households', 'latitude', 'longitude'],\n",
            "      dtype='object')\n",
            "(20640, 10)\n",
            "Index(['Unnamed: 0', 'median_house_value', 'median_income',\n",
            "       'housing_median_age', 'total_rooms', 'total_bedrooms', 'population',\n",
            "       'households', 'latitude', 'longitude'],\n",
            "      dtype='object')\n"
          ]
        }
      ]
    },
    {
      "cell_type": "markdown",
      "source": [
        "Since each corrupted data set has same shape and columns, each of them will look similar to this:"
      ],
      "metadata": {
        "id": "ozcqxY59Svhe"
      }
    },
    {
      "cell_type": "code",
      "source": [
        "dfs[0]"
      ],
      "metadata": {
        "colab": {
          "base_uri": "https://localhost:8080/",
          "height": 461
        },
        "id": "fEhXMMSWfSvP",
        "outputId": "f615ebc8-f086-47f9-a3f0-bbd7c69eed96"
      },
      "execution_count": null,
      "outputs": [
        {
          "output_type": "execute_result",
          "data": {
            "text/html": [
              "<div>\n",
              "<style scoped>\n",
              "    .dataframe tbody tr th:only-of-type {\n",
              "        vertical-align: middle;\n",
              "    }\n",
              "\n",
              "    .dataframe tbody tr th {\n",
              "        vertical-align: top;\n",
              "    }\n",
              "\n",
              "    .dataframe thead th {\n",
              "        text-align: right;\n",
              "    }\n",
              "</style>\n",
              "<table border=\"1\" class=\"dataframe\">\n",
              "  <thead>\n",
              "    <tr style=\"text-align: right;\">\n",
              "      <th></th>\n",
              "      <th>Unnamed: 0</th>\n",
              "      <th>median_house_value</th>\n",
              "      <th>median_income</th>\n",
              "      <th>housing_median_age</th>\n",
              "      <th>total_rooms</th>\n",
              "      <th>total_bedrooms</th>\n",
              "      <th>population</th>\n",
              "      <th>households</th>\n",
              "      <th>latitude</th>\n",
              "      <th>longitude</th>\n",
              "    </tr>\n",
              "  </thead>\n",
              "  <tbody>\n",
              "    <tr>\n",
              "      <th>0</th>\n",
              "      <td>0</td>\n",
              "      <td>452600.0</td>\n",
              "      <td>8.3252</td>\n",
              "      <td>41.0</td>\n",
              "      <td>880.0</td>\n",
              "      <td>129.0</td>\n",
              "      <td>322.0</td>\n",
              "      <td>126.0</td>\n",
              "      <td>37.88</td>\n",
              "      <td>-122.23</td>\n",
              "    </tr>\n",
              "    <tr>\n",
              "      <th>1</th>\n",
              "      <td>1</td>\n",
              "      <td>358500.0</td>\n",
              "      <td>8.3014</td>\n",
              "      <td>21.0</td>\n",
              "      <td>7099.0</td>\n",
              "      <td>1106.0</td>\n",
              "      <td>2401.0</td>\n",
              "      <td>1138.0</td>\n",
              "      <td>37.86</td>\n",
              "      <td>-122.22</td>\n",
              "    </tr>\n",
              "    <tr>\n",
              "      <th>2</th>\n",
              "      <td>2</td>\n",
              "      <td>352100.0</td>\n",
              "      <td>7.2574</td>\n",
              "      <td>52.0</td>\n",
              "      <td>1467.0</td>\n",
              "      <td>190.0</td>\n",
              "      <td>496.0</td>\n",
              "      <td>177.0</td>\n",
              "      <td>37.85</td>\n",
              "      <td>-122.24</td>\n",
              "    </tr>\n",
              "    <tr>\n",
              "      <th>3</th>\n",
              "      <td>3</td>\n",
              "      <td>341300.0</td>\n",
              "      <td>5.6431</td>\n",
              "      <td>52.0</td>\n",
              "      <td>1274.0</td>\n",
              "      <td>235.0</td>\n",
              "      <td>558.0</td>\n",
              "      <td>219.0</td>\n",
              "      <td>37.85</td>\n",
              "      <td>-122.25</td>\n",
              "    </tr>\n",
              "    <tr>\n",
              "      <th>4</th>\n",
              "      <td>4</td>\n",
              "      <td>342200.0</td>\n",
              "      <td>3.8462</td>\n",
              "      <td>52.0</td>\n",
              "      <td>1627.0</td>\n",
              "      <td>280.0</td>\n",
              "      <td>565.0</td>\n",
              "      <td>259.0</td>\n",
              "      <td>37.85</td>\n",
              "      <td>-122.25</td>\n",
              "    </tr>\n",
              "    <tr>\n",
              "      <th>...</th>\n",
              "      <td>...</td>\n",
              "      <td>...</td>\n",
              "      <td>...</td>\n",
              "      <td>...</td>\n",
              "      <td>...</td>\n",
              "      <td>...</td>\n",
              "      <td>...</td>\n",
              "      <td>...</td>\n",
              "      <td>...</td>\n",
              "      <td>...</td>\n",
              "    </tr>\n",
              "    <tr>\n",
              "      <th>20635</th>\n",
              "      <td>20635</td>\n",
              "      <td>78100.0</td>\n",
              "      <td>1.5603</td>\n",
              "      <td>25.0</td>\n",
              "      <td>1665.0</td>\n",
              "      <td>374.0</td>\n",
              "      <td>845.0</td>\n",
              "      <td>330.0</td>\n",
              "      <td>39.48</td>\n",
              "      <td>-121.09</td>\n",
              "    </tr>\n",
              "    <tr>\n",
              "      <th>20636</th>\n",
              "      <td>20636</td>\n",
              "      <td>77100.0</td>\n",
              "      <td>2.5568</td>\n",
              "      <td>18.0</td>\n",
              "      <td>697.0</td>\n",
              "      <td>150.0</td>\n",
              "      <td>356.0</td>\n",
              "      <td>114.0</td>\n",
              "      <td>39.49</td>\n",
              "      <td>-121.21</td>\n",
              "    </tr>\n",
              "    <tr>\n",
              "      <th>20637</th>\n",
              "      <td>20637</td>\n",
              "      <td>92300.0</td>\n",
              "      <td>1.7000</td>\n",
              "      <td>17.0</td>\n",
              "      <td>2254.0</td>\n",
              "      <td>485.0</td>\n",
              "      <td>1007.0</td>\n",
              "      <td>433.0</td>\n",
              "      <td>39.43</td>\n",
              "      <td>-121.22</td>\n",
              "    </tr>\n",
              "    <tr>\n",
              "      <th>20638</th>\n",
              "      <td>20638</td>\n",
              "      <td>84700.0</td>\n",
              "      <td>1.8672</td>\n",
              "      <td>18.0</td>\n",
              "      <td>1860.0</td>\n",
              "      <td>409.0</td>\n",
              "      <td>741.0</td>\n",
              "      <td>349.0</td>\n",
              "      <td>39.43</td>\n",
              "      <td>-121.32</td>\n",
              "    </tr>\n",
              "    <tr>\n",
              "      <th>20639</th>\n",
              "      <td>20639</td>\n",
              "      <td>89400.0</td>\n",
              "      <td>2.3886</td>\n",
              "      <td>16.0</td>\n",
              "      <td>2785.0</td>\n",
              "      <td>616.0</td>\n",
              "      <td>1387.0</td>\n",
              "      <td>530.0</td>\n",
              "      <td>39.37</td>\n",
              "      <td>-121.24</td>\n",
              "    </tr>\n",
              "  </tbody>\n",
              "</table>\n",
              "<p>20640 rows × 10 columns</p>\n",
              "</div>"
            ],
            "text/plain": [
              "       Unnamed: 0  median_house_value  median_income  housing_median_age  \\\n",
              "0               0            452600.0         8.3252                41.0   \n",
              "1               1            358500.0         8.3014                21.0   \n",
              "2               2            352100.0         7.2574                52.0   \n",
              "3               3            341300.0         5.6431                52.0   \n",
              "4               4            342200.0         3.8462                52.0   \n",
              "...           ...                 ...            ...                 ...   \n",
              "20635       20635             78100.0         1.5603                25.0   \n",
              "20636       20636             77100.0         2.5568                18.0   \n",
              "20637       20637             92300.0         1.7000                17.0   \n",
              "20638       20638             84700.0         1.8672                18.0   \n",
              "20639       20639             89400.0         2.3886                16.0   \n",
              "\n",
              "       total_rooms  total_bedrooms  population  households  latitude  \\\n",
              "0            880.0           129.0       322.0       126.0     37.88   \n",
              "1           7099.0          1106.0      2401.0      1138.0     37.86   \n",
              "2           1467.0           190.0       496.0       177.0     37.85   \n",
              "3           1274.0           235.0       558.0       219.0     37.85   \n",
              "4           1627.0           280.0       565.0       259.0     37.85   \n",
              "...            ...             ...         ...         ...       ...   \n",
              "20635       1665.0           374.0       845.0       330.0     39.48   \n",
              "20636        697.0           150.0       356.0       114.0     39.49   \n",
              "20637       2254.0           485.0      1007.0       433.0     39.43   \n",
              "20638       1860.0           409.0       741.0       349.0     39.43   \n",
              "20639       2785.0           616.0      1387.0       530.0     39.37   \n",
              "\n",
              "       longitude  \n",
              "0        -122.23  \n",
              "1        -122.22  \n",
              "2        -122.24  \n",
              "3        -122.25  \n",
              "4        -122.25  \n",
              "...          ...  \n",
              "20635    -121.09  \n",
              "20636    -121.21  \n",
              "20637    -121.22  \n",
              "20638    -121.32  \n",
              "20639    -121.24  \n",
              "\n",
              "[20640 rows x 10 columns]"
            ]
          },
          "metadata": {},
          "execution_count": 426
        }
      ]
    },
    {
      "cell_type": "markdown",
      "source": [
        "Only keep the columns on which we apply regression"
      ],
      "metadata": {
        "id": "D4WEnb0De58E"
      }
    },
    {
      "cell_type": "code",
      "source": [
        "index = 0\n",
        "for df in dfs:\n",
        "  dfs[index] = df.drop(['Unnamed: 0'], axis='columns')\n",
        "  index+=0"
      ],
      "metadata": {
        "id": "YQf1DOvqdCTl"
      },
      "execution_count": null,
      "outputs": []
    },
    {
      "cell_type": "markdown",
      "source": [
        "Checking how many isnull values there are in each dataset"
      ],
      "metadata": {
        "id": "TAEzw8eGf3TN"
      }
    },
    {
      "cell_type": "code",
      "source": [
        "index=0\n",
        "for df in dfs:\n",
        "  print(index)\n",
        "  print(df.isnull().sum())\n",
        "  index+=1"
      ],
      "metadata": {
        "colab": {
          "base_uri": "https://localhost:8080/"
        },
        "id": "AVyVc-tyfyjc",
        "outputId": "63fe5d82-0dd9-4b93-a193-a32105eff03d"
      },
      "execution_count": null,
      "outputs": [
        {
          "output_type": "stream",
          "name": "stdout",
          "text": [
            "0\n",
            "median_house_value        0\n",
            "median_income         10320\n",
            "housing_median_age    10320\n",
            "total_rooms               0\n",
            "total_bedrooms            0\n",
            "population            10320\n",
            "households                0\n",
            "latitude                  0\n",
            "longitude                 0\n",
            "dtype: int64\n",
            "1\n",
            "Unnamed: 0              0\n",
            "median_house_value      0\n",
            "median_income         206\n",
            "housing_median_age    206\n",
            "total_rooms             0\n",
            "total_bedrooms          0\n",
            "population            206\n",
            "households              0\n",
            "latitude                0\n",
            "longitude               0\n",
            "dtype: int64\n",
            "2\n",
            "Unnamed: 0              0\n",
            "median_house_value      0\n",
            "median_income         206\n",
            "housing_median_age    206\n",
            "total_rooms             0\n",
            "total_bedrooms          0\n",
            "population            206\n",
            "households              0\n",
            "latitude                0\n",
            "longitude               0\n",
            "dtype: int64\n",
            "3\n",
            "Unnamed: 0               0\n",
            "median_house_value       0\n",
            "median_income         2064\n",
            "housing_median_age    2064\n",
            "total_rooms              0\n",
            "total_bedrooms           0\n",
            "population            2064\n",
            "households               0\n",
            "latitude                 0\n",
            "longitude                0\n",
            "dtype: int64\n",
            "4\n",
            "Unnamed: 0               0\n",
            "median_house_value       0\n",
            "median_income         2064\n",
            "housing_median_age    2064\n",
            "total_rooms              0\n",
            "total_bedrooms           0\n",
            "population            2064\n",
            "households               0\n",
            "latitude                 0\n",
            "longitude                0\n",
            "dtype: int64\n",
            "5\n",
            "Unnamed: 0               0\n",
            "median_house_value       0\n",
            "median_income         2064\n",
            "housing_median_age    2064\n",
            "total_rooms              0\n",
            "total_bedrooms           0\n",
            "population            2064\n",
            "households               0\n",
            "latitude                 0\n",
            "longitude                0\n",
            "dtype: int64\n",
            "6\n",
            "Unnamed: 0                0\n",
            "median_house_value        0\n",
            "median_income         10320\n",
            "housing_median_age    10320\n",
            "total_rooms               0\n",
            "total_bedrooms            0\n",
            "population            10320\n",
            "households                0\n",
            "latitude                  0\n",
            "longitude                 0\n",
            "dtype: int64\n",
            "7\n",
            "Unnamed: 0                0\n",
            "median_house_value        0\n",
            "median_income         10320\n",
            "housing_median_age    10320\n",
            "total_rooms               0\n",
            "total_bedrooms            0\n",
            "population            10320\n",
            "households                0\n",
            "latitude                  0\n",
            "longitude                 0\n",
            "dtype: int64\n",
            "8\n",
            "Unnamed: 0                0\n",
            "median_house_value        0\n",
            "median_income         10320\n",
            "housing_median_age    10320\n",
            "total_rooms               0\n",
            "total_bedrooms            0\n",
            "population            10320\n",
            "households                0\n",
            "latitude                  0\n",
            "longitude                 0\n",
            "dtype: int64\n"
          ]
        }
      ]
    },
    {
      "cell_type": "markdown",
      "source": [
        "Only `median_income`, `housing_median_age` and `population` columns have missing values."
      ],
      "metadata": {
        "id": "d8r96rKNgIYO"
      }
    },
    {
      "cell_type": "code",
      "source": [
        "original.columns"
      ],
      "metadata": {
        "colab": {
          "base_uri": "https://localhost:8080/"
        },
        "id": "3rBPgUiXyn4r",
        "outputId": "cdaf6f4d-f620-40d1-8b07-4102e2548f2b"
      },
      "execution_count": null,
      "outputs": [
        {
          "output_type": "execute_result",
          "data": {
            "text/plain": [
              "Index(['median_house_value', 'median_income', 'housing_median_age',\n",
              "       'total_rooms', 'total_bedrooms', 'population', 'households', 'latitude',\n",
              "       'longitude'],\n",
              "      dtype='object')"
            ]
          },
          "metadata": {},
          "execution_count": 429
        }
      ]
    },
    {
      "cell_type": "markdown",
      "source": [
        "Seperating the dataframe values into dependant variables and values to predict to prepare for the regression model"
      ],
      "metadata": {
        "id": "mDLPf76fTj5x"
      }
    },
    {
      "cell_type": "code",
      "source": [
        "x_columns = ['median_income', 'housing_median_age', 'total_rooms', \n",
        "                       'total_bedrooms', 'population', 'households', \n",
        "                       'latitude', 'longitude']\n",
        "y_columns = 'median_house_value'"
      ],
      "metadata": {
        "id": "TD1bRmVdv0rd"
      },
      "execution_count": null,
      "outputs": []
    },
    {
      "cell_type": "code",
      "source": [
        "x_original = original[x_columns].values\n",
        "y_original = original[y_columns].values"
      ],
      "metadata": {
        "id": "WK-VzK0Dn04x"
      },
      "execution_count": null,
      "outputs": []
    },
    {
      "cell_type": "markdown",
      "source": [
        "Loading up the corrupted datasets and seperating the values int X and Y for the regression model"
      ],
      "metadata": {
        "id": "ovVZEVBcumOC"
      }
    },
    {
      "cell_type": "code",
      "source": [
        "x_houses = []\n",
        "y_houses = []\n",
        "\n",
        "index = 0\n",
        "for df in dfs:\n",
        "  x_houses.append(df[x_columns].values)\n",
        "  y_houses.append(df[y_columns].values)"
      ],
      "metadata": {
        "id": "LOrf9TvKupYJ"
      },
      "execution_count": null,
      "outputs": []
    },
    {
      "cell_type": "code",
      "source": [
        "print(len(x_houses))\n",
        "print(len(y_houses))"
      ],
      "metadata": {
        "colab": {
          "base_uri": "https://localhost:8080/"
        },
        "id": "UEDN0sgjyjL6",
        "outputId": "e195b27a-04aa-43f6-f992-f0abfa88ea0d"
      },
      "execution_count": null,
      "outputs": [
        {
          "output_type": "stream",
          "name": "stdout",
          "text": [
            "9\n",
            "9\n"
          ]
        }
      ]
    },
    {
      "cell_type": "markdown",
      "source": [
        "## Experiment definition\n"
      ],
      "metadata": {
        "id": "MAqlWvY4UrbF"
      }
    },
    {
      "cell_type": "markdown",
      "source": [
        "During this experiment I will look into three imputation methods (KNN, univariate and multivariate) and compare their effectiveness when predicting `median_house_value`.\n",
        "\n",
        "My hypotheses are:\n",
        "\n",
        "1.   The performance of the imputation methods correlate to their complexity. That is, the performance will decrease the more complex method is. Therefore, my guess is that the performance will be decreasing in order of: Univariate Imputer, Multivariate imputer, KNN imputer.\n",
        "2.   The effectiveness of the imputation methods will inversly correlate to the performance. Therefore, my guess is that the effectiveness will be increasing in order of: Univariate Imputer, Multivariate imputer, KNN imputer.\n",
        "3.   The methods effectiveness will depend on the missingness in the data and the effectiveness will decrease in this order: MNAR, MAR, MCAR. \n",
        "\n",
        "\n",
        "I will measure the effectiveness of the methods by RMSE, because of the coursework guidelines."
      ],
      "metadata": {
        "id": "aYsq_MvSUzTE"
      }
    },
    {
      "cell_type": "markdown",
      "source": [
        "## Defining the three imputation methods"
      ],
      "metadata": {
        "id": "fsyonErF6Fhl"
      }
    },
    {
      "cell_type": "markdown",
      "source": [
        "### Nearest-neighbour imputation using sklearn KNNImputer class"
      ],
      "metadata": {
        "id": "uAHc-wH7-7aG"
      }
    },
    {
      "cell_type": "code",
      "source": [
        "Xs_knni_fitted = []\n",
        "\n",
        "def knni_imputer(data):\n",
        "  imputer = KNNImputer(n_neighbors=2)\n",
        "  return imputer.fit_transform(data)"
      ],
      "metadata": {
        "id": "g8mksJYq52AS"
      },
      "execution_count": null,
      "outputs": []
    },
    {
      "cell_type": "markdown",
      "source": [
        "Checking if it works"
      ],
      "metadata": {
        "id": "LHgiPZYl_Ce9"
      }
    },
    {
      "cell_type": "code",
      "source": [
        "print('Missing: %d' % sum(np.isnan(x_houses[0]).flatten()))\n",
        "Xs_knni_fitted.append(knni_imputer(x_houses[0]))\n",
        "print('Missing: %d' % sum(np.isnan(Xs_knni_fitted[0]).flatten()))\n"
      ],
      "metadata": {
        "colab": {
          "base_uri": "https://localhost:8080/"
        },
        "id": "p_TV7lyB6atk",
        "outputId": "694e6e20-144a-4504-dd87-4a88eca0b60e"
      },
      "execution_count": null,
      "outputs": [
        {
          "output_type": "stream",
          "name": "stdout",
          "text": [
            "Missing: 30960\n",
            "Missing: 0\n"
          ]
        }
      ]
    },
    {
      "cell_type": "markdown",
      "source": [
        "applying for all of the corrupted data sets"
      ],
      "metadata": {
        "id": "bexZQCrpELVF"
      }
    },
    {
      "cell_type": "code",
      "source": [
        "# Takes 3minutes to complete\n",
        "\n",
        "Xs_knni_fitted = []\n",
        "\n",
        "for X in x_houses:\n",
        "  Xs_knni_fitted.append(knni_imputer(X))"
      ],
      "metadata": {
        "id": "Kj6LMgEpEMQK"
      },
      "execution_count": null,
      "outputs": []
    },
    {
      "cell_type": "markdown",
      "source": [
        "### Univariate imputation using sklearn SimpleImputer class"
      ],
      "metadata": {
        "id": "VJwC_2fRA5Jc"
      }
    },
    {
      "cell_type": "code",
      "source": [
        "Xs_simple_fitted = []\n",
        "\n",
        "def simple_imputer(data):\n",
        "  imputer = SimpleImputer(missing_values=np.nan, strategy='mean')\n",
        "  return imputer.fit_transform(data)"
      ],
      "metadata": {
        "id": "qQq4NC1TB0Tu"
      },
      "execution_count": null,
      "outputs": []
    },
    {
      "cell_type": "markdown",
      "source": [
        "Checking if it works"
      ],
      "metadata": {
        "id": "LskOtqbeCWL-"
      }
    },
    {
      "cell_type": "code",
      "source": [
        "print('Missing: %d' % sum(np.isnan(x_houses[0]).flatten()))\n",
        "Xs_simple_fitted.append(simple_imputer(x_houses[0]))\n",
        "print('Missing: %d' % sum(np.isnan(Xs_simple_fitted[0]).flatten()))\n"
      ],
      "metadata": {
        "colab": {
          "base_uri": "https://localhost:8080/"
        },
        "id": "rbmZw9sWB80y",
        "outputId": "5589d8ea-ad57-4f5a-fa2c-a52f0c364057"
      },
      "execution_count": null,
      "outputs": [
        {
          "output_type": "stream",
          "name": "stdout",
          "text": [
            "Missing: 30960\n",
            "Missing: 0\n"
          ]
        }
      ]
    },
    {
      "cell_type": "markdown",
      "source": [
        "applying for all of the corrupted data sets"
      ],
      "metadata": {
        "id": "KzEWjyEoEzIT"
      }
    },
    {
      "cell_type": "code",
      "source": [
        "# Takes <1s to complete\n",
        "\n",
        "Xs_simple_fitted = []\n",
        "\n",
        "for X in x_houses:\n",
        "  Xs_simple_fitted.append(simple_imputer(X))"
      ],
      "metadata": {
        "id": "JZBta03uFVIp"
      },
      "execution_count": null,
      "outputs": []
    },
    {
      "cell_type": "markdown",
      "source": [
        "### Multivariate Imputation using sklearn the IterativeImputer class\n"
      ],
      "metadata": {
        "id": "hf4aI-ErCYAx"
      }
    },
    {
      "cell_type": "code",
      "source": [
        "Xs_iterative_fitted = []\n",
        "\n",
        "def iterative_imputer(data):\n",
        "  imputer = IterativeImputer(max_iter=10)\n",
        "  return imputer.fit_transform(data)"
      ],
      "metadata": {
        "id": "LBZv5rUCDIBX"
      },
      "execution_count": null,
      "outputs": []
    },
    {
      "cell_type": "markdown",
      "source": [
        "Checking if it works"
      ],
      "metadata": {
        "id": "PtySi9IHDg3s"
      }
    },
    {
      "cell_type": "code",
      "source": [
        "print('Missing: %d' % sum(np.isnan(x_houses[0]).flatten()))\n",
        "Xs_iterative_fitted.append(iterative_imputer(x_houses[0]))\n",
        "print('Missing: %d' % sum(np.isnan(Xs_iterative_fitted[0]).flatten()))\n"
      ],
      "metadata": {
        "colab": {
          "base_uri": "https://localhost:8080/"
        },
        "id": "nn14MB3IDaZ0",
        "outputId": "bfd9b4dd-13a4-453a-b8a9-e265b696dd77"
      },
      "execution_count": null,
      "outputs": [
        {
          "output_type": "stream",
          "name": "stdout",
          "text": [
            "Missing: 30960\n",
            "Missing: 0\n"
          ]
        }
      ]
    },
    {
      "cell_type": "markdown",
      "source": [
        "applying for all of the corrupted data sets"
      ],
      "metadata": {
        "id": "B1woMku6Ez_L"
      }
    },
    {
      "cell_type": "code",
      "source": [
        "# Takes 5s to complete\n",
        "\n",
        "Xs_iterative_fitted = []\n",
        "\n",
        "for X in x_houses:\n",
        "  Xs_iterative_fitted.append(iterative_imputer(X))"
      ],
      "metadata": {
        "id": "AeN5-2-NFWEa"
      },
      "execution_count": null,
      "outputs": []
    },
    {
      "cell_type": "markdown",
      "source": [
        "## Performance results"
      ],
      "metadata": {
        "id": "9pJmUO80bUFZ"
      }
    },
    {
      "cell_type": "markdown",
      "source": [
        "The time imputation algorithm took to complete for all corrupted data sets:\n",
        "\n",
        "*   KNN - 184.84s\n",
        "*   Univariate - 0.006s\n",
        "*   Multivariate - 4.002s\n",
        "\n",
        "\n"
      ],
      "metadata": {
        "id": "R-Tnwt8DbaH9"
      }
    },
    {
      "cell_type": "markdown",
      "source": [
        "## Training our linear regression model using X with imputed values and y"
      ],
      "metadata": {
        "id": "EXeL_5_s17yV"
      }
    },
    {
      "cell_type": "code",
      "source": [
        "def linear_regression(X, Y):\n",
        "  np.random.seed(42)  ## this makes the model reproducible\n",
        "\n",
        "  kf = KFold(n_splits=4)  ## for k-fold validation\n",
        "\n",
        "  ## generate K=4 models, one for each fold\n",
        "  for train_index, test_index in kf.split(X):\n",
        "      X_train, X_test = X[train_index], X[test_index]\n",
        "      y_train, y_test = Y[train_index], Y[test_index]\n",
        "      \n",
        "      clf = LinearRegression()\n",
        "      clf.fit(X_train, y_train)\n",
        "      y_test_pred = clf.predict(X_test)\n",
        "\n",
        "  return(mean_squared_error(y_test, y_test_pred, squared=False))"
      ],
      "metadata": {
        "id": "jyIIGVLZwFnp"
      },
      "execution_count": null,
      "outputs": []
    },
    {
      "cell_type": "markdown",
      "source": [
        "### Performing linear regression for the orginal, not corrupted data"
      ],
      "metadata": {
        "id": "O_dc2hkRKIVg"
      }
    },
    {
      "cell_type": "code",
      "source": [
        "original_rmse = linear_regression(x_original, y_original)"
      ],
      "metadata": {
        "id": "hVFrfFD7JRBf"
      },
      "execution_count": null,
      "outputs": []
    },
    {
      "cell_type": "markdown",
      "source": [
        "### Performing linear regression for KNN imputed data\n",
        "\n"
      ],
      "metadata": {
        "id": "900e2UVNILRD"
      }
    },
    {
      "cell_type": "code",
      "source": [
        "index = 0\n",
        "knn_rmses = []\n",
        "\n",
        "for X in Xs_knni_fitted:\n",
        "  knn_rmses.append(linear_regression(X, y_houses[index]))\n",
        "  index+=1"
      ],
      "metadata": {
        "id": "7ZGrSIHJHeYj"
      },
      "execution_count": null,
      "outputs": []
    },
    {
      "cell_type": "code",
      "source": [
        "# Adding the original_rmse to the list for data vizualization\n",
        "\n",
        "knn_rmses.append(original_rmse)"
      ],
      "metadata": {
        "id": "ThEVjKpmJ48b"
      },
      "execution_count": null,
      "outputs": []
    },
    {
      "cell_type": "markdown",
      "source": [
        "### Performing linear regression for univariate imputed data"
      ],
      "metadata": {
        "id": "N6u6k0FiITHb"
      }
    },
    {
      "cell_type": "code",
      "source": [
        "index = 0\n",
        "uni_rmses = []\n",
        "\n",
        "for X in Xs_simple_fitted:\n",
        "  uni_rmses.append(linear_regression(X, y_houses[index]))\n",
        "  index+=1"
      ],
      "metadata": {
        "id": "2YTZSGXrIcEe"
      },
      "execution_count": null,
      "outputs": []
    },
    {
      "cell_type": "code",
      "source": [
        "# Adding the original_rmse to the list for data vizualization\n",
        "\n",
        "uni_rmses.append(original_rmse)"
      ],
      "metadata": {
        "id": "IY174cW5KCuv"
      },
      "execution_count": null,
      "outputs": []
    },
    {
      "cell_type": "markdown",
      "source": [
        "### Performing linear regression for multivariate imputed data\n"
      ],
      "metadata": {
        "id": "AF1SRIByIYs0"
      }
    },
    {
      "cell_type": "code",
      "source": [
        "index = 0\n",
        "multi_rmses = []\n",
        "\n",
        "for X in Xs_iterative_fitted:\n",
        "  multi_rmses.append(linear_regression(X, y_houses[index]))\n",
        "  index+=1"
      ],
      "metadata": {
        "id": "PJQpXhFTIc3b"
      },
      "execution_count": null,
      "outputs": []
    },
    {
      "cell_type": "code",
      "source": [
        "# Adding the original_rmse to the list for data vizualization\n",
        "\n",
        "multi_rmses.append(original_rmse)"
      ],
      "metadata": {
        "id": "WsMxQcR0KEY4"
      },
      "execution_count": null,
      "outputs": []
    },
    {
      "cell_type": "markdown",
      "source": [
        "# Evaluation"
      ],
      "metadata": {
        "id": "oaL2yEviAe3u"
      }
    },
    {
      "cell_type": "markdown",
      "source": [
        "For the evaluation of the results, I will be comparing RMSE of each linear regression model for corrupted datasets."
      ],
      "metadata": {
        "id": "bHyVxBipFyMj"
      }
    },
    {
      "cell_type": "markdown",
      "source": [
        "\"As the square root of a variance, RMSE can be interpreted as the standard deviation of the unexplained variance, and has the useful property of being in the same units as the response variable.\"\n",
        "\n",
        "[source](https://www.theanalysisfactor.com/assessing-the-fit-of-regression-models/)"
      ],
      "metadata": {
        "id": "cm2udcCbAlYv"
      }
    },
    {
      "cell_type": "markdown",
      "source": [
        "Therefore, **Lower values of RMSE indicate better fit.**"
      ],
      "metadata": {
        "id": "JnLhNV28Fwht"
      }
    },
    {
      "cell_type": "code",
      "source": [
        "missing_labels = [\n",
        "         'houses_0.01_MAR',\n",
        "         'houses_0.01_MCAR',\n",
        "         'houses_0.01_MNAR',\n",
        "         'houses_0.1_MAR',\n",
        "         'houses_0.1_MCAR',\n",
        "         'houses_0.1_MNAR',\n",
        "         'houses_0.5_MAR',\n",
        "         'houses_0.5_MCAR',\n",
        "         'houses_0.5_MNAR',\n",
        "         'original'\n",
        "]"
      ],
      "metadata": {
        "id": "7TGUVnkxF_SU"
      },
      "execution_count": null,
      "outputs": []
    },
    {
      "cell_type": "code",
      "source": [
        "import matplotlib.pyplot as plt\n",
        "\n",
        "\n",
        "n_bars = len(missing_labels)\n",
        "xval = np.arange(n_bars)\n",
        "limit = 65000\n",
        "\n",
        "fig, (ax1, ax2, ax3) = plt.subplots(sharey=True, \n",
        "                                    nrows=1, ncols=3, figsize=(18, 9))\n",
        "\n",
        "# plot KNN imputation results\n",
        "for j in xval:\n",
        "    ax1.barh(j, knn_rmses[j], \n",
        "             alpha=0.6, align='center')\n",
        "\n",
        "ax1.set_title('Nearest-neighbour imputation')\n",
        "ax1.set_yticks(xval)\n",
        "ax1.set_xlabel('RMSE')\n",
        "ax1.invert_yaxis()\n",
        "ax1.set_yticklabels(missing_labels)\n",
        "ax1.set_xlim(left=limit)\n",
        "ax1.grid(axis='x')\n",
        "\n",
        "# plot univariate imputation results\n",
        "for j in xval:\n",
        "    ax2.barh(j, uni_rmses[j], \n",
        "             alpha=0.6, align='center')\n",
        "\n",
        "ax2.set_title('Univariate imputation')\n",
        "ax2.set_yticks(xval)\n",
        "ax2.set_xlabel('RMSE')\n",
        "ax2.invert_yaxis()\n",
        "ax2.set_yticklabels(missing_labels)\n",
        "ax2.set_xlim(left=limit)\n",
        "ax2.grid(axis='x')\n",
        "\n",
        "# plot multivariate imputation results\n",
        "for j in xval:\n",
        "    ax3.barh(j, multi_rmses[j], \n",
        "             alpha=0.6, align='center')\n",
        "\n",
        "ax3.set_title('Multivariate imputation')\n",
        "ax3.set_yticks(xval)\n",
        "ax3.set_xlabel('RMSE')\n",
        "ax3.invert_yaxis()\n",
        "ax3.set_yticklabels(missing_labels)\n",
        "ax3.set_xlim(left=limit)\n",
        "ax3.grid(axis='x')"
      ],
      "metadata": {
        "colab": {
          "base_uri": "https://localhost:8080/",
          "height": 515
        },
        "id": "NdAi3hwaGa4u",
        "outputId": "1b87eb24-48ed-472d-a13f-7c8358c986c6"
      },
      "execution_count": null,
      "outputs": [
        {
          "output_type": "display_data",
          "data": {
            "image/png": "[encoded data removed]",
            "text/plain": [
              "<Figure size 1296x648 with 3 Axes>"
            ]
          },
          "metadata": {
            "needs_background": "light"
          }
        }
      ]
    },
    {
      "cell_type": "markdown",
      "source": [
        "MAR - Missing At Random\n",
        "\n",
        "MCAR - Missing Completely At Random\n",
        "\n",
        "MNAR - Missing Not At Random\n"
      ],
      "metadata": {
        "id": "d1pYmSpGQ_s4"
      }
    },
    {
      "cell_type": "markdown",
      "source": [
        "As expected, the original data set has the best RMSE score, which indicates that the regression model was somewhat correct."
      ],
      "metadata": {
        "id": "rEVXdR4lT6Kd"
      }
    },
    {
      "cell_type": "markdown",
      "source": [
        "### Evaluating the results against the hypotheses\n"
      ],
      "metadata": {
        "id": "dcplfg5Th17X"
      }
    },
    {
      "cell_type": "markdown",
      "source": [
        "#### First hypothesis"
      ],
      "metadata": {
        "id": "PnlPP-unh_hO"
      }
    },
    {
      "cell_type": "markdown",
      "source": [
        "The first hypothesis verified as predicted. The performance of the methods decreased as the complexity increases."
      ],
      "metadata": {
        "id": "WEVOFKx4j7T8"
      }
    },
    {
      "cell_type": "markdown",
      "source": [
        "The time imputation algorithm took to complete for all corrupted data sets:\n",
        "\n",
        "1.   Univariate - 0.006s\n",
        "2.   Multivariate - 4.002s\n",
        "3.   KNN - 184.84s\n"
      ],
      "metadata": {
        "id": "9BTXOCcAibwQ"
      }
    },
    {
      "cell_type": "markdown",
      "source": [
        "What is interesting is the magnitude of difference of KNN performance compared to other methods. "
      ],
      "metadata": {
        "id": "3HwxwryNiqw4"
      }
    },
    {
      "cell_type": "markdown",
      "source": [
        "#### Second hypothesis"
      ],
      "metadata": {
        "id": "ZaZZV6Ivjolb"
      }
    },
    {
      "cell_type": "markdown",
      "source": [
        "The second hypothesis is harder to evaluate as the effectiveness of different imputation methods differ on different missingness patters."
      ],
      "metadata": {
        "id": "eBDhHbDCkAZ1"
      }
    },
    {
      "cell_type": "markdown",
      "source": [
        "A way to evalue this numerically is add the RMSEs of each data sets and compare them.\n"
      ],
      "metadata": {
        "id": "kruuY1qgkZUT"
      }
    },
    {
      "cell_type": "code",
      "source": [
        "sum_rmse_knn = 0\n",
        "sum_rmse_uni = 0\n",
        "sum_rmse_multi = 0\n",
        "\n",
        "# Removing the last values from the lists as they are RMSE of the original data\n",
        "knn_rmses.pop()\n",
        "uni_rmses.pop()\n",
        "multi_rmses.pop()\n",
        "\n",
        "print(\"KNN RMSE sum is:\")\n",
        "print(sum(knn_rmses))\n",
        "print(\"Univariate RMSE sum is:\")\n",
        "print(sum(uni_rmses))\n",
        "print(\"Multivariate RMSE sum is:\")\n",
        "print(sum(multi_rmses))"
      ],
      "metadata": {
        "colab": {
          "base_uri": "https://localhost:8080/"
        },
        "id": "7JIGOI6skle1",
        "outputId": "d39ca3a9-51c2-4a2d-f6ce-523b45651a36"
      },
      "execution_count": null,
      "outputs": [
        {
          "output_type": "stream",
          "name": "stdout",
          "text": [
            "KNN RMSE sum is:\n",
            "731450.0640186911\n",
            "Univariate RMSE sum is:\n",
            "717884.1583549335\n",
            "Multivariate RMSE sum is:\n",
            "722152.8150917874\n"
          ]
        }
      ]
    },
    {
      "cell_type": "markdown",
      "source": [
        "Therefore, the effectiveness of each method are: \n",
        "\n",
        "\n",
        "1.   Univariate imputation\n",
        "2.   Multivariate imputation\n",
        "3.   KNN imputation\n",
        "\n"
      ],
      "metadata": {
        "id": "7aW0Xw02ln_V"
      }
    },
    {
      "cell_type": "markdown",
      "source": [
        "The results are the same as with performance. "
      ],
      "metadata": {
        "id": "YniiXI99mBoC"
      }
    },
    {
      "cell_type": "markdown",
      "source": [
        "I found this unexpected, as more complex methods yield worse performance and worse effectiveness. However, it's important to note that insufficient method parameter tuning and regression model hyperparameter could have caused it."
      ],
      "metadata": {
        "id": "wlmInBuDmE4K"
      }
    },
    {
      "cell_type": "markdown",
      "source": [
        "#### Third hypothesis"
      ],
      "metadata": {
        "id": "nueabvoRjqzU"
      }
    },
    {
      "cell_type": "markdown",
      "source": [
        "Looking into the graph, a pattern can be seen that the same data missingness pattern yield the simmilar RMSE results over the different imputation methods. However, the hypothesis does not verify as there is no clear pattern in the graph that there is a correlation between the missingness pattern and effectiveness that is consistent between the different imputation methods. "
      ],
      "metadata": {
        "id": "bgQEz_qNmpfH"
      }
    },
    {
      "cell_type": "markdown",
      "source": [
        "Interesting to note are a few unexpected results such as:\n",
        "\n",
        "*   The increase of performance while using univariate imputation on the `houses_0.5_MNAR` dataset compared to other methods.\n",
        "*   The decrease of performance while using KNN imputaton on the `houses_0.01_MAR` dataset compared to the other methods.\n",
        "\n"
      ],
      "metadata": {
        "id": "Ce25TC6Ro_HU"
      }
    },
    {
      "cell_type": "markdown",
      "source": [
        "### Extension of the research\n"
      ],
      "metadata": {
        "id": "aLzs2xROjHRz"
      }
    },
    {
      "cell_type": "markdown",
      "source": [
        "To extend this research it would be interesting to look into:\n",
        "\n",
        "*   how the different parameters of the methods influence the performace and effectiveness. \n",
        "*   how different regression tehniques influence the results.\n",
        "*   how the different hyperparameter of the regression algorithm influence the results.\n",
        "*   finding patters on how effective the imputation methods are on individual missingness patterns and magnitude and why.\n",
        "\n"
      ],
      "metadata": {
        "id": "52wnjj1ejKIE"
      }
    }
  ]
}